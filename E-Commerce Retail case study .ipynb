{
 "cells": [
  {
   "cell_type": "code",
   "execution_count": 1,
   "id": "33efde8c-530d-4668-a5e5-10f1f246769c",
   "metadata": {},
   "outputs": [],
   "source": [
    "# Importing required lbraries\n",
    "import numpy as np\n",
    "import pandas as pd\n",
    "import matplotlib.pyplot as plt\n",
    "import seaborn as sns\n",
    "\n",
    "%matplotlib inline\n",
    "\n",
    "import warnings\n",
    "warnings.filterwarnings(\"ignore\")"
   ]
  },
  {
   "cell_type": "markdown",
   "id": "7764e471-c2c6-4739-b5ed-2c89a08bb0a9",
   "metadata": {},
   "source": [
    "### Received payment data"
   ]
  },
  {
   "cell_type": "markdown",
   "id": "1e5c1ea3-22d7-474b-aa81-3d27671e92c7",
   "metadata": {},
   "source": [
    "#### Step 1: Reading and Understanding the data"
   ]
  },
  {
   "cell_type": "code",
   "execution_count": 4,
   "id": "188f03fb-a724-43e8-a968-e58096465649",
   "metadata": {},
   "outputs": [
    {
     "data": {
      "text/html": [
       "<div>\n",
       "<style scoped>\n",
       "    .dataframe tbody tr th:only-of-type {\n",
       "        vertical-align: middle;\n",
       "    }\n",
       "\n",
       "    .dataframe tbody tr th {\n",
       "        vertical-align: top;\n",
       "    }\n",
       "\n",
       "    .dataframe thead th {\n",
       "        text-align: right;\n",
       "    }\n",
       "</style>\n",
       "<table border=\"1\" class=\"dataframe\">\n",
       "  <thead>\n",
       "    <tr style=\"text-align: right;\">\n",
       "      <th></th>\n",
       "      <th>RECEIPT_METHOD</th>\n",
       "      <th>CUSTOMER_NAME</th>\n",
       "      <th>CUSTOMER_NUMBER</th>\n",
       "      <th>RECEIPT_DOC_NO</th>\n",
       "      <th>RECEIPT_DATE</th>\n",
       "      <th>CLASS</th>\n",
       "      <th>CURRENCY_CODE</th>\n",
       "      <th>Local Amount</th>\n",
       "      <th>USD Amount</th>\n",
       "      <th>INVOICE_ALLOCATED</th>\n",
       "      <th>INVOICE_CREATION_DATE</th>\n",
       "      <th>DUE_DATE</th>\n",
       "      <th>PAYMENT_TERM</th>\n",
       "      <th>INVOICE_CLASS</th>\n",
       "      <th>INVOICE_CURRENCY_CODE</th>\n",
       "      <th>INVOICE_TYPE</th>\n",
       "    </tr>\n",
       "  </thead>\n",
       "  <tbody>\n",
       "    <tr>\n",
       "      <th>0</th>\n",
       "      <td>WIRE</td>\n",
       "      <td>C EA Corp</td>\n",
       "      <td>37403</td>\n",
       "      <td>1.421000e+10</td>\n",
       "      <td>20-Apr-21</td>\n",
       "      <td>PMT</td>\n",
       "      <td>USD</td>\n",
       "      <td>370990.92</td>\n",
       "      <td>101018.63040</td>\n",
       "      <td>14200000001</td>\n",
       "      <td>2-Nov-20</td>\n",
       "      <td>30-Dec-20</td>\n",
       "      <td>30 Days from EOM</td>\n",
       "      <td>INV</td>\n",
       "      <td>AED</td>\n",
       "      <td>Non Goods</td>\n",
       "    </tr>\n",
       "    <tr>\n",
       "      <th>1</th>\n",
       "      <td>WIRE</td>\n",
       "      <td>RADW Corp</td>\n",
       "      <td>4003</td>\n",
       "      <td>9.921000e+10</td>\n",
       "      <td>31-Jan-21</td>\n",
       "      <td>PMT</td>\n",
       "      <td>SAR</td>\n",
       "      <td>183750.00</td>\n",
       "      <td>48990.21133</td>\n",
       "      <td>99200000043</td>\n",
       "      <td>29-Dec-20</td>\n",
       "      <td>28-Jan-21</td>\n",
       "      <td>30 Days from Inv Date</td>\n",
       "      <td>INV</td>\n",
       "      <td>SAR</td>\n",
       "      <td>Non Goods</td>\n",
       "    </tr>\n",
       "    <tr>\n",
       "      <th>2</th>\n",
       "      <td>WIRE</td>\n",
       "      <td>RADW Corp</td>\n",
       "      <td>4003</td>\n",
       "      <td>9.921000e+10</td>\n",
       "      <td>31-Jan-21</td>\n",
       "      <td>PMT</td>\n",
       "      <td>SAR</td>\n",
       "      <td>157500.00</td>\n",
       "      <td>41991.60971</td>\n",
       "      <td>99210000003</td>\n",
       "      <td>30-Jan-21</td>\n",
       "      <td>1-Mar-21</td>\n",
       "      <td>30 Days from Inv Date</td>\n",
       "      <td>INV</td>\n",
       "      <td>SAR</td>\n",
       "      <td>Non Goods</td>\n",
       "    </tr>\n",
       "    <tr>\n",
       "      <th>3</th>\n",
       "      <td>WIRE</td>\n",
       "      <td>FARO Corp</td>\n",
       "      <td>1409</td>\n",
       "      <td>9.921000e+10</td>\n",
       "      <td>31-Jan-21</td>\n",
       "      <td>PMT</td>\n",
       "      <td>SAR</td>\n",
       "      <td>157500.00</td>\n",
       "      <td>41991.60971</td>\n",
       "      <td>99200000038</td>\n",
       "      <td>15-Dec-20</td>\n",
       "      <td>14-Jan-21</td>\n",
       "      <td>30 Days from Inv Date</td>\n",
       "      <td>INV</td>\n",
       "      <td>SAR</td>\n",
       "      <td>Non Goods</td>\n",
       "    </tr>\n",
       "    <tr>\n",
       "      <th>4</th>\n",
       "      <td>WIRE</td>\n",
       "      <td>RADW Corp</td>\n",
       "      <td>4003</td>\n",
       "      <td>9.921000e+10</td>\n",
       "      <td>31-Jan-21</td>\n",
       "      <td>PMT</td>\n",
       "      <td>SAR</td>\n",
       "      <td>157500.00</td>\n",
       "      <td>41991.60971</td>\n",
       "      <td>99200000039</td>\n",
       "      <td>15-Dec-20</td>\n",
       "      <td>14-Jan-21</td>\n",
       "      <td>30 Days from Inv Date</td>\n",
       "      <td>INV</td>\n",
       "      <td>SAR</td>\n",
       "      <td>Non Goods</td>\n",
       "    </tr>\n",
       "  </tbody>\n",
       "</table>\n",
       "</div>"
      ],
      "text/plain": [
       "  RECEIPT_METHOD CUSTOMER_NAME  CUSTOMER_NUMBER  RECEIPT_DOC_NO RECEIPT_DATE  \\\n",
       "0           WIRE     C EA Corp            37403    1.421000e+10    20-Apr-21   \n",
       "1           WIRE     RADW Corp             4003    9.921000e+10    31-Jan-21   \n",
       "2           WIRE     RADW Corp             4003    9.921000e+10    31-Jan-21   \n",
       "3           WIRE     FARO Corp             1409    9.921000e+10    31-Jan-21   \n",
       "4           WIRE     RADW Corp             4003    9.921000e+10    31-Jan-21   \n",
       "\n",
       "  CLASS CURRENCY_CODE  Local Amount    USD Amount INVOICE_ALLOCATED  \\\n",
       "0   PMT           USD     370990.92  101018.63040       14200000001   \n",
       "1   PMT           SAR     183750.00   48990.21133       99200000043   \n",
       "2   PMT           SAR     157500.00   41991.60971       99210000003   \n",
       "3   PMT           SAR     157500.00   41991.60971       99200000038   \n",
       "4   PMT           SAR     157500.00   41991.60971       99200000039   \n",
       "\n",
       "  INVOICE_CREATION_DATE   DUE_DATE           PAYMENT_TERM INVOICE_CLASS  \\\n",
       "0              2-Nov-20  30-Dec-20       30 Days from EOM           INV   \n",
       "1             29-Dec-20  28-Jan-21  30 Days from Inv Date           INV   \n",
       "2             30-Jan-21   1-Mar-21  30 Days from Inv Date           INV   \n",
       "3             15-Dec-20  14-Jan-21  30 Days from Inv Date           INV   \n",
       "4             15-Dec-20  14-Jan-21  30 Days from Inv Date           INV   \n",
       "\n",
       "  INVOICE_CURRENCY_CODE INVOICE_TYPE  \n",
       "0                   AED    Non Goods  \n",
       "1                   SAR    Non Goods  \n",
       "2                   SAR    Non Goods  \n",
       "3                   SAR    Non Goods  \n",
       "4                   SAR    Non Goods  "
      ]
     },
     "execution_count": 4,
     "metadata": {},
     "output_type": "execute_result"
    }
   ],
   "source": [
    "# Reading the dataset\n",
    "rec_pay_data = pd.read_csv(\"C:\\\\Users\\\\SHRADDHA\\\\Downloads\\\\Received_Payments_Data (2).csv\")\n",
    "rec_pay_data.head()"
   ]
  },
  {
   "cell_type": "code",
   "execution_count": 5,
   "id": "abb0b847-d8d5-4841-add1-ccafa404691f",
   "metadata": {},
   "outputs": [
    {
     "data": {
      "text/plain": [
       "(93937, 16)"
      ]
     },
     "execution_count": 5,
     "metadata": {},
     "output_type": "execute_result"
    }
   ],
   "source": [
    "# Checking the shape of the data\n",
    "rec_pay_data.shape"
   ]
  },
  {
   "cell_type": "code",
   "execution_count": 6,
   "id": "0c832a1e-1f70-484d-abdb-ae7fe841ef25",
   "metadata": {},
   "outputs": [
    {
     "name": "stdout",
     "output_type": "stream",
     "text": [
      "<class 'pandas.core.frame.DataFrame'>\n",
      "RangeIndex: 93937 entries, 0 to 93936\n",
      "Data columns (total 16 columns):\n",
      " #   Column                 Non-Null Count  Dtype  \n",
      "---  ------                 --------------  -----  \n",
      " 0   RECEIPT_METHOD         93937 non-null  object \n",
      " 1   CUSTOMER_NAME          93937 non-null  object \n",
      " 2   CUSTOMER_NUMBER        93937 non-null  int64  \n",
      " 3   RECEIPT_DOC_NO         93908 non-null  float64\n",
      " 4   RECEIPT_DATE           93937 non-null  object \n",
      " 5   CLASS                  93937 non-null  object \n",
      " 6   CURRENCY_CODE          93937 non-null  object \n",
      " 7   Local Amount           93937 non-null  float64\n",
      " 8   USD Amount             93937 non-null  float64\n",
      " 9   INVOICE_ALLOCATED      93937 non-null  object \n",
      " 10  INVOICE_CREATION_DATE  93937 non-null  object \n",
      " 11  DUE_DATE               93937 non-null  object \n",
      " 12  PAYMENT_TERM           93937 non-null  object \n",
      " 13  INVOICE_CLASS          93937 non-null  object \n",
      " 14  INVOICE_CURRENCY_CODE  93937 non-null  object \n",
      " 15  INVOICE_TYPE           93937 non-null  object \n",
      "dtypes: float64(3), int64(1), object(12)\n",
      "memory usage: 11.5+ MB\n"
     ]
    }
   ],
   "source": [
    "# Checking the info of the dataset\n",
    "rec_pay_data.info()"
   ]
  },
  {
   "cell_type": "code",
   "execution_count": 7,
   "id": "1f1acadf-ca46-4739-8c6a-8ba41b1f9e11",
   "metadata": {},
   "outputs": [
    {
     "data": {
      "text/html": [
       "<div>\n",
       "<style scoped>\n",
       "    .dataframe tbody tr th:only-of-type {\n",
       "        vertical-align: middle;\n",
       "    }\n",
       "\n",
       "    .dataframe tbody tr th {\n",
       "        vertical-align: top;\n",
       "    }\n",
       "\n",
       "    .dataframe thead th {\n",
       "        text-align: right;\n",
       "    }\n",
       "</style>\n",
       "<table border=\"1\" class=\"dataframe\">\n",
       "  <thead>\n",
       "    <tr style=\"text-align: right;\">\n",
       "      <th></th>\n",
       "      <th>CUSTOMER_NUMBER</th>\n",
       "      <th>RECEIPT_DOC_NO</th>\n",
       "      <th>Local Amount</th>\n",
       "      <th>USD Amount</th>\n",
       "    </tr>\n",
       "  </thead>\n",
       "  <tbody>\n",
       "    <tr>\n",
       "      <th>count</th>\n",
       "      <td>93937.000000</td>\n",
       "      <td>9.390800e+04</td>\n",
       "      <td>9.393700e+04</td>\n",
       "      <td>9.393700e+04</td>\n",
       "    </tr>\n",
       "    <tr>\n",
       "      <th>mean</th>\n",
       "      <td>12753.874033</td>\n",
       "      <td>1.583908e+11</td>\n",
       "      <td>1.066470e+06</td>\n",
       "      <td>5.312013e+05</td>\n",
       "    </tr>\n",
       "    <tr>\n",
       "      <th>std</th>\n",
       "      <td>14274.170829</td>\n",
       "      <td>3.885359e+10</td>\n",
       "      <td>1.546901e+06</td>\n",
       "      <td>9.508693e+05</td>\n",
       "    </tr>\n",
       "    <tr>\n",
       "      <th>min</th>\n",
       "      <td>1044.000000</td>\n",
       "      <td>1.421000e+10</td>\n",
       "      <td>0.000000e+00</td>\n",
       "      <td>0.000000e+00</td>\n",
       "    </tr>\n",
       "    <tr>\n",
       "      <th>25%</th>\n",
       "      <td>1888.000000</td>\n",
       "      <td>1.470000e+11</td>\n",
       "      <td>8.198039e+04</td>\n",
       "      <td>3.766298e+04</td>\n",
       "    </tr>\n",
       "    <tr>\n",
       "      <th>50%</th>\n",
       "      <td>4003.000000</td>\n",
       "      <td>1.510000e+11</td>\n",
       "      <td>4.053438e+05</td>\n",
       "      <td>1.810010e+05</td>\n",
       "    </tr>\n",
       "    <tr>\n",
       "      <th>75%</th>\n",
       "      <td>20884.000000</td>\n",
       "      <td>1.690000e+11</td>\n",
       "      <td>1.425606e+06</td>\n",
       "      <td>5.996137e+05</td>\n",
       "    </tr>\n",
       "    <tr>\n",
       "      <th>max</th>\n",
       "      <td>52940.000000</td>\n",
       "      <td>2.970000e+11</td>\n",
       "      <td>1.084983e+07</td>\n",
       "      <td>1.084983e+07</td>\n",
       "    </tr>\n",
       "  </tbody>\n",
       "</table>\n",
       "</div>"
      ],
      "text/plain": [
       "       CUSTOMER_NUMBER  RECEIPT_DOC_NO  Local Amount    USD Amount\n",
       "count     93937.000000    9.390800e+04  9.393700e+04  9.393700e+04\n",
       "mean      12753.874033    1.583908e+11  1.066470e+06  5.312013e+05\n",
       "std       14274.170829    3.885359e+10  1.546901e+06  9.508693e+05\n",
       "min        1044.000000    1.421000e+10  0.000000e+00  0.000000e+00\n",
       "25%        1888.000000    1.470000e+11  8.198039e+04  3.766298e+04\n",
       "50%        4003.000000    1.510000e+11  4.053438e+05  1.810010e+05\n",
       "75%       20884.000000    1.690000e+11  1.425606e+06  5.996137e+05\n",
       "max       52940.000000    2.970000e+11  1.084983e+07  1.084983e+07"
      ]
     },
     "execution_count": 7,
     "metadata": {},
     "output_type": "execute_result"
    }
   ],
   "source": [
    "# Checking the distribution of data\n",
    "rec_pay_data.describe()"
   ]
  },
  {
   "cell_type": "code",
   "execution_count": 8,
   "id": "41842679-2f47-43eb-ac8a-9326ee849e22",
   "metadata": {},
   "outputs": [
    {
     "data": {
      "text/plain": [
       "RECEIPT_METHOD               8\n",
       "CUSTOMER_NAME              690\n",
       "CUSTOMER_NUMBER           1054\n",
       "RECEIPT_DOC_NO              73\n",
       "RECEIPT_DATE               170\n",
       "CLASS                        1\n",
       "CURRENCY_CODE                8\n",
       "Local Amount              7752\n",
       "USD Amount                7820\n",
       "INVOICE_ALLOCATED        12986\n",
       "INVOICE_CREATION_DATE     1310\n",
       "DUE_DATE                  1203\n",
       "PAYMENT_TERM                42\n",
       "INVOICE_CLASS                3\n",
       "INVOICE_CURRENCY_CODE       10\n",
       "INVOICE_TYPE                 2\n",
       "dtype: int64"
      ]
     },
     "execution_count": 8,
     "metadata": {},
     "output_type": "execute_result"
    }
   ],
   "source": [
    "# checking number of unique values in each column\n",
    "rec_pay_data.nunique()"
   ]
  },
  {
   "cell_type": "code",
   "execution_count": 9,
   "id": "8c61d9fd-61d5-4194-a1cf-b0f373407fad",
   "metadata": {},
   "outputs": [
    {
     "data": {
      "text/plain": [
       "RECEIPT_METHOD           0.0000\n",
       "CUSTOMER_NAME            0.0000\n",
       "CUSTOMER_NUMBER          0.0000\n",
       "RECEIPT_DOC_NO           0.0003\n",
       "RECEIPT_DATE             0.0000\n",
       "CLASS                    0.0000\n",
       "CURRENCY_CODE            0.0000\n",
       "Local Amount             0.0000\n",
       "USD Amount               0.0000\n",
       "INVOICE_ALLOCATED        0.0000\n",
       "INVOICE_CREATION_DATE    0.0000\n",
       "DUE_DATE                 0.0000\n",
       "PAYMENT_TERM             0.0000\n",
       "INVOICE_CLASS            0.0000\n",
       "INVOICE_CURRENCY_CODE    0.0000\n",
       "INVOICE_TYPE             0.0000\n",
       "dtype: float64"
      ]
     },
     "execution_count": 9,
     "metadata": {},
     "output_type": "execute_result"
    }
   ],
   "source": [
    "# Null counts\n",
    "round(rec_pay_data.isna().sum()/len(rec_pay_data.index), 4)"
   ]
  },
  {
   "cell_type": "markdown",
   "id": "bbf31ff2-3eb1-4192-8c20-31624bea2af6",
   "metadata": {},
   "source": [
    "#### The \"RECEIPT_DOC_NO\" col has 0.03% null values. Dropping the columns as it is not important for model building."
   ]
  },
  {
   "cell_type": "code",
   "execution_count": 11,
   "id": "ee0dc0a2-f3ef-46f1-b927-041e1a1825f2",
   "metadata": {},
   "outputs": [
    {
     "data": {
      "text/html": [
       "<div>\n",
       "<style scoped>\n",
       "    .dataframe tbody tr th:only-of-type {\n",
       "        vertical-align: middle;\n",
       "    }\n",
       "\n",
       "    .dataframe tbody tr th {\n",
       "        vertical-align: top;\n",
       "    }\n",
       "\n",
       "    .dataframe thead th {\n",
       "        text-align: right;\n",
       "    }\n",
       "</style>\n",
       "<table border=\"1\" class=\"dataframe\">\n",
       "  <thead>\n",
       "    <tr style=\"text-align: right;\">\n",
       "      <th></th>\n",
       "      <th>RECEIPT_METHOD</th>\n",
       "      <th>CUSTOMER_NAME</th>\n",
       "      <th>CUSTOMER_NUMBER</th>\n",
       "      <th>RECEIPT_DATE</th>\n",
       "      <th>CLASS</th>\n",
       "      <th>CURRENCY_CODE</th>\n",
       "      <th>Local Amount</th>\n",
       "      <th>USD Amount</th>\n",
       "      <th>INVOICE_ALLOCATED</th>\n",
       "      <th>INVOICE_CREATION_DATE</th>\n",
       "      <th>DUE_DATE</th>\n",
       "      <th>PAYMENT_TERM</th>\n",
       "      <th>INVOICE_CLASS</th>\n",
       "      <th>INVOICE_CURRENCY_CODE</th>\n",
       "      <th>INVOICE_TYPE</th>\n",
       "    </tr>\n",
       "  </thead>\n",
       "  <tbody>\n",
       "    <tr>\n",
       "      <th>0</th>\n",
       "      <td>WIRE</td>\n",
       "      <td>C EA Corp</td>\n",
       "      <td>37403</td>\n",
       "      <td>20-Apr-21</td>\n",
       "      <td>PMT</td>\n",
       "      <td>USD</td>\n",
       "      <td>370990.92</td>\n",
       "      <td>101018.63040</td>\n",
       "      <td>14200000001</td>\n",
       "      <td>2-Nov-20</td>\n",
       "      <td>30-Dec-20</td>\n",
       "      <td>30 Days from EOM</td>\n",
       "      <td>INV</td>\n",
       "      <td>AED</td>\n",
       "      <td>Non Goods</td>\n",
       "    </tr>\n",
       "    <tr>\n",
       "      <th>1</th>\n",
       "      <td>WIRE</td>\n",
       "      <td>RADW Corp</td>\n",
       "      <td>4003</td>\n",
       "      <td>31-Jan-21</td>\n",
       "      <td>PMT</td>\n",
       "      <td>SAR</td>\n",
       "      <td>183750.00</td>\n",
       "      <td>48990.21133</td>\n",
       "      <td>99200000043</td>\n",
       "      <td>29-Dec-20</td>\n",
       "      <td>28-Jan-21</td>\n",
       "      <td>30 Days from Inv Date</td>\n",
       "      <td>INV</td>\n",
       "      <td>SAR</td>\n",
       "      <td>Non Goods</td>\n",
       "    </tr>\n",
       "    <tr>\n",
       "      <th>2</th>\n",
       "      <td>WIRE</td>\n",
       "      <td>RADW Corp</td>\n",
       "      <td>4003</td>\n",
       "      <td>31-Jan-21</td>\n",
       "      <td>PMT</td>\n",
       "      <td>SAR</td>\n",
       "      <td>157500.00</td>\n",
       "      <td>41991.60971</td>\n",
       "      <td>99210000003</td>\n",
       "      <td>30-Jan-21</td>\n",
       "      <td>1-Mar-21</td>\n",
       "      <td>30 Days from Inv Date</td>\n",
       "      <td>INV</td>\n",
       "      <td>SAR</td>\n",
       "      <td>Non Goods</td>\n",
       "    </tr>\n",
       "    <tr>\n",
       "      <th>3</th>\n",
       "      <td>WIRE</td>\n",
       "      <td>FARO Corp</td>\n",
       "      <td>1409</td>\n",
       "      <td>31-Jan-21</td>\n",
       "      <td>PMT</td>\n",
       "      <td>SAR</td>\n",
       "      <td>157500.00</td>\n",
       "      <td>41991.60971</td>\n",
       "      <td>99200000038</td>\n",
       "      <td>15-Dec-20</td>\n",
       "      <td>14-Jan-21</td>\n",
       "      <td>30 Days from Inv Date</td>\n",
       "      <td>INV</td>\n",
       "      <td>SAR</td>\n",
       "      <td>Non Goods</td>\n",
       "    </tr>\n",
       "    <tr>\n",
       "      <th>4</th>\n",
       "      <td>WIRE</td>\n",
       "      <td>RADW Corp</td>\n",
       "      <td>4003</td>\n",
       "      <td>31-Jan-21</td>\n",
       "      <td>PMT</td>\n",
       "      <td>SAR</td>\n",
       "      <td>157500.00</td>\n",
       "      <td>41991.60971</td>\n",
       "      <td>99200000039</td>\n",
       "      <td>15-Dec-20</td>\n",
       "      <td>14-Jan-21</td>\n",
       "      <td>30 Days from Inv Date</td>\n",
       "      <td>INV</td>\n",
       "      <td>SAR</td>\n",
       "      <td>Non Goods</td>\n",
       "    </tr>\n",
       "  </tbody>\n",
       "</table>\n",
       "</div>"
      ],
      "text/plain": [
       "  RECEIPT_METHOD CUSTOMER_NAME  CUSTOMER_NUMBER RECEIPT_DATE CLASS  \\\n",
       "0           WIRE     C EA Corp            37403    20-Apr-21   PMT   \n",
       "1           WIRE     RADW Corp             4003    31-Jan-21   PMT   \n",
       "2           WIRE     RADW Corp             4003    31-Jan-21   PMT   \n",
       "3           WIRE     FARO Corp             1409    31-Jan-21   PMT   \n",
       "4           WIRE     RADW Corp             4003    31-Jan-21   PMT   \n",
       "\n",
       "  CURRENCY_CODE  Local Amount    USD Amount INVOICE_ALLOCATED  \\\n",
       "0           USD     370990.92  101018.63040       14200000001   \n",
       "1           SAR     183750.00   48990.21133       99200000043   \n",
       "2           SAR     157500.00   41991.60971       99210000003   \n",
       "3           SAR     157500.00   41991.60971       99200000038   \n",
       "4           SAR     157500.00   41991.60971       99200000039   \n",
       "\n",
       "  INVOICE_CREATION_DATE   DUE_DATE           PAYMENT_TERM INVOICE_CLASS  \\\n",
       "0              2-Nov-20  30-Dec-20       30 Days from EOM           INV   \n",
       "1             29-Dec-20  28-Jan-21  30 Days from Inv Date           INV   \n",
       "2             30-Jan-21   1-Mar-21  30 Days from Inv Date           INV   \n",
       "3             15-Dec-20  14-Jan-21  30 Days from Inv Date           INV   \n",
       "4             15-Dec-20  14-Jan-21  30 Days from Inv Date           INV   \n",
       "\n",
       "  INVOICE_CURRENCY_CODE INVOICE_TYPE  \n",
       "0                   AED    Non Goods  \n",
       "1                   SAR    Non Goods  \n",
       "2                   SAR    Non Goods  \n",
       "3                   SAR    Non Goods  \n",
       "4                   SAR    Non Goods  "
      ]
     },
     "execution_count": 11,
     "metadata": {},
     "output_type": "execute_result"
    }
   ],
   "source": [
    "# Dropping the \"RECEIPT_DOC_NO\" column\n",
    "rec_pay_data.drop('RECEIPT_DOC_NO', axis=1, inplace=True)\n",
    "\n",
    "# Checking the head of data again\n",
    "rec_pay_data.head()"
   ]
  },
  {
   "cell_type": "code",
   "execution_count": 12,
   "id": "6e4dd3cd-0767-46b2-91af-d9d905bcec0b",
   "metadata": {},
   "outputs": [],
   "source": [
    "# Changing the date related columns to pandas datatime object\n",
    "\n",
    "rec_pay_data['RECEIPT_DATE'] = pd.to_datetime(rec_pay_data['RECEIPT_DATE'])\n",
    "rec_pay_data['INVOICE_CREATION_DATE'] = pd.to_datetime(rec_pay_data['INVOICE_CREATION_DATE'])\n",
    "rec_pay_data['DUE_DATE'] = pd.to_datetime(rec_pay_data['DUE_DATE'])"
   ]
  },
  {
   "cell_type": "code",
   "execution_count": 13,
   "id": "9df80067-f734-461a-ac2b-dea346d987fe",
   "metadata": {},
   "outputs": [
    {
     "name": "stdout",
     "output_type": "stream",
     "text": [
      "<class 'pandas.core.frame.DataFrame'>\n",
      "RangeIndex: 93937 entries, 0 to 93936\n",
      "Data columns (total 15 columns):\n",
      " #   Column                 Non-Null Count  Dtype         \n",
      "---  ------                 --------------  -----         \n",
      " 0   RECEIPT_METHOD         93937 non-null  object        \n",
      " 1   CUSTOMER_NAME          93937 non-null  object        \n",
      " 2   CUSTOMER_NUMBER        93937 non-null  int64         \n",
      " 3   RECEIPT_DATE           93937 non-null  datetime64[ns]\n",
      " 4   CLASS                  93937 non-null  object        \n",
      " 5   CURRENCY_CODE          93937 non-null  object        \n",
      " 6   Local Amount           93937 non-null  float64       \n",
      " 7   USD Amount             93937 non-null  float64       \n",
      " 8   INVOICE_ALLOCATED      93937 non-null  object        \n",
      " 9   INVOICE_CREATION_DATE  93937 non-null  datetime64[ns]\n",
      " 10  DUE_DATE               93937 non-null  datetime64[ns]\n",
      " 11  PAYMENT_TERM           93937 non-null  object        \n",
      " 12  INVOICE_CLASS          93937 non-null  object        \n",
      " 13  INVOICE_CURRENCY_CODE  93937 non-null  object        \n",
      " 14  INVOICE_TYPE           93937 non-null  object        \n",
      "dtypes: datetime64[ns](3), float64(2), int64(1), object(9)\n",
      "memory usage: 10.8+ MB\n"
     ]
    }
   ],
   "source": [
    "rec_pay_data.info() # Sanity check"
   ]
  },
  {
   "cell_type": "markdown",
   "id": "460632d1-15e1-4fca-80f1-20022eda3f34",
   "metadata": {},
   "source": [
    "#### Creating the target column 'default' based on the late bill payment."
   ]
  },
  {
   "cell_type": "code",
   "execution_count": 15,
   "id": "43bd2e36-19c3-42dc-b752-35396ce10e8a",
   "metadata": {},
   "outputs": [],
   "source": [
    "# Using boolean values and converting them into integer to create the target column 'default'\n",
    "rec_pay_data['default'] = (rec_pay_data[\"RECEIPT_DATE\"] > rec_pay_data[\"DUE_DATE\"]).astype(int)\n"
   ]
  },
  {
   "cell_type": "code",
   "execution_count": 16,
   "id": "682b9237-794b-4890-aac5-41110f86684e",
   "metadata": {},
   "outputs": [
    {
     "data": {
      "text/plain": [
       "default\n",
       "1    61978\n",
       "0    31959\n",
       "Name: count, dtype: int64"
      ]
     },
     "execution_count": 16,
     "metadata": {},
     "output_type": "execute_result"
    }
   ],
   "source": [
    "# Checking the count of defaulted bill payments\n",
    "rec_pay_data.default.value_counts()"
   ]
  },
  {
   "cell_type": "code",
   "execution_count": 17,
   "id": "9ff9cd93-f2da-42bf-a295-89a221fecf54",
   "metadata": {},
   "outputs": [
    {
     "data": {
      "text/plain": [
       "default\n",
       "1    0.659783\n",
       "0    0.340217\n",
       "Name: proportion, dtype: float64"
      ]
     },
     "execution_count": 17,
     "metadata": {},
     "output_type": "execute_result"
    }
   ],
   "source": [
    "\n",
    "# Checking the percentage of defaulted bill payments\n",
    "rec_pay_data.default.value_counts(normalize=True)"
   ]
  },
  {
   "cell_type": "markdown",
   "id": "e887d1a8-632c-4623-b7cc-00ab1d990382",
   "metadata": {},
   "source": [
    "#### Step 2: Exploratory Data Analysis"
   ]
  },
  {
   "cell_type": "code",
   "execution_count": 19,
   "id": "9660a214-f7b8-42da-9088-d7b995553687",
   "metadata": {},
   "outputs": [],
   "source": [
    "# Categorical Columns\n",
    "cat_cols= ['CUSTOMER_NAME','CLASS','CURRENCY_CODE','PAYMENT_TERM','INVOICE_CLASS','INVOICE_CURRENCY_CODE', 'INVOICE_TYPE',\n",
    "           'RECEIPT_METHOD']\n",
    "\n",
    "# Numerical Columns\n",
    "num_cols= ['Local Amount', 'USD Amount']"
   ]
  },
  {
   "cell_type": "markdown",
   "id": "4e5b6ccb-ffe3-410c-9a5b-9c0d36d15eaa",
   "metadata": {},
   "source": [
    "#### Univariate Analysis"
   ]
  },
  {
   "cell_type": "markdown",
   "id": "7c7ea471-2b0f-4b12-8179-00d5420b58bf",
   "metadata": {},
   "source": [
    "#### Numerical Columns"
   ]
  },
  {
   "cell_type": "code",
   "execution_count": 22,
   "id": "70d064c6-bb82-47a2-bd82-9802cee0ffbf",
   "metadata": {},
   "outputs": [
    {
     "data": {
      "text/plain": [
       "count       93937.0\n",
       "mean      1066470.0\n",
       "std       1546901.0\n",
       "min             0.0\n",
       "25%         81980.0\n",
       "50%        405344.0\n",
       "75%       1425606.0\n",
       "max      10849829.0\n",
       "Name: Local Amount, dtype: float64"
      ]
     },
     "execution_count": 22,
     "metadata": {},
     "output_type": "execute_result"
    }
   ],
   "source": [
    "# 'Local Amount' column summary\n",
    "rec_pay_data['Local Amount'].describe().round()"
   ]
  },
  {
   "cell_type": "code",
   "execution_count": 23,
   "id": "4707daa2-f7ba-44aa-87b2-b2ff1d1b7436",
   "metadata": {},
   "outputs": [
    {
     "data": {
      "text/plain": [
       "(1126, 16)"
      ]
     },
     "execution_count": 23,
     "metadata": {},
     "output_type": "execute_result"
    }
   ],
   "source": [
    "# Checking the number of bills with Local Amount equal to 0\n",
    "rec_pay_data[rec_pay_data['Local Amount'] == 0].shape"
   ]
  },
  {
   "cell_type": "markdown",
   "id": "a52dbad6-3630-4017-803c-1264c2c6db4d",
   "metadata": {},
   "source": [
    "#### 1126 bills have amount equal to 0, hence dropping these rows."
   ]
  },
  {
   "cell_type": "code",
   "execution_count": 25,
   "id": "594b30e0-1794-457d-bf5f-f5dacd6c437e",
   "metadata": {},
   "outputs": [
    {
     "data": {
      "text/plain": [
       "(92811, 16)"
      ]
     },
     "execution_count": 25,
     "metadata": {},
     "output_type": "execute_result"
    }
   ],
   "source": [
    "# Dropping the rows with 'Local Amount' = 0\n",
    "rec_pay_data = rec_pay_data[rec_pay_data['Local Amount'] > 0]\n",
    "\n",
    "# Checking the shape again\n",
    "rec_pay_data.shape"
   ]
  },
  {
   "cell_type": "code",
   "execution_count": 26,
   "id": "0948aa3e-7b57-4e3f-a533-29969c487dd8",
   "metadata": {},
   "outputs": [
    {
     "data": {
      "text/plain": [
       "count       92811.0\n",
       "mean      1079408.0\n",
       "std       1551763.0\n",
       "min             5.0\n",
       "25%         90577.0\n",
       "50%        415084.0\n",
       "75%       1465108.0\n",
       "max      10849829.0\n",
       "Name: Local Amount, dtype: float64"
      ]
     },
     "execution_count": 26,
     "metadata": {},
     "output_type": "execute_result"
    }
   ],
   "source": [
    "# Checking the summary of 'Local Amount' column again\n",
    "rec_pay_data['Local Amount'].describe().round()"
   ]
  },
  {
   "cell_type": "code",
   "execution_count": 27,
   "id": "3bd09745-f85d-4990-af20-9c0aece6e30e",
   "metadata": {},
   "outputs": [
    {
     "data": {
      "image/png": "[encoded data removed]",
      "text/plain": [
       "<Figure size 1200x600 with 2 Axes>"
      ]
     },
     "metadata": {},
     "output_type": "display_data"
    }
   ],
   "source": [
    "# Visualizing the distribution of 'Local Amount' column\n",
    "\n",
    "plt.figure(figsize=(12,6))\n",
    "\n",
    "plt.subplot(1,2,1)\n",
    "sns.distplot(rec_pay_data['Local Amount'])\n",
    "plt.title(\"Local Amount Distribution\")\n",
    "\n",
    "plt.subplot(1,2,2)\n",
    "sns.boxplot(rec_pay_data['Local Amount'])\n",
    "plt.title(\"Local Amount Box Plot\")\n",
    "\n",
    "plt.show()"
   ]
  },
  {
   "cell_type": "markdown",
   "id": "656b0e88-218c-4e01-8988-7fe8b8abc985",
   "metadata": {},
   "source": [
    "####  Dropping the 'Local Amount' column as it does not have a single currency value and we already have 'USD Amount' column for bill amount."
   ]
  },
  {
   "cell_type": "code",
   "execution_count": 29,
   "id": "3eb460f3-c522-463e-8f5b-ecc79dfabf29",
   "metadata": {},
   "outputs": [
    {
     "data": {
      "text/html": [
       "<div>\n",
       "<style scoped>\n",
       "    .dataframe tbody tr th:only-of-type {\n",
       "        vertical-align: middle;\n",
       "    }\n",
       "\n",
       "    .dataframe tbody tr th {\n",
       "        vertical-align: top;\n",
       "    }\n",
       "\n",
       "    .dataframe thead th {\n",
       "        text-align: right;\n",
       "    }\n",
       "</style>\n",
       "<table border=\"1\" class=\"dataframe\">\n",
       "  <thead>\n",
       "    <tr style=\"text-align: right;\">\n",
       "      <th></th>\n",
       "      <th>RECEIPT_METHOD</th>\n",
       "      <th>CUSTOMER_NAME</th>\n",
       "      <th>CUSTOMER_NUMBER</th>\n",
       "      <th>RECEIPT_DATE</th>\n",
       "      <th>CLASS</th>\n",
       "      <th>CURRENCY_CODE</th>\n",
       "      <th>USD Amount</th>\n",
       "      <th>INVOICE_ALLOCATED</th>\n",
       "      <th>INVOICE_CREATION_DATE</th>\n",
       "      <th>DUE_DATE</th>\n",
       "      <th>PAYMENT_TERM</th>\n",
       "      <th>INVOICE_CLASS</th>\n",
       "      <th>INVOICE_CURRENCY_CODE</th>\n",
       "      <th>INVOICE_TYPE</th>\n",
       "      <th>default</th>\n",
       "    </tr>\n",
       "  </thead>\n",
       "  <tbody>\n",
       "    <tr>\n",
       "      <th>0</th>\n",
       "      <td>WIRE</td>\n",
       "      <td>C EA Corp</td>\n",
       "      <td>37403</td>\n",
       "      <td>2021-04-20</td>\n",
       "      <td>PMT</td>\n",
       "      <td>USD</td>\n",
       "      <td>101018.63040</td>\n",
       "      <td>14200000001</td>\n",
       "      <td>2020-11-02</td>\n",
       "      <td>2020-12-30</td>\n",
       "      <td>30 Days from EOM</td>\n",
       "      <td>INV</td>\n",
       "      <td>AED</td>\n",
       "      <td>Non Goods</td>\n",
       "      <td>1</td>\n",
       "    </tr>\n",
       "    <tr>\n",
       "      <th>1</th>\n",
       "      <td>WIRE</td>\n",
       "      <td>RADW Corp</td>\n",
       "      <td>4003</td>\n",
       "      <td>2021-01-31</td>\n",
       "      <td>PMT</td>\n",
       "      <td>SAR</td>\n",
       "      <td>48990.21133</td>\n",
       "      <td>99200000043</td>\n",
       "      <td>2020-12-29</td>\n",
       "      <td>2021-01-28</td>\n",
       "      <td>30 Days from Inv Date</td>\n",
       "      <td>INV</td>\n",
       "      <td>SAR</td>\n",
       "      <td>Non Goods</td>\n",
       "      <td>1</td>\n",
       "    </tr>\n",
       "    <tr>\n",
       "      <th>2</th>\n",
       "      <td>WIRE</td>\n",
       "      <td>RADW Corp</td>\n",
       "      <td>4003</td>\n",
       "      <td>2021-01-31</td>\n",
       "      <td>PMT</td>\n",
       "      <td>SAR</td>\n",
       "      <td>41991.60971</td>\n",
       "      <td>99210000003</td>\n",
       "      <td>2021-01-30</td>\n",
       "      <td>2021-03-01</td>\n",
       "      <td>30 Days from Inv Date</td>\n",
       "      <td>INV</td>\n",
       "      <td>SAR</td>\n",
       "      <td>Non Goods</td>\n",
       "      <td>0</td>\n",
       "    </tr>\n",
       "    <tr>\n",
       "      <th>3</th>\n",
       "      <td>WIRE</td>\n",
       "      <td>FARO Corp</td>\n",
       "      <td>1409</td>\n",
       "      <td>2021-01-31</td>\n",
       "      <td>PMT</td>\n",
       "      <td>SAR</td>\n",
       "      <td>41991.60971</td>\n",
       "      <td>99200000038</td>\n",
       "      <td>2020-12-15</td>\n",
       "      <td>2021-01-14</td>\n",
       "      <td>30 Days from Inv Date</td>\n",
       "      <td>INV</td>\n",
       "      <td>SAR</td>\n",
       "      <td>Non Goods</td>\n",
       "      <td>1</td>\n",
       "    </tr>\n",
       "    <tr>\n",
       "      <th>4</th>\n",
       "      <td>WIRE</td>\n",
       "      <td>RADW Corp</td>\n",
       "      <td>4003</td>\n",
       "      <td>2021-01-31</td>\n",
       "      <td>PMT</td>\n",
       "      <td>SAR</td>\n",
       "      <td>41991.60971</td>\n",
       "      <td>99200000039</td>\n",
       "      <td>2020-12-15</td>\n",
       "      <td>2021-01-14</td>\n",
       "      <td>30 Days from Inv Date</td>\n",
       "      <td>INV</td>\n",
       "      <td>SAR</td>\n",
       "      <td>Non Goods</td>\n",
       "      <td>1</td>\n",
       "    </tr>\n",
       "  </tbody>\n",
       "</table>\n",
       "</div>"
      ],
      "text/plain": [
       "  RECEIPT_METHOD CUSTOMER_NAME  CUSTOMER_NUMBER RECEIPT_DATE CLASS  \\\n",
       "0           WIRE     C EA Corp            37403   2021-04-20   PMT   \n",
       "1           WIRE     RADW Corp             4003   2021-01-31   PMT   \n",
       "2           WIRE     RADW Corp             4003   2021-01-31   PMT   \n",
       "3           WIRE     FARO Corp             1409   2021-01-31   PMT   \n",
       "4           WIRE     RADW Corp             4003   2021-01-31   PMT   \n",
       "\n",
       "  CURRENCY_CODE    USD Amount INVOICE_ALLOCATED INVOICE_CREATION_DATE  \\\n",
       "0           USD  101018.63040       14200000001            2020-11-02   \n",
       "1           SAR   48990.21133       99200000043            2020-12-29   \n",
       "2           SAR   41991.60971       99210000003            2021-01-30   \n",
       "3           SAR   41991.60971       99200000038            2020-12-15   \n",
       "4           SAR   41991.60971       99200000039            2020-12-15   \n",
       "\n",
       "    DUE_DATE           PAYMENT_TERM INVOICE_CLASS INVOICE_CURRENCY_CODE  \\\n",
       "0 2020-12-30       30 Days from EOM           INV                   AED   \n",
       "1 2021-01-28  30 Days from Inv Date           INV                   SAR   \n",
       "2 2021-03-01  30 Days from Inv Date           INV                   SAR   \n",
       "3 2021-01-14  30 Days from Inv Date           INV                   SAR   \n",
       "4 2021-01-14  30 Days from Inv Date           INV                   SAR   \n",
       "\n",
       "  INVOICE_TYPE  default  \n",
       "0    Non Goods        1  \n",
       "1    Non Goods        1  \n",
       "2    Non Goods        0  \n",
       "3    Non Goods        1  \n",
       "4    Non Goods        1  "
      ]
     },
     "execution_count": 29,
     "metadata": {},
     "output_type": "execute_result"
    }
   ],
   "source": [
    "# Dropping the 'Local Amount' column\n",
    "rec_pay_data.drop('Local Amount', axis=1, inplace=True)\n",
    "\n",
    "# Checking the head of data\n",
    "rec_pay_data.head()"
   ]
  },
  {
   "cell_type": "code",
   "execution_count": 30,
   "id": "7f7d80f3-2056-4982-8136-cab465481393",
   "metadata": {},
   "outputs": [
    {
     "data": {
      "text/plain": [
       "count       92811.0\n",
       "mean       537646.0\n",
       "std        954807.0\n",
       "min             1.0\n",
       "25%         40453.0\n",
       "50%        191287.0\n",
       "75%        599614.0\n",
       "max      10849829.0\n",
       "Name: USD Amount, dtype: float64"
      ]
     },
     "execution_count": 30,
     "metadata": {},
     "output_type": "execute_result"
    }
   ],
   "source": [
    "# 'USD Amount' column summary\n",
    "rec_pay_data['USD Amount'].describe().round()"
   ]
  },
  {
   "cell_type": "code",
   "execution_count": 31,
   "id": "96878ab2-6211-47a5-ba0d-5108ee161d9e",
   "metadata": {},
   "outputs": [
    {
     "data": {
      "image/png": "[encoded data removed]",
      "text/plain": [
       "<Figure size 1200x600 with 2 Axes>"
      ]
     },
     "metadata": {},
     "output_type": "display_data"
    }
   ],
   "source": [
    "# Visualizing the distribution of 'USD Amount' column\n",
    "\n",
    "plt.figure(figsize=(12,6))\n",
    "\n",
    "plt.subplot(1,2,1)\n",
    "sns.distplot(rec_pay_data['USD Amount'])\n",
    "plt.title(\"USD Amount Distribution\")\n",
    "\n",
    "plt.subplot(1,2,2)\n",
    "sns.boxplot(rec_pay_data['USD Amount'])\n",
    "plt.title(\"USD Amount Box Plot\")\n",
    "\n",
    "plt.show()\n"
   ]
  },
  {
   "cell_type": "markdown",
   "id": "1070ff01-3250-4482-b352-564e76e3b6bd",
   "metadata": {},
   "source": [
    "### Categorical Columns"
   ]
  },
  {
   "cell_type": "markdown",
   "id": "6d891ff0-2a5e-4759-a23b-4bb8effc2f23",
   "metadata": {},
   "source": [
    "##### CUSTOMER_NAME column"
   ]
  },
  {
   "cell_type": "code",
   "execution_count": 34,
   "id": "583f78dc-38f2-4e76-a707-6b2c058d3c07",
   "metadata": {},
   "outputs": [
    {
     "data": {
      "text/plain": [
       "689"
      ]
     },
     "execution_count": 34,
     "metadata": {},
     "output_type": "execute_result"
    }
   ],
   "source": [
    "# Finding the number of Unique customer names\n",
    "rec_pay_data['CUSTOMER_NAME'].nunique()"
   ]
  },
  {
   "cell_type": "code",
   "execution_count": 35,
   "id": "e22cec04-38c8-495e-b619-118b28cd5a1a",
   "metadata": {},
   "outputs": [
    {
     "data": {
      "text/plain": [
       "CUSTOMER_NAME\n",
       "SEPH Corp    23075\n",
       "FARO Corp    15004\n",
       "PARF Corp     6624\n",
       "ALLI Corp     5645\n",
       "AREE Corp     2224\n",
       "DEBE Corp     2133\n",
       "RADW Corp     1647\n",
       "YOUG Corp     1480\n",
       "HABC Corp     1402\n",
       "CARR Corp      952\n",
       "Name: count, dtype: int64"
      ]
     },
     "execution_count": 35,
     "metadata": {},
     "output_type": "execute_result"
    }
   ],
   "source": [
    "# Top 10 customers on the basis total invoices\n",
    "rec_pay_data['CUSTOMER_NAME'].value_counts().head(10)"
   ]
  },
  {
   "cell_type": "markdown",
   "id": "c7b6a1c4-41d2-472c-8be9-3ac1d64802df",
   "metadata": {},
   "source": [
    "##### CLASS column"
   ]
  },
  {
   "cell_type": "code",
   "execution_count": 37,
   "id": "525ff7c8-b53e-47f8-b223-21c61b977001",
   "metadata": {},
   "outputs": [
    {
     "data": {
      "text/plain": [
       "CUSTOMER_NAME\n",
       "SEPH Corp    3.253371e+10\n",
       "FARO Corp    5.790071e+09\n",
       "PARF Corp    3.200510e+09\n",
       "ALLI Corp    2.580741e+09\n",
       "AREE Corp    1.125144e+09\n",
       "HABC Corp    5.343216e+08\n",
       "RADW Corp    3.622376e+08\n",
       "L OR Corp    2.955509e+08\n",
       "CGR  Corp    2.795162e+08\n",
       "PCD  Corp    2.466070e+08\n",
       "Name: USD Amount, dtype: float64"
      ]
     },
     "execution_count": 37,
     "metadata": {},
     "output_type": "execute_result"
    }
   ],
   "source": [
    "# Top 10 customers based on the invoice amounts in USD.\n",
    "rec_pay_data.groupby('CUSTOMER_NAME')['USD Amount'].sum().sort_values(ascending=False).head(10)"
   ]
  },
  {
   "cell_type": "code",
   "execution_count": 38,
   "id": "242bf41c-e9c3-4a00-847c-44cc871b6bd3",
   "metadata": {},
   "outputs": [
    {
     "data": {
      "text/plain": [
       "1"
      ]
     },
     "execution_count": 38,
     "metadata": {},
     "output_type": "execute_result"
    }
   ],
   "source": [
    "# Checking the number of unique values in the column\n",
    "rec_pay_data['CLASS'].nunique()"
   ]
  },
  {
   "cell_type": "code",
   "execution_count": 39,
   "id": "9c16bfe3-0c10-4fd5-b96d-5c0c3bd86a10",
   "metadata": {},
   "outputs": [],
   "source": [
    "# Dropping the CLASS column as it has only one value\n",
    "rec_pay_data.drop('CLASS', axis=1, inplace=True)"
   ]
  },
  {
   "cell_type": "markdown",
   "id": "3543be7b-1c48-4c04-80b1-ae98ae0ad8b7",
   "metadata": {},
   "source": [
    "#### CURRENCY_CODE column"
   ]
  },
  {
   "cell_type": "code",
   "execution_count": 41,
   "id": "5a04ca62-c9e1-4a97-ada7-4ef786bd001d",
   "metadata": {},
   "outputs": [
    {
     "data": {
      "text/plain": [
       "8"
      ]
     },
     "execution_count": 41,
     "metadata": {},
     "output_type": "execute_result"
    }
   ],
   "source": [
    "# Checking the number of unique values in the column\n",
    "rec_pay_data['CURRENCY_CODE'].nunique()"
   ]
  },
  {
   "cell_type": "code",
   "execution_count": 42,
   "id": "baa08ef5-623e-4d74-9722-dc354831f28c",
   "metadata": {},
   "outputs": [
    {
     "data": {
      "text/plain": [
       "CURRENCY_CODE\n",
       "AED    36027\n",
       "SAR    35784\n",
       "USD    19361\n",
       "EUR     1438\n",
       "GBP      130\n",
       "BHD       59\n",
       "KWD       10\n",
       "QAR        2\n",
       "Name: count, dtype: int64"
      ]
     },
     "execution_count": 42,
     "metadata": {},
     "output_type": "execute_result"
    }
   ],
   "source": [
    "# Checking the value counts of each currency code\n",
    "rec_pay_data['CURRENCY_CODE'].value_counts()"
   ]
  },
  {
   "cell_type": "code",
   "execution_count": 43,
   "id": "a0e51c9a-ad0b-43a8-8ee2-dc83901042c9",
   "metadata": {},
   "outputs": [
    {
     "data": {
      "image/png": "[encoded data removed]",
      "text/plain": [
       "<Figure size 600x400 with 1 Axes>"
      ]
     },
     "metadata": {},
     "output_type": "display_data"
    }
   ],
   "source": [
    "# Visualising the column\n",
    "plt.figure(figsize=(6,4))\n",
    "ax = sns.countplot(data=rec_pay_data, x='CURRENCY_CODE', palette='RdYlGn_r')\n",
    "plt.xticks(rotation= 90)\n",
    "for label in ax.containers:\n",
    "    ax.bar_label(label)\n",
    "plt.show()"
   ]
  },
  {
   "cell_type": "markdown",
   "id": "651535f3-5cfe-4ca5-b5d9-b167eddc98d9",
   "metadata": {},
   "source": [
    "##### Currency used for bill payments are mostly USD, SAR or AED."
   ]
  },
  {
   "cell_type": "markdown",
   "id": "b968f5c0-255d-42c1-b938-3bbc941c04a3",
   "metadata": {},
   "source": [
    "##### PAYMENT_TERM column"
   ]
  },
  {
   "cell_type": "code",
   "execution_count": 46,
   "id": "a431066b-47d6-4dcb-85cc-94da42dc3308",
   "metadata": {},
   "outputs": [
    {
     "data": {
      "text/plain": [
       "42"
      ]
     },
     "execution_count": 46,
     "metadata": {},
     "output_type": "execute_result"
    }
   ],
   "source": [
    "# Checking the number of unique values in the column\n",
    "rec_pay_data['PAYMENT_TERM'].nunique()"
   ]
  },
  {
   "cell_type": "code",
   "execution_count": 47,
   "id": "8fe88dda-aedd-46d0-8bb2-f56686199305",
   "metadata": {},
   "outputs": [
    {
     "data": {
      "text/plain": [
       "array(['30 Days from EOM', '30 Days from Inv Date', '45 Days from EOM',\n",
       "       'Immediate', '100% Adv Payment', 'Immediate Payment',\n",
       "       '15 Days from EOM', '25 DAYS FROM EOM', '60 Days from EOM',\n",
       "       '60 Days from Inv Date', '45 Days from Inv Date',\n",
       "       '90 Days from Inv Date', '15 Days from Inv Date',\n",
       "       'Cash on Delivery', '45 DAYS + EOM', '90 Days from EOM',\n",
       "       'On Consignment', 'EOM', '7 Days from Inv Date',\n",
       "       '50% ADVANCE PAYMENT AND 50% UPON RECEIVING THE SHIPMENT',\n",
       "       '75 Days from EOM', 'Standby LC at 30 days',\n",
       "       '30% advance 70% after 30 days from invoice date', 'LC at 60 days',\n",
       "       '50% Advance 50% INVDATE+60 DAYS', '120 Days from EOM',\n",
       "       '75 Days from Inv Date', 'LCSight', '180 DAYS FROM INV DATE',\n",
       "       'LC at 90 days', '30% advance 70% after 60 days from invoice date',\n",
       "       'Cash Against Document at sight', 'Advance with discount',\n",
       "       '50% ADV 50% 30 Days', '120 Days from Inv Date',\n",
       "       '25% ADVANCE, 75% 30 DAYS FROM INVOICE DATE',\n",
       "       'LC at 60 days from FCR/AWB/BL date', '195 days from Invoice Date',\n",
       "       '50% at 30 days and 50% at 60 days', '40 DAYS FROM EOM',\n",
       "       '7 Days from EOM', '365 DAYS FROM INVOICE DATE'], dtype=object)"
      ]
     },
     "execution_count": 47,
     "metadata": {},
     "output_type": "execute_result"
    }
   ],
   "source": [
    "# Checking the list of unique values\n",
    "rec_pay_data['PAYMENT_TERM'].unique()"
   ]
  },
  {
   "cell_type": "code",
   "execution_count": 48,
   "id": "3bcd9d1d-7753-4ab4-9df1-97189dbe8aff",
   "metadata": {},
   "outputs": [
    {
     "data": {
      "text/plain": [
       "PAYMENT_TERM\n",
       "60 Days from Inv Date    19742\n",
       "30 Days from Inv Date    14022\n",
       "60 Days from EOM         12512\n",
       "30 Days from EOM         11301\n",
       "15 Days from EOM          7533\n",
       "Immediate Payment         5468\n",
       "Immediate                 4946\n",
       "90 Days from EOM          3893\n",
       "45 Days from Inv Date     3550\n",
       "45 Days from EOM          3509\n",
       "Name: count, dtype: int64"
      ]
     },
     "execution_count": 48,
     "metadata": {},
     "output_type": "execute_result"
    }
   ],
   "source": [
    "# Checking the top 10 PAYMENT_TERM\n",
    "rec_pay_data['PAYMENT_TERM'].value_counts().head(10)"
   ]
  },
  {
   "cell_type": "markdown",
   "id": "d359ebb5-92a0-4aa3-b11e-36681019947d",
   "metadata": {},
   "source": [
    "#### INVOICE_CLASS column"
   ]
  },
  {
   "cell_type": "code",
   "execution_count": 50,
   "id": "ac92d785-6dde-4590-abb3-79ad68d5411f",
   "metadata": {},
   "outputs": [
    {
     "data": {
      "text/plain": [
       "INVOICE_CLASS\n",
       "INV    87313\n",
       "CM      4946\n",
       "DM       552\n",
       "Name: count, dtype: int64"
      ]
     },
     "execution_count": 50,
     "metadata": {},
     "output_type": "execute_result"
    }
   ],
   "source": [
    "# Checking the value count of each level of INVOICE_CLASS\n",
    "rec_pay_data['INVOICE_CLASS'].value_counts()"
   ]
  },
  {
   "cell_type": "code",
   "execution_count": 51,
   "id": "ee20ec49-ca0a-40ba-ae4f-b94de48f99ac",
   "metadata": {},
   "outputs": [
    {
     "data": {
      "image/png": "[encoded data removed]",
      "text/plain": [
       "<Figure size 800x500 with 1 Axes>"
      ]
     },
     "metadata": {},
     "output_type": "display_data"
    }
   ],
   "source": [
    "# Visualising the column\n",
    "plt.figure(figsize=(8,5))\n",
    "ax = sns.countplot(data=rec_pay_data, x='INVOICE_CLASS', palette='RdYlGn_r')\n",
    "plt.xticks(rotation= 90)\n",
    "for label in ax.containers:\n",
    "    ax.bar_label(label)\n",
    "plt.show()\n"
   ]
  },
  {
   "cell_type": "markdown",
   "id": "714825e5-71bc-42ab-80a8-bf5245448784",
   "metadata": {},
   "source": [
    "#### INV has the maximum number of bills in INVOICE_CLASS column."
   ]
  },
  {
   "cell_type": "markdown",
   "id": "4f6b184a-9840-4938-b4a1-929dfb3400e7",
   "metadata": {},
   "source": [
    "#### INVOICE_CURRENCY_CODE column"
   ]
  },
  {
   "cell_type": "code",
   "execution_count": 54,
   "id": "d27c4ced-2ab7-47ae-8b08-98e8329f6eba",
   "metadata": {},
   "outputs": [
    {
     "data": {
      "text/plain": [
       "10"
      ]
     },
     "execution_count": 54,
     "metadata": {},
     "output_type": "execute_result"
    }
   ],
   "source": [
    "# Checking the number of unique values in the column\n",
    "rec_pay_data['INVOICE_CURRENCY_CODE'].nunique()"
   ]
  },
  {
   "cell_type": "code",
   "execution_count": 55,
   "id": "ffa83455-9f58-452d-8c84-16c37f350ba7",
   "metadata": {},
   "outputs": [
    {
     "data": {
      "image/png": "[encoded data removed]",
      "text/plain": [
       "<Figure size 1000x400 with 1 Axes>"
      ]
     },
     "metadata": {},
     "output_type": "display_data"
    }
   ],
   "source": [
    "# Visualising the column\n",
    "plt.figure(figsize=(10,4))\n",
    "\n",
    "ax = sns.countplot(data=rec_pay_data, y='INVOICE_CURRENCY_CODE', order=rec_pay_data['INVOICE_CURRENCY_CODE'].value_counts().index, palette='RdYlGn_r')\n",
    "for label in ax.containers:\n",
    "    ax.bar_label(label)\n",
    "    \n",
    "plt.title(\"Invoice Currency Distribution\")\n",
    "plt.ylabel(\"Currency Code\")\n",
    "plt.xlabel(\"Frequency\")\n",
    "\n",
    "plt.show()\n"
   ]
  },
  {
   "cell_type": "markdown",
   "id": "b7ee7e2a-d445-4a3f-bbe5-7d1767e47042",
   "metadata": {},
   "source": [
    "#### The most number of invoices were generated in SAR, AED and USD currency."
   ]
  },
  {
   "cell_type": "markdown",
   "id": "0b99dc1c-1d42-4e07-adfc-7ea295650c6d",
   "metadata": {},
   "source": [
    "#### INVOICE_TYPE column"
   ]
  },
  {
   "cell_type": "code",
   "execution_count": 58,
   "id": "2a2c6df3-1e35-43a6-8d1b-09e3d202607d",
   "metadata": {},
   "outputs": [
    {
     "data": {
      "text/plain": [
       "INVOICE_TYPE\n",
       "Goods        66569\n",
       "Non Goods    26242\n",
       "Name: count, dtype: int64"
      ]
     },
     "execution_count": 58,
     "metadata": {},
     "output_type": "execute_result"
    }
   ],
   "source": [
    "# Checking the value count of each level of INVOICE_TYPE\n",
    "rec_pay_data['INVOICE_TYPE'].value_counts()"
   ]
  },
  {
   "cell_type": "code",
   "execution_count": 59,
   "id": "7bc0a4ab-8f99-4177-8a0f-0d1d9a2a8432",
   "metadata": {},
   "outputs": [
    {
     "data": {
      "image/png": "[encoded data removed]",
      "text/plain": [
       "<Figure size 600x400 with 1 Axes>"
      ]
     },
     "metadata": {},
     "output_type": "display_data"
    }
   ],
   "source": [
    "# Visualising the column\n",
    "plt.figure(figsize=(6,4))\n",
    "ax = sns.countplot(data=rec_pay_data, x='INVOICE_TYPE', palette='RdYlGn')\n",
    "\n",
    "for label in ax.containers:\n",
    "    ax.bar_label(label)\n",
    "\n",
    "plt.title(\"Distribution of Invoice Type\")\n",
    "plt.show()\n"
   ]
  },
  {
   "cell_type": "markdown",
   "id": "ac8add1b-2b3f-45bd-8862-d9bd0756104d",
   "metadata": {},
   "source": [
    "##### Almost 70% of the invoices generated were for Goods products."
   ]
  },
  {
   "cell_type": "markdown",
   "id": "eed57ed9-0922-4d7d-baf3-7d89a39c89f5",
   "metadata": {},
   "source": [
    "##### RECEIPT_METHOD column"
   ]
  },
  {
   "cell_type": "code",
   "execution_count": 62,
   "id": "9fb8721e-5979-4d37-9e9f-6965d9653a22",
   "metadata": {},
   "outputs": [
    {
     "data": {
      "text/plain": [
       "RECEIPT_METHOD\n",
       "WIRE             83281\n",
       "AP/AR Netting     4847\n",
       "CHEQUE            3472\n",
       "CASH               782\n",
       "I/C WIRE           211\n",
       "PDC                210\n",
       "I/C Check            6\n",
       "I/C CASH             2\n",
       "Name: count, dtype: int64"
      ]
     },
     "execution_count": 62,
     "metadata": {},
     "output_type": "execute_result"
    }
   ],
   "source": [
    "# Checking the value count of each level of RECEIPT_METHOD\n",
    "rec_pay_data['RECEIPT_METHOD'].value_counts()"
   ]
  },
  {
   "cell_type": "code",
   "execution_count": 63,
   "id": "f0346d21-903c-455b-b5d9-dc76a274e30a",
   "metadata": {},
   "outputs": [
    {
     "data": {
      "image/png": "[encoded data removed]",
      "text/plain": [
       "<Figure size 1000x400 with 1 Axes>"
      ]
     },
     "metadata": {},
     "output_type": "display_data"
    }
   ],
   "source": [
    "# Visualising the column\n",
    "plt.figure(figsize=(10,4))\n",
    "\n",
    "ax = sns.countplot(data=rec_pay_data, y='RECEIPT_METHOD', order=rec_pay_data['RECEIPT_METHOD'].value_counts().index, palette='RdYlGn_r')\n",
    "for label in ax.containers:\n",
    "    ax.bar_label(label)\n",
    "    \n",
    "plt.title(\"Payment methods used by vendors\")\n",
    "plt.ylabel(\"Payment Method\")\n",
    "plt.xlabel(\"Frequency\")\n",
    "\n",
    "plt.show()"
   ]
  },
  {
   "cell_type": "markdown",
   "id": "56fe4bb9-b7a0-4c77-9c5d-1ec450fee410",
   "metadata": {},
   "source": [
    "#### The most preferred payment method for bill payment is WIRE."
   ]
  },
  {
   "cell_type": "markdown",
   "id": "7821bf92-c063-4745-bded-df8ddcf3ea9b",
   "metadata": {},
   "source": [
    "##### Data Imbalance"
   ]
  },
  {
   "cell_type": "code",
   "execution_count": 66,
   "id": "c9af48c6-a1d6-461c-9b73-47e021bff921",
   "metadata": {},
   "outputs": [
    {
     "data": {
      "text/plain": [
       "default\n",
       "1    0.656528\n",
       "0    0.343472\n",
       "Name: proportion, dtype: float64"
      ]
     },
     "execution_count": 66,
     "metadata": {},
     "output_type": "execute_result"
    }
   ],
   "source": [
    "# Checking the distribution of target column 'default'\n",
    "rec_pay_data[\"default\"].value_counts(normalize= True)"
   ]
  },
  {
   "cell_type": "code",
   "execution_count": 67,
   "id": "cdd775c1-fec0-46c6-95c2-9dbf25a0e7fd",
   "metadata": {},
   "outputs": [
    {
     "data": {
      "image/png": "[encoded data removed]",
      "text/plain": [
       "<Figure size 1000x500 with 2 Axes>"
      ]
     },
     "metadata": {},
     "output_type": "display_data"
    }
   ],
   "source": [
    "# ploting the default column\n",
    "plt.figure(figsize=(10,5))\n",
    "\n",
    "plt.subplot(1,2,1)\n",
    "sns.countplot(x='default', data=rec_pay_data, palette='RdYlGn')\n",
    "\n",
    "plt.title(\"Data Imbalance: Late Payment vs Timely payment\")\n",
    "plt.xlabel(\"\")\n",
    "plt.ylabel(\"Frequency\")\n",
    "plt.xticks((0,1), ('On Time', 'Late'))\n",
    "\n",
    "plt.subplot(1,2,2)\n",
    "#data imbalance chart\n",
    "(rec_pay_data.default.value_counts(normalize = True)*100).plot.pie(autopct='%1.1f%%')\n",
    "plt.title(\"Data Imbalance Chart\")\n",
    "\n",
    "plt.show()\n"
   ]
  },
  {
   "cell_type": "markdown",
   "id": "011ca5ef-e59f-4941-9d10-fec4cb7ce3d4",
   "metadata": {},
   "source": [
    "##### There is a good distribution of data in the target variable.\n",
    "\n",
    "##### Bi-variate Analysis"
   ]
  },
  {
   "cell_type": "code",
   "execution_count": 69,
   "id": "7e3f55c6-b22e-45ae-9ee8-b58f8f9ef093",
   "metadata": {},
   "outputs": [],
   "source": [
    "# Extracting month from the date columns\n",
    "\n",
    "rec_pay_data['month_reciept'] = rec_pay_data['RECEIPT_DATE'].dt.month\n",
    "rec_pay_data['month_inv_creation'] = rec_pay_data['INVOICE_CREATION_DATE'].dt.month\n",
    "rec_pay_data['month_due'] = rec_pay_data['DUE_DATE'].dt.month"
   ]
  },
  {
   "cell_type": "code",
   "execution_count": 70,
   "id": "2fdfff83-3baf-4af4-9523-5556e844e71b",
   "metadata": {},
   "outputs": [
    {
     "data": {
      "text/plain": [
       "month_due\n",
       "1     13295\n",
       "2     12893\n",
       "3     14605\n",
       "4     14051\n",
       "5     13321\n",
       "6     10479\n",
       "7      1523\n",
       "8      1075\n",
       "9       914\n",
       "10     1579\n",
       "11     2875\n",
       "12     6201\n",
       "Name: DUE_DATE, dtype: int64"
      ]
     },
     "execution_count": 70,
     "metadata": {},
     "output_type": "execute_result"
    }
   ],
   "source": [
    "# Month-wise invoices due\n",
    "\n",
    "orders_due_month = rec_pay_data.groupby('month_due').count()['DUE_DATE']\n",
    "orders_due_month"
   ]
  },
  {
   "cell_type": "code",
   "execution_count": 71,
   "id": "29a9a12e-5f42-4c70-b022-632d1c038856",
   "metadata": {},
   "outputs": [
    {
     "data": {
      "text/plain": [
       "month_due\n",
       "1     0.716134\n",
       "2     0.688048\n",
       "3     0.620199\n",
       "4     0.620454\n",
       "5     0.559643\n",
       "6     0.416070\n",
       "7     0.363099\n",
       "8     0.793488\n",
       "9     0.974836\n",
       "10    0.999367\n",
       "11    1.000000\n",
       "12    0.999839\n",
       "Name: default, dtype: float64"
      ]
     },
     "execution_count": 71,
     "metadata": {},
     "output_type": "execute_result"
    }
   ],
   "source": [
    "# Ensure 'default' column is numeric\n",
    "rec_pay_data['default'] = pd.to_numeric(rec_pay_data['default'], errors='coerce')\n",
    "\n",
    "# Now group by 'month_due' and calculate the mean of 'default'\n",
    "late_dues = rec_pay_data.groupby('month_due')['default'].mean()\n",
    "\n",
    "# Sorting by month_due\n",
    "late_dues.sort_index(ascending=True)"
   ]
  },
  {
   "cell_type": "code",
   "execution_count": 72,
   "id": "29f8a003-c15c-45cb-9f96-83ed3c108f5e",
   "metadata": {},
   "outputs": [
    {
     "data": {
      "image/png": "[encoded data removed]",
      "text/plain": [
       "<Figure size 1000x1000 with 2 Axes>"
      ]
     },
     "metadata": {},
     "output_type": "display_data"
    }
   ],
   "source": [
    "# Ensure 'default' column is numeric\n",
    "rec_pay_data['default'] = pd.to_numeric(rec_pay_data['default'], errors='coerce')\n",
    "\n",
    "# Compute late_dues: average default rate per month\n",
    "late_dues = rec_pay_data.groupby('month_due')['default'].mean()\n",
    "\n",
    "# Compute orders_due_month: number of invoices per month (or count of rows per month)\n",
    "orders_due_month = rec_pay_data.groupby('month_due').size()\n",
    "\n",
    "# Plotting\n",
    "plt.figure(figsize=(10,10))\n",
    "\n",
    "# Plot late payment rates by month\n",
    "plt.subplot(2,1,1)\n",
    "plt.plot(late_dues, color='blue')\n",
    "plt.title(\"Month-wise due effect on late payment\")\n",
    "plt.xlabel(\"Months\")\n",
    "plt.ylabel(\"Late payment rate\")\n",
    "\n",
    "# Plot number of invoices by month\n",
    "plt.subplot(2,1,2)\n",
    "plt.plot(orders_due_month, color='red')\n",
    "plt.title(\"Monthly invoices\")\n",
    "plt.xlabel(\"Months\")\n",
    "plt.ylabel(\"No. of Invoices\")\n",
    "\n",
    "# Show the plots\n",
    "plt.tight_layout()\n",
    "plt.show()"
   ]
  },
  {
   "cell_type": "markdown",
   "id": "cc498a6d-c8df-492e-b4a0-e392b7c8d636",
   "metadata": {},
   "source": [
    "##### For the 3rd month, the number of invoices is the highest and late payment rate is comparatively lower than other months with large number of invoices.\n",
    "##### Month 7 has the very low late payment rate, this can be because of the fact that the number of invoices is also low.\n",
    "##### In the 2nd half of the year, the late payment increases steeply from 7th month onwards. The number of invoices are comparatively lower than the first half of the year."
   ]
  },
  {
   "cell_type": "code",
   "execution_count": 74,
   "id": "8c5428c4-0936-4a17-8e8b-3a2d91f74e88",
   "metadata": {},
   "outputs": [
    {
     "name": "stdout",
     "output_type": "stream",
     "text": [
      "month_reciept\n",
      "1    16353\n",
      "2    12557\n",
      "3    16522\n",
      "4    13829\n",
      "5    16210\n",
      "6    17340\n",
      "Name: DUE_DATE, dtype: int64\n",
      "month_due\n",
      "1     0.0\n",
      "2     0.0\n",
      "3     0.0\n",
      "4     0.0\n",
      "5     0.0\n",
      "6     0.0\n",
      "7     0.0\n",
      "8     0.0\n",
      "9     0.0\n",
      "10    0.0\n",
      "11    0.0\n",
      "12    0.0\n",
      "Name: default, dtype: float64\n"
     ]
    }
   ],
   "source": [
    "# Receipt_date\n",
    "\n",
    "#order_month_receipt = rec_pay_data.groupby('month_reciept').count()['DUE_DATE']  # number of payments received in a month\n",
    "\n",
    "# out of all the payments received in month how many were late payments\n",
    "#monthly_receipt = rec_pay_data.groupby('month_due').mean()['default']\n",
    "\n",
    "\n",
    "\n",
    "\n",
    "# Convert 'default' column to numeric (1 for late, 0 for on-time)\n",
    "rec_pay_data['default'] = rec_pay_data['default'].apply(lambda x: 1 if x == 'yes' else 0)\n",
    "\n",
    "# Calculate the number of payments received in a month\n",
    "order_month_receipt = rec_pay_data.groupby('month_reciept').count()['DUE_DATE']\n",
    "\n",
    "# Calculate the mean of late payments per month (i.e., proportion of late payments)\n",
    "monthly_receipt = rec_pay_data.groupby('month_due')['default'].mean()\n",
    "\n",
    "# Now you can plot the values\n",
    "print(order_month_receipt)\n",
    "print(monthly_receipt)"
   ]
  },
  {
   "cell_type": "code",
   "execution_count": 75,
   "id": "aa21e114-b842-437e-9969-f42c6f2bc1cb",
   "metadata": {},
   "outputs": [
    {
     "data": {
      "image/png": "[encoded data removed]",
      "text/plain": [
       "<Figure size 1000x1000 with 1 Axes>"
      ]
     },
     "metadata": {},
     "output_type": "display_data"
    },
    {
     "data": {
      "text/plain": [
       "([<matplotlib.axis.XTick at 0x27b0f056990>,\n",
       "  <matplotlib.axis.XTick at 0x27b0f056960>,\n",
       "  <matplotlib.axis.XTick at 0x27b0f054350>,\n",
       "  <matplotlib.axis.XTick at 0x27b0ef0a990>,\n",
       "  <matplotlib.axis.XTick at 0x27b0ef0b2f0>,\n",
       "  <matplotlib.axis.XTick at 0x27b0ef0b5f0>,\n",
       "  <matplotlib.axis.XTick at 0x27b0ef0bdd0>,\n",
       "  <matplotlib.axis.XTick at 0x27b0eee7950>,\n",
       "  <matplotlib.axis.XTick at 0x27b0eee7050>,\n",
       "  <matplotlib.axis.XTick at 0x27b0eee66c0>,\n",
       "  <matplotlib.axis.XTick at 0x27b0ef0bb00>,\n",
       "  <matplotlib.axis.XTick at 0x27b0eee6090>],\n",
       " [Text(1, 0, '1'),\n",
       "  Text(2, 0, '2'),\n",
       "  Text(3, 0, '3'),\n",
       "  Text(4, 0, '4'),\n",
       "  Text(5, 0, '5'),\n",
       "  Text(6, 0, '6'),\n",
       "  Text(7, 0, '7'),\n",
       "  Text(8, 0, '8'),\n",
       "  Text(9, 0, '9'),\n",
       "  Text(10, 0, '10'),\n",
       "  Text(11, 0, '11'),\n",
       "  Text(12, 0, '12')])"
      ]
     },
     "execution_count": 75,
     "metadata": {},
     "output_type": "execute_result"
    },
    {
     "data": {
      "image/png": "[encoded data removed]",
      "text/plain": [
       "<Figure size 640x480 with 1 Axes>"
      ]
     },
     "metadata": {},
     "output_type": "display_data"
    }
   ],
   "source": [
    "import matplotlib.pyplot as plt\n",
    "import numpy as np\n",
    "\n",
    "# Ensure 'month_due' and 'month_reciept' are numeric\n",
    "rec_pay_data['month_due'] = rec_pay_data['month_due'].astype(int)\n",
    "rec_pay_data['month_reciept'] = rec_pay_data['month_reciept'].astype(int)\n",
    "\n",
    "# Convert 'default' column to numeric (1 for late, 0 for on-time)\n",
    "rec_pay_data['default'] = rec_pay_data['default'].apply(lambda x: 1 if x == 'yes' else 0)\n",
    "\n",
    "# Calculate the number of payments received in each month (1-12)\n",
    "order_month_receipt = rec_pay_data.groupby('month_reciept').count()['DUE_DATE']\n",
    "\n",
    "# Calculate the mean of late payments per month (1-12)\n",
    "monthly_receipt = rec_pay_data.groupby('month_due')['default'].mean()\n",
    "\n",
    "# Reindex both series to ensure they cover all months (1 to 12)\n",
    "months = np.arange(1, 13)\n",
    "order_month_receipt = order_month_receipt.reindex(months, fill_value=0)\n",
    "monthly_receipt = monthly_receipt.reindex(months, fill_value=0)\n",
    "\n",
    "# Now you can plot the values\n",
    "plt.figure(figsize=(10, 10))\n",
    "\n",
    "# Plot late payment rate per month\n",
    "plt.subplot(2, 1, 1)\n",
    "plt.plot(monthly_receipt, color='blue',marker=\"o\")\n",
    "\n",
    "plt.title(\"% of Late Payments Received by Month\")\n",
    "plt.xlabel(\"Months\")\n",
    "plt.ylabel(\"Late Payment Rate (%)\")\n",
    "plt.xticks(months)\n",
    "\n",
    "\n",
    "\n",
    "# Adjust layout and show the plot\n",
    "plt.tight_layout()\n",
    "plt.show()\n",
    "# Plot total payments received per month\n",
    "plt.subplot(2, 1, 2)\n",
    "plt.plot(order_month_receipt, color='red', marker='o')\n",
    "plt.title(\"Number of Total Payments Received\")\n",
    "plt.xlabel(\"Months\")\n",
    "plt.ylabel(\"Number of Invoices\")\n",
    "plt.xticks(months)"
   ]
  },
  {
   "cell_type": "markdown",
   "id": "345b025b-f8ce-46a4-a741-19dc6e9d2eaa",
   "metadata": {},
   "source": [
    "#### No payment received against any invoices from 7th month onwards."
   ]
  },
  {
   "cell_type": "markdown",
   "id": "9731d21d-b975-45bd-98f1-02cc009b6a21",
   "metadata": {},
   "source": [
    "###### Late payment rate is decreases from 1st to 5th month.\n",
    "###### For the months 7, 8 and 9, the late payment rate is very high."
   ]
  },
  {
   "cell_type": "markdown",
   "id": "e1f66dcf-1614-4112-b892-655983b9c180",
   "metadata": {},
   "source": [
    "### USD Amount column"
   ]
  },
  {
   "cell_type": "code",
   "execution_count": 79,
   "id": "0bb8fc84-0ec6-4ede-990e-df8c20a16216",
   "metadata": {},
   "outputs": [
    {
     "data": {
      "text/html": [
       "<div>\n",
       "<style scoped>\n",
       "    .dataframe tbody tr th:only-of-type {\n",
       "        vertical-align: middle;\n",
       "    }\n",
       "\n",
       "    .dataframe tbody tr th {\n",
       "        vertical-align: top;\n",
       "    }\n",
       "\n",
       "    .dataframe thead tr th {\n",
       "        text-align: left;\n",
       "    }\n",
       "</style>\n",
       "<table border=\"1\" class=\"dataframe\">\n",
       "  <thead>\n",
       "    <tr>\n",
       "      <th></th>\n",
       "      <th>default</th>\n",
       "      <th>mean</th>\n",
       "      <th>median</th>\n",
       "      <th>std</th>\n",
       "    </tr>\n",
       "    <tr>\n",
       "      <th></th>\n",
       "      <th></th>\n",
       "      <th>USD Amount</th>\n",
       "      <th>USD Amount</th>\n",
       "      <th>USD Amount</th>\n",
       "    </tr>\n",
       "  </thead>\n",
       "  <tbody>\n",
       "    <tr>\n",
       "      <th>0</th>\n",
       "      <td>0</td>\n",
       "      <td>537645.97205</td>\n",
       "      <td>191287.0</td>\n",
       "      <td>954807.277305</td>\n",
       "    </tr>\n",
       "  </tbody>\n",
       "</table>\n",
       "</div>"
      ],
      "text/plain": [
       "  default          mean     median            std\n",
       "             USD Amount USD Amount     USD Amount\n",
       "0       0  537645.97205   191287.0  954807.277305"
      ]
     },
     "execution_count": 79,
     "metadata": {},
     "output_type": "execute_result"
    }
   ],
   "source": [
    "usd_amt_late = rec_pay_data.pivot_table(values='USD Amount', index='default', aggfunc=['mean', 'median', np.std]).reset_index()\n",
    "usd_amt_late"
   ]
  },
  {
   "cell_type": "code",
   "execution_count": 80,
   "id": "165ab31d-09c5-4273-94b1-c436cde603ff",
   "metadata": {},
   "outputs": [
    {
     "data": {
      "image/png": "[encoded data removed]",
      "text/plain": [
       "<Figure size 1000x500 with 2 Axes>"
      ]
     },
     "metadata": {},
     "output_type": "display_data"
    }
   ],
   "source": [
    "# Visualising the differencing between mean and median of the invoice value with respect to late payment\n",
    "\n",
    "plt.figure(figsize=(10,5))\n",
    "\n",
    "plt.subplot(1,2,1)\n",
    "\n",
    "sns.barplot(data=usd_amt_late, x='default', y=('mean','USD Amount'), palette='RdYlGn')\n",
    "plt.xticks((0,1), ('On-Time', 'Late'))\n",
    "plt.title(\"Mean Invoice value vs Late Payment\")\n",
    "plt.xlabel(\"\")\n",
    "plt.ylabel(\"USD Amount\")\n",
    "\n",
    "plt.subplot(1,2,2)\n",
    "\n",
    "sns.barplot(data=usd_amt_late, x='default', y=('median','USD Amount'), palette='RdYlGn')\n",
    "plt.xticks((0,1), ('On-Time', 'Late'))\n",
    "plt.title(\"Median Invoice value vs Late Payment\")\n",
    "plt.xlabel(\"\")\n",
    "plt.ylabel(\"USD Amount\")\n",
    "\n",
    "plt.show()"
   ]
  },
  {
   "cell_type": "markdown",
   "id": "7226475b-c15b-4fa7-a40c-e01b5f47f42f",
   "metadata": {},
   "source": [
    "##### The mean and median of invoice value of On-time bill payment is higher than late payment."
   ]
  },
  {
   "cell_type": "code",
   "execution_count": 82,
   "id": "7ceb0b4c-8289-4a57-a88e-0543016ecf95",
   "metadata": {},
   "outputs": [
    {
     "data": {
      "image/png": "[encoded data removed]",
      "text/plain": [
       "<Figure size 600x600 with 1 Axes>"
      ]
     },
     "metadata": {},
     "output_type": "display_data"
    }
   ],
   "source": [
    "plt.figure(figsize=(6,6))\n",
    "\n",
    "sns.boxplot(y = 'USD Amount', x='default', data = rec_pay_data)\n",
    "plt.title(\"USD amount comparison between On-Time and Late Payers\")\n",
    "\n",
    "plt.show()"
   ]
  },
  {
   "cell_type": "markdown",
   "id": "be93fa3e-f368-4bee-bc12-590b993e23fb",
   "metadata": {},
   "source": [
    "##### CUSTOMER_NAME column"
   ]
  },
  {
   "cell_type": "code",
   "execution_count": 84,
   "id": "adbb9c9c-6395-4848-aeca-687cb7e13343",
   "metadata": {},
   "outputs": [
    {
     "name": "stdout",
     "output_type": "stream",
     "text": [
      "    CUSTOMER_NAME  default\n",
      "0       SEPH Corp    23075\n",
      "1       FARO Corp    15004\n",
      "2       PARF Corp     6624\n",
      "3       ALLI Corp     5645\n",
      "4       AREE Corp     2224\n",
      "..            ...      ...\n",
      "684     DEFI Corp        1\n",
      "685     DESI Corp        1\n",
      "686     OMRA Corp        1\n",
      "687     NOUS Corp        1\n",
      "688     KWAT Corp        1\n",
      "\n",
      "[689 rows x 2 columns]\n",
      "    CUSTOMER_NAME  default\n",
      "0       3D D Corp      0.0\n",
      "1       NOOR Corp      0.0\n",
      "2       NEJR Corp      0.0\n",
      "3       NEOL Corp      0.0\n",
      "4       NEST Corp      0.0\n",
      "..            ...      ...\n",
      "684     EYEW Corp      0.0\n",
      "685     F AN Corp      0.0\n",
      "686     FACE Corp      0.0\n",
      "687     FAKH Corp      0.0\n",
      "688     ZV F Corp      0.0\n",
      "\n",
      "[689 rows x 2 columns]\n"
     ]
    }
   ],
   "source": [
    "# Convert 'default' column to numeric (if it's not already)\n",
    "rec_pay_data['default'] = rec_pay_data['default'].apply(lambda x: 1 if x == 'yes' else 0)\n",
    "\n",
    "# Get total orders per customer\n",
    "customer_total_orders = rec_pay_data.groupby('CUSTOMER_NAME').count()['default'].sort_values(ascending=False).reset_index()\n",
    "\n",
    "# Get the percentage of late payments per customer\n",
    "customer_total_orders_late = rec_pay_data.groupby('CUSTOMER_NAME')['default'].mean().sort_values(ascending=False).reset_index()\n",
    "\n",
    "print(customer_total_orders)\n",
    "print(customer_total_orders_late)"
   ]
  },
  {
   "cell_type": "code",
   "execution_count": 85,
   "id": "c8289d1f-e375-4466-9f1c-7e886d8c509f",
   "metadata": {},
   "outputs": [
    {
     "data": {
      "text/plain": [
       "0     SEPH Corp\n",
       "1     FARO Corp\n",
       "2     PARF Corp\n",
       "3     ALLI Corp\n",
       "4     AREE Corp\n",
       "5     DEBE Corp\n",
       "6     RADW Corp\n",
       "7     YOUG Corp\n",
       "8     HABC Corp\n",
       "9     CARR Corp\n",
       "10    AL T Corp\n",
       "11    VAVA Corp\n",
       "12    CGR  Corp\n",
       "13    REAL Corp\n",
       "14    PARI Corp\n",
       "15    ARAB Corp\n",
       "16    LIFE Corp\n",
       "17    AL S Corp\n",
       "18    MCT  Corp\n",
       "19    CWF  Corp\n",
       "20    AL F Corp\n",
       "21    CHRI Corp\n",
       "Name: CUSTOMER_NAME, dtype: object"
      ]
     },
     "execution_count": 85,
     "metadata": {},
     "output_type": "execute_result"
    }
   ],
   "source": [
    "# Finding the important customers (customers with more than 500 orders)\n",
    "\n",
    "imp_cust = customer_total_orders[customer_total_orders['default'] > 500]['CUSTOMER_NAME']\n",
    "imp_cust"
   ]
  },
  {
   "cell_type": "code",
   "execution_count": 86,
   "id": "2dab800c-5886-47db-84e8-f69f8e8a29a0",
   "metadata": {},
   "outputs": [
    {
     "data": {
      "text/html": [
       "<div>\n",
       "<style scoped>\n",
       "    .dataframe tbody tr th:only-of-type {\n",
       "        vertical-align: middle;\n",
       "    }\n",
       "\n",
       "    .dataframe tbody tr th {\n",
       "        vertical-align: top;\n",
       "    }\n",
       "\n",
       "    .dataframe thead th {\n",
       "        text-align: right;\n",
       "    }\n",
       "</style>\n",
       "<table border=\"1\" class=\"dataframe\">\n",
       "  <thead>\n",
       "    <tr style=\"text-align: right;\">\n",
       "      <th></th>\n",
       "      <th>CUSTOMER_NAME</th>\n",
       "      <th>default</th>\n",
       "    </tr>\n",
       "  </thead>\n",
       "  <tbody>\n",
       "    <tr>\n",
       "      <th>80</th>\n",
       "      <td>PARF Corp</td>\n",
       "      <td>0.0</td>\n",
       "    </tr>\n",
       "    <tr>\n",
       "      <th>81</th>\n",
       "      <td>PARI Corp</td>\n",
       "      <td>0.0</td>\n",
       "    </tr>\n",
       "    <tr>\n",
       "      <th>122</th>\n",
       "      <td>LIFE Corp</td>\n",
       "      <td>0.0</td>\n",
       "    </tr>\n",
       "    <tr>\n",
       "      <th>152</th>\n",
       "      <td>MCT  Corp</td>\n",
       "      <td>0.0</td>\n",
       "    </tr>\n",
       "    <tr>\n",
       "      <th>172</th>\n",
       "      <td>RADW Corp</td>\n",
       "      <td>0.0</td>\n",
       "    </tr>\n",
       "    <tr>\n",
       "      <th>215</th>\n",
       "      <td>VAVA Corp</td>\n",
       "      <td>0.0</td>\n",
       "    </tr>\n",
       "    <tr>\n",
       "      <th>231</th>\n",
       "      <td>YOUG Corp</td>\n",
       "      <td>0.0</td>\n",
       "    </tr>\n",
       "    <tr>\n",
       "      <th>293</th>\n",
       "      <td>REAL Corp</td>\n",
       "      <td>0.0</td>\n",
       "    </tr>\n",
       "    <tr>\n",
       "      <th>336</th>\n",
       "      <td>SEPH Corp</td>\n",
       "      <td>0.0</td>\n",
       "    </tr>\n",
       "    <tr>\n",
       "      <th>391</th>\n",
       "      <td>CHRI Corp</td>\n",
       "      <td>0.0</td>\n",
       "    </tr>\n",
       "    <tr>\n",
       "      <th>408</th>\n",
       "      <td>CWF  Corp</td>\n",
       "      <td>0.0</td>\n",
       "    </tr>\n",
       "    <tr>\n",
       "      <th>421</th>\n",
       "      <td>CARR Corp</td>\n",
       "      <td>0.0</td>\n",
       "    </tr>\n",
       "    <tr>\n",
       "      <th>429</th>\n",
       "      <td>CGR  Corp</td>\n",
       "      <td>0.0</td>\n",
       "    </tr>\n",
       "    <tr>\n",
       "      <th>437</th>\n",
       "      <td>AL F Corp</td>\n",
       "      <td>0.0</td>\n",
       "    </tr>\n",
       "    <tr>\n",
       "      <th>448</th>\n",
       "      <td>AL S Corp</td>\n",
       "      <td>0.0</td>\n",
       "    </tr>\n",
       "    <tr>\n",
       "      <th>449</th>\n",
       "      <td>AL T Corp</td>\n",
       "      <td>0.0</td>\n",
       "    </tr>\n",
       "    <tr>\n",
       "      <th>484</th>\n",
       "      <td>ARAB Corp</td>\n",
       "      <td>0.0</td>\n",
       "    </tr>\n",
       "    <tr>\n",
       "      <th>487</th>\n",
       "      <td>AREE Corp</td>\n",
       "      <td>0.0</td>\n",
       "    </tr>\n",
       "    <tr>\n",
       "      <th>504</th>\n",
       "      <td>ALLI Corp</td>\n",
       "      <td>0.0</td>\n",
       "    </tr>\n",
       "    <tr>\n",
       "      <th>540</th>\n",
       "      <td>HABC Corp</td>\n",
       "      <td>0.0</td>\n",
       "    </tr>\n",
       "    <tr>\n",
       "      <th>635</th>\n",
       "      <td>DEBE Corp</td>\n",
       "      <td>0.0</td>\n",
       "    </tr>\n",
       "    <tr>\n",
       "      <th>668</th>\n",
       "      <td>FARO Corp</td>\n",
       "      <td>0.0</td>\n",
       "    </tr>\n",
       "  </tbody>\n",
       "</table>\n",
       "</div>"
      ],
      "text/plain": [
       "    CUSTOMER_NAME  default\n",
       "80      PARF Corp      0.0\n",
       "81      PARI Corp      0.0\n",
       "122     LIFE Corp      0.0\n",
       "152     MCT  Corp      0.0\n",
       "172     RADW Corp      0.0\n",
       "215     VAVA Corp      0.0\n",
       "231     YOUG Corp      0.0\n",
       "293     REAL Corp      0.0\n",
       "336     SEPH Corp      0.0\n",
       "391     CHRI Corp      0.0\n",
       "408     CWF  Corp      0.0\n",
       "421     CARR Corp      0.0\n",
       "429     CGR  Corp      0.0\n",
       "437     AL F Corp      0.0\n",
       "448     AL S Corp      0.0\n",
       "449     AL T Corp      0.0\n",
       "484     ARAB Corp      0.0\n",
       "487     AREE Corp      0.0\n",
       "504     ALLI Corp      0.0\n",
       "540     HABC Corp      0.0\n",
       "635     DEBE Corp      0.0\n",
       "668     FARO Corp      0.0"
      ]
     },
     "execution_count": 86,
     "metadata": {},
     "output_type": "execute_result"
    }
   ],
   "source": [
    "# Checking only important customers late payment rate\n",
    "\n",
    "imp_cust_late = customer_total_orders_late[customer_total_orders_late['CUSTOMER_NAME'].isin(imp_cust)]\n",
    "imp_cust_late"
   ]
  },
  {
   "cell_type": "markdown",
   "id": "8816ccd7-2971-4209-ba5c-1ea65855e945",
   "metadata": {},
   "source": [
    "##### INVOICE_CLASS column"
   ]
  },
  {
   "cell_type": "code",
   "execution_count": 88,
   "id": "4b3b9b9c-b20a-4204-add5-958668322b0e",
   "metadata": {},
   "outputs": [
    {
     "data": {
      "image/png": "[encoded data removed]",
      "text/plain": [
       "<Figure size 640x480 with 1 Axes>"
      ]
     },
     "metadata": {},
     "output_type": "display_data"
    }
   ],
   "source": [
    "# Visualising the late payment ratio of each invoice class\n",
    "\n",
    "sns.barplot(data=rec_pay_data, x='INVOICE_CLASS', y='default', estimator=np.mean, palette='RdYlGn')\n",
    "plt.title(\"Invoice Class with Late Payment ratio\")\n",
    "plt.xlabel(\"Invoice Class\")\n",
    "plt.ylabel(\"Late Payment Ratio\")\n",
    "plt.show()"
   ]
  },
  {
   "cell_type": "markdown",
   "id": "8f6a6392-5882-4120-977e-78f1baea5994",
   "metadata": {},
   "source": [
    "##### Late payment ratio is very high for CM and lowest for INV INVOICE_CLASS."
   ]
  },
  {
   "cell_type": "markdown",
   "id": "7bbe6e83-024e-4428-8d4a-ffce1b2db676",
   "metadata": {},
   "source": [
    "### Late payment ratio is very high for CM and lowest for INV INVOICE_CLASS."
   ]
  },
  {
   "cell_type": "code",
   "execution_count": 91,
   "id": "2c0a76df-871e-4f61-aa38-167df3faabdc",
   "metadata": {},
   "outputs": [
    {
     "data": {
      "image/png": "[encoded data removed]",
      "text/plain": [
       "<Figure size 600x400 with 1 Axes>"
      ]
     },
     "metadata": {},
     "output_type": "display_data"
    }
   ],
   "source": [
    "# Visualising the late payment ratio of each Invoice Type\n",
    "plt.figure(figsize=(6,4))\n",
    "\n",
    "sns.barplot(data=rec_pay_data, x='INVOICE_TYPE', y='default', estimator=np.mean, palette='RdYlGn')\n",
    "plt.title(\"Invoice Type with Late Payment ratio\")\n",
    "plt.xlabel(\"Invoice Type\")\n",
    "plt.ylabel(\"Late Payment Ratio\")\n",
    "plt.show()"
   ]
  },
  {
   "cell_type": "markdown",
   "id": "d6103017-1d85-4423-a0c7-3de4a6fd4dd8",
   "metadata": {},
   "source": [
    "###### Late payment ratio for Goods is higher than Non-Goods."
   ]
  },
  {
   "cell_type": "markdown",
   "id": "54e65369-5d9a-43f8-8483-61f2fe86e67e",
   "metadata": {},
   "source": [
    "#### Step 3: Feature Engineering"
   ]
  },
  {
   "cell_type": "markdown",
   "id": "7e39451a-e2b6-4a33-ad35-737b967474eb",
   "metadata": {},
   "source": [
    "##### PAYMENT_TERM column"
   ]
  },
  {
   "cell_type": "code",
   "execution_count": 95,
   "id": "672c407f-407d-43f2-b8dc-6e986c95b99a",
   "metadata": {},
   "outputs": [
    {
     "data": {
      "text/plain": [
       "PAYMENT_TERM\n",
       "60 Days from Inv Date                                      0.212712\n",
       "30 Days from Inv Date                                      0.363793\n",
       "60 Days from EOM                                           0.498605\n",
       "30 Days from EOM                                           0.620368\n",
       "15 Days from EOM                                           0.701533\n",
       "Immediate Payment                                          0.760449\n",
       "Immediate                                                  0.813740\n",
       "90 Days from EOM                                           0.855685\n",
       "45 Days from Inv Date                                      0.893935\n",
       "45 Days from EOM                                           0.931743\n",
       "90 Days from Inv Date                                      0.955566\n",
       "100% Adv Payment                                           0.968905\n",
       "25 DAYS FROM EOM                                           0.973882\n",
       "Cash on Delivery                                           0.978386\n",
       "15 Days from Inv Date                                      0.982222\n",
       "45 DAYS + EOM                                              0.985691\n",
       "On Consignment                                             0.988536\n",
       "EOM                                                        0.991036\n",
       "75 Days from EOM                                           0.993158\n",
       "120 Days from Inv Date                                     0.994473\n",
       "LC at 60 days                                              0.995712\n",
       "50% Advance 50% INVDATE+60 DAYS                            0.996725\n",
       "75 Days from Inv Date                                      0.997360\n",
       "7 Days from Inv Date                                       0.997856\n",
       "50% ADV 50% 30 Days                                        0.998330\n",
       "LCSight                                                    0.998664\n",
       "LC at 90 days                                              0.998976\n",
       "195 days from Invoice Date                                 0.999224\n",
       "LC at 60 days from FCR/AWB/BL date                         0.999418\n",
       "30% advance 70% after 60 days from invoice date            0.999569\n",
       "50% ADVANCE PAYMENT AND 50% UPON RECEIVING THE SHIPMENT    0.999655\n",
       "30% advance 70% after 30 days from invoice date            0.999720\n",
       "Cash Against Document at sight                             0.999785\n",
       "365 DAYS FROM INVOICE DATE                                 0.999838\n",
       "25% ADVANCE, 75% 30 DAYS FROM INVOICE DATE                 0.999881\n",
       "Advance with discount                                      0.999903\n",
       "50% at 30 days and 50% at 60 days                          0.999925\n",
       "40 DAYS FROM EOM                                           0.999946\n",
       "Standby LC at 30 days                                      0.999968\n",
       "180 DAYS FROM INV DATE                                     0.999978\n",
       "120 Days from EOM                                          0.999989\n",
       "7 Days from EOM                                            1.000000\n",
       "Name: proportion, dtype: float64"
      ]
     },
     "execution_count": 95,
     "metadata": {},
     "output_type": "execute_result"
    }
   ],
   "source": [
    "# Using cumsum() function to get cummulative sum on value_counts()\n",
    "\n",
    "pay_term_cumsum = rec_pay_data['PAYMENT_TERM'].value_counts(normalize=True).cumsum()\n",
    "pay_term_cumsum"
   ]
  },
  {
   "cell_type": "code",
   "execution_count": 96,
   "id": "6b0644f7-0da2-4688-b98e-0e67ce2db2ba",
   "metadata": {},
   "outputs": [
    {
     "data": {
      "text/plain": [
       "PAYMENT_TERM\n",
       "60 Days from Inv Date                                      0.212712\n",
       "30 Days from Inv Date                                      0.363793\n",
       "60 Days from EOM                                           0.498605\n",
       "30 Days from EOM                                           0.620368\n",
       "Immediate Payment                                          0.732575\n",
       "15 Days from EOM                                           0.813740\n",
       "90 Days from EOM                                           0.855685\n",
       "45 Days from EOM                                           0.896963\n",
       "45 Days from Inv Date                                      0.935212\n",
       "90 Days from Inv Date                                      0.959035\n",
       "100% Adv Payment                                           0.972374\n",
       "25 DAYS FROM EOM                                           0.977352\n",
       "Cash on Delivery                                           0.981856\n",
       "15 Days from Inv Date                                      0.985691\n",
       "On Consignment                                             0.988536\n",
       "EOM                                                        0.991036\n",
       "75 Days from EOM                                           0.993158\n",
       "120 Days from Inv Date                                     0.994473\n",
       "LC at 60 days                                              0.995712\n",
       "50% Advance 50% INVDATE+60 DAYS                            0.996725\n",
       "75 Days from Inv Date                                      0.997360\n",
       "7 Days from Inv Date                                       0.997856\n",
       "50% ADV 50% 30 Days                                        0.998330\n",
       "LCSight                                                    0.998664\n",
       "LC at 90 days                                              0.998976\n",
       "195 days from Invoice Date                                 0.999224\n",
       "LC at 60 days from FCR/AWB/BL date                         0.999418\n",
       "30% advance 70% after 60 days from invoice date            0.999569\n",
       "50% ADVANCE PAYMENT AND 50% UPON RECEIVING THE SHIPMENT    0.999655\n",
       "30% advance 70% after 30 days from invoice date            0.999720\n",
       "Cash Against Document at sight                             0.999785\n",
       "365 DAYS FROM INVOICE DATE                                 0.999838\n",
       "25% ADVANCE, 75% 30 DAYS FROM INVOICE DATE                 0.999881\n",
       "Advance with discount                                      0.999903\n",
       "Standby LC at 30 days                                      0.999925\n",
       "50% at 30 days and 50% at 60 days                          0.999946\n",
       "40 DAYS FROM EOM                                           0.999968\n",
       "180 DAYS FROM INV DATE                                     0.999978\n",
       "120 Days from EOM                                          0.999989\n",
       "7 Days from EOM                                            1.000000\n",
       "Name: proportion, dtype: float64"
      ]
     },
     "execution_count": 96,
     "metadata": {},
     "output_type": "execute_result"
    }
   ],
   "source": [
    "# Both Immediate and Immediate payment are same, hence replacing with Immediate Payment\n",
    "\n",
    "rec_pay_data['PAYMENT_TERM'] = rec_pay_data['PAYMENT_TERM'].replace('Immediate', 'Immediate Payment')\n",
    "\n",
    "# 45 Days from EOM and 45 DAYS + EOM are giving same information, hence using 45 Days from EOM\n",
    "rec_pay_data['PAYMENT_TERM'] = rec_pay_data['PAYMENT_TERM'].replace('45 DAYS + EOM', '45 Days from EOM')\n",
    "\n",
    "pay_term_cumsum = rec_pay_data['PAYMENT_TERM'].value_counts(normalize=True).cumsum()\n",
    "pay_term_cumsum"
   ]
  },
  {
   "cell_type": "markdown",
   "id": "e19c4991-9c7f-46be-a238-05b60d9b37fe",
   "metadata": {},
   "source": [
    "##### As it can be seen, around 95% of data is covered by 10 values, hence we will club the rest of the values to others in both datasets."
   ]
  },
  {
   "cell_type": "code",
   "execution_count": 98,
   "id": "e260151e-d7e8-4ffe-adf3-e8281ccd87e3",
   "metadata": {},
   "outputs": [
    {
     "data": {
      "text/plain": [
       "PAYMENT_TERM\n",
       "60 Days from Inv Date    19742\n",
       "30 Days from Inv Date    14022\n",
       "60 Days from EOM         12512\n",
       "30 Days from EOM         11301\n",
       "Immediate Payment        10414\n",
       "15 Days from EOM          7533\n",
       "90 Days from EOM          3893\n",
       "45 Days from EOM          3831\n",
       "others                    3802\n",
       "45 Days from Inv Date     3550\n",
       "90 Days from Inv Date     2211\n",
       "Name: count, dtype: int64"
      ]
     },
     "execution_count": 98,
     "metadata": {},
     "output_type": "execute_result"
    }
   ],
   "source": [
    "# Top 10 values to keep\n",
    "vals_to_keep= pay_term_cumsum.index[:10]\n",
    "\n",
    "# Clubbing the rest values to others\n",
    "rec_pay_data['PAYMENT_TERM'] = rec_pay_data['PAYMENT_TERM'].apply(lambda x : x if x in vals_to_keep else 'others')\n",
    "\n",
    "rec_pay_data['PAYMENT_TERM'].value_counts() # Sanity Check"
   ]
  },
  {
   "cell_type": "markdown",
   "id": "6b283f19-e417-42c3-8857-48b8c6ae994e",
   "metadata": {},
   "source": [
    "#### Dummy Variable"
   ]
  },
  {
   "cell_type": "code",
   "execution_count": 100,
   "id": "5033d535-89f7-42d5-aba4-efbb6fc3eb44",
   "metadata": {},
   "outputs": [
    {
     "data": {
      "text/plain": [
       "(92811, 26)"
      ]
     },
     "execution_count": 100,
     "metadata": {},
     "output_type": "execute_result"
    }
   ],
   "source": [
    "# Creating dummy variables for the 'PAYMENT_TERM' column\n",
    "\n",
    "term_dummies= pd.get_dummies(rec_pay_data['PAYMENT_TERM']).drop('others', axis=1)\n",
    "\n",
    "rec_pay_data = rec_pay_data.join(term_dummies).drop('PAYMENT_TERM', axis=1 )\n",
    "rec_pay_data.shape # Sanity Check"
   ]
  },
  {
   "cell_type": "code",
   "execution_count": 101,
   "id": "c690d635-f940-4355-9e22-0c5b97b7b2d3",
   "metadata": {},
   "outputs": [],
   "source": [
    "# Creating dummy variables for the 'INVOICE_CLASS' column\n",
    "\n",
    "class_dummies= pd.get_dummies(rec_pay_data['INVOICE_CLASS'])\n",
    "class_dummies\n",
    "rec_pay_data = rec_pay_data.join(class_dummies).drop('INVOICE_CLASS', axis=1 )"
   ]
  },
  {
   "cell_type": "code",
   "execution_count": 102,
   "id": "cef4850f-9b5f-48de-bb1d-72b2fac2c6d9",
   "metadata": {},
   "outputs": [
    {
     "data": {
      "text/plain": [
       "(92811, 28)"
      ]
     },
     "execution_count": 102,
     "metadata": {},
     "output_type": "execute_result"
    }
   ],
   "source": [
    "rec_pay_data.shape"
   ]
  },
  {
   "cell_type": "code",
   "execution_count": 103,
   "id": "49306d48-c603-4569-a977-aa7ec12e33c9",
   "metadata": {},
   "outputs": [
    {
     "data": {
      "text/plain": [
       "Index(['RECEIPT_METHOD', 'CUSTOMER_NAME', 'CUSTOMER_NUMBER', 'RECEIPT_DATE',\n",
       "       'CURRENCY_CODE', 'USD Amount', 'INVOICE_ALLOCATED',\n",
       "       'INVOICE_CREATION_DATE', 'DUE_DATE', 'INVOICE_CURRENCY_CODE',\n",
       "       'INVOICE_TYPE', 'default', 'month_reciept', 'month_inv_creation',\n",
       "       'month_due', '15 Days from EOM', '30 Days from EOM',\n",
       "       '30 Days from Inv Date', '45 Days from EOM', '45 Days from Inv Date',\n",
       "       '60 Days from EOM', '60 Days from Inv Date', '90 Days from EOM',\n",
       "       '90 Days from Inv Date', 'Immediate Payment', 'CM', 'DM', 'INV'],\n",
       "      dtype='object')"
      ]
     },
     "execution_count": 103,
     "metadata": {},
     "output_type": "execute_result"
    }
   ],
   "source": [
    "rec_pay_data.columns"
   ]
  },
  {
   "cell_type": "markdown",
   "id": "9f305b37-7612-421c-97ea-397d6dd6dfd5",
   "metadata": {},
   "source": [
    "#### Open Invoice Data"
   ]
  },
  {
   "cell_type": "markdown",
   "id": "2de66cea-f742-49d3-b64b-8fdba8d2818b",
   "metadata": {},
   "source": [
    "#### Reading and understanding the data"
   ]
  },
  {
   "cell_type": "code",
   "execution_count": 106,
   "id": "1f230b67-2236-4135-98bb-4753e1a40318",
   "metadata": {},
   "outputs": [
    {
     "data": {
      "text/html": [
       "<div>\n",
       "<style scoped>\n",
       "    .dataframe tbody tr th:only-of-type {\n",
       "        vertical-align: middle;\n",
       "    }\n",
       "\n",
       "    .dataframe tbody tr th {\n",
       "        vertical-align: top;\n",
       "    }\n",
       "\n",
       "    .dataframe thead th {\n",
       "        text-align: right;\n",
       "    }\n",
       "</style>\n",
       "<table border=\"1\" class=\"dataframe\">\n",
       "  <thead>\n",
       "    <tr style=\"text-align: right;\">\n",
       "      <th></th>\n",
       "      <th>AS_OF_DATE</th>\n",
       "      <th>Customer Type</th>\n",
       "      <th>Customer_Name</th>\n",
       "      <th>Customer Account No</th>\n",
       "      <th>Transaction Number</th>\n",
       "      <th>Transaction Date</th>\n",
       "      <th>Payment Term</th>\n",
       "      <th>Due Date</th>\n",
       "      <th>Transaction Currency</th>\n",
       "      <th>Local Amount</th>\n",
       "      <th>Transaction Class</th>\n",
       "      <th>AGE</th>\n",
       "      <th>USD Amount</th>\n",
       "      <th>INV_CREATION_DATE</th>\n",
       "    </tr>\n",
       "  </thead>\n",
       "  <tbody>\n",
       "    <tr>\n",
       "      <th>0</th>\n",
       "      <td>04-APR-2022 01:07:01</td>\n",
       "      <td>3rd Party</td>\n",
       "      <td>GIVE Corp</td>\n",
       "      <td>49144.0</td>\n",
       "      <td>100210000438</td>\n",
       "      <td>21/12/2021</td>\n",
       "      <td>Immediate</td>\n",
       "      <td>21/12/2021</td>\n",
       "      <td>AED</td>\n",
       "      <td>-3,088</td>\n",
       "      <td>CREDIT NOTE</td>\n",
       "      <td>105</td>\n",
       "      <td>-3,088</td>\n",
       "      <td>12/21/2021 12:53</td>\n",
       "    </tr>\n",
       "    <tr>\n",
       "      <th>1</th>\n",
       "      <td>04-APR-2022 01:07:01</td>\n",
       "      <td>Related Party</td>\n",
       "      <td>AL J Corp</td>\n",
       "      <td>23152.0</td>\n",
       "      <td>100220000052</td>\n",
       "      <td>01/02/2022</td>\n",
       "      <td>30 Days from Inv Date</td>\n",
       "      <td>03/03/2022</td>\n",
       "      <td>USD</td>\n",
       "      <td>2,000</td>\n",
       "      <td>INVOICE</td>\n",
       "      <td>33</td>\n",
       "      <td>2,000</td>\n",
       "      <td>2/1/2022 14:09</td>\n",
       "    </tr>\n",
       "    <tr>\n",
       "      <th>2</th>\n",
       "      <td>04-APR-2022 01:07:01</td>\n",
       "      <td>Related Party</td>\n",
       "      <td>AL J Corp</td>\n",
       "      <td>23152.0</td>\n",
       "      <td>100220000143</td>\n",
       "      <td>24/03/2022</td>\n",
       "      <td>30 Days from Inv Date</td>\n",
       "      <td>23/04/2022</td>\n",
       "      <td>USD</td>\n",
       "      <td>2,000</td>\n",
       "      <td>INVOICE</td>\n",
       "      <td>-18</td>\n",
       "      <td>2,000</td>\n",
       "      <td>3/24/2022 17:46</td>\n",
       "    </tr>\n",
       "    <tr>\n",
       "      <th>3</th>\n",
       "      <td>04-APR-2022 01:07:01</td>\n",
       "      <td>Related Party</td>\n",
       "      <td>AL R Corp</td>\n",
       "      <td>23312.0</td>\n",
       "      <td>100220000001</td>\n",
       "      <td>04/01/2022</td>\n",
       "      <td>15 Days from Inv Date</td>\n",
       "      <td>19/01/2022</td>\n",
       "      <td>AED</td>\n",
       "      <td>2,415</td>\n",
       "      <td>INVOICE</td>\n",
       "      <td>76</td>\n",
       "      <td>2,415</td>\n",
       "      <td>1/5/2022 11:49</td>\n",
       "    </tr>\n",
       "    <tr>\n",
       "      <th>4</th>\n",
       "      <td>04-APR-2022 01:07:01</td>\n",
       "      <td>Related Party</td>\n",
       "      <td>ALLI Corp</td>\n",
       "      <td>7530.0</td>\n",
       "      <td>100220000105</td>\n",
       "      <td>03/03/2022</td>\n",
       "      <td>30 Days from EOM</td>\n",
       "      <td>30/04/2022</td>\n",
       "      <td>AED</td>\n",
       "      <td>3,800</td>\n",
       "      <td>INVOICE</td>\n",
       "      <td>-25</td>\n",
       "      <td>3,800</td>\n",
       "      <td>3/3/2022 22:30</td>\n",
       "    </tr>\n",
       "  </tbody>\n",
       "</table>\n",
       "</div>"
      ],
      "text/plain": [
       "             AS_OF_DATE  Customer Type Customer_Name  Customer Account No  \\\n",
       "0  04-APR-2022 01:07:01      3rd Party     GIVE Corp              49144.0   \n",
       "1  04-APR-2022 01:07:01  Related Party     AL J Corp              23152.0   \n",
       "2  04-APR-2022 01:07:01  Related Party     AL J Corp              23152.0   \n",
       "3  04-APR-2022 01:07:01  Related Party     AL R Corp              23312.0   \n",
       "4  04-APR-2022 01:07:01  Related Party     ALLI Corp               7530.0   \n",
       "\n",
       "  Transaction Number Transaction Date           Payment Term    Due Date  \\\n",
       "0       100210000438       21/12/2021              Immediate  21/12/2021   \n",
       "1       100220000052       01/02/2022  30 Days from Inv Date  03/03/2022   \n",
       "2       100220000143       24/03/2022  30 Days from Inv Date  23/04/2022   \n",
       "3       100220000001       04/01/2022  15 Days from Inv Date  19/01/2022   \n",
       "4       100220000105       03/03/2022       30 Days from EOM  30/04/2022   \n",
       "\n",
       "  Transaction Currency Local Amount Transaction Class  AGE USD Amount  \\\n",
       "0                  AED       -3,088       CREDIT NOTE  105     -3,088   \n",
       "1                  USD        2,000           INVOICE   33      2,000   \n",
       "2                  USD        2,000           INVOICE  -18      2,000   \n",
       "3                  AED        2,415           INVOICE   76      2,415   \n",
       "4                  AED        3,800           INVOICE  -25      3,800   \n",
       "\n",
       "  INV_CREATION_DATE  \n",
       "0  12/21/2021 12:53  \n",
       "1    2/1/2022 14:09  \n",
       "2   3/24/2022 17:46  \n",
       "3    1/5/2022 11:49  \n",
       "4    3/3/2022 22:30  "
      ]
     },
     "execution_count": 106,
     "metadata": {},
     "output_type": "execute_result"
    }
   ],
   "source": [
    "# Reading the open invoice dataset\n",
    "open_data = pd.read_csv(\"C:\\\\Users\\\\SHRADDHA\\\\Downloads\\\\Open_Invoice_data (3).csv\", encoding='latin1')\n",
    "open_data.head()    "
   ]
  },
  {
   "cell_type": "code",
   "execution_count": 107,
   "id": "1cecee4b-46bf-4409-9d90-44c03a4434c0",
   "metadata": {},
   "outputs": [
    {
     "data": {
      "text/plain": [
       "(88204, 14)"
      ]
     },
     "execution_count": 107,
     "metadata": {},
     "output_type": "execute_result"
    }
   ],
   "source": [
    "open_data.shape"
   ]
  },
  {
   "cell_type": "code",
   "execution_count": 108,
   "id": "f5b4b8dc-3967-4509-a7ac-d08118edfe7c",
   "metadata": {},
   "outputs": [],
   "source": [
    "# Removing unecessary columns (that are not there in the receiced payment dataset)\n",
    "# Dropping 'Transaction Number','Customer Account No' as they bear no significance for our target var.\n",
    "# Dropping 'Local amount'\n",
    "\n",
    "open_data.drop(['AS_OF_DATE','Customer Type','Transaction Date','Transaction Currency','Transaction Number',\n",
    "              'Customer Account No','Local Amount'], axis= 1, inplace= True)\n"
   ]
  },
  {
   "cell_type": "code",
   "execution_count": 109,
   "id": "80e76bbd-a34c-4031-93af-35ad250f5618",
   "metadata": {},
   "outputs": [
    {
     "data": {
      "text/plain": [
       "(88204, 7)"
      ]
     },
     "execution_count": 109,
     "metadata": {},
     "output_type": "execute_result"
    }
   ],
   "source": [
    "# Checking the shape of the data again\n",
    "open_data.shape"
   ]
  },
  {
   "cell_type": "code",
   "execution_count": 110,
   "id": "f644a899-fef6-4b3a-aa52-9fec8f6b7fcd",
   "metadata": {},
   "outputs": [
    {
     "name": "stdout",
     "output_type": "stream",
     "text": [
      "Index(['Customer_Name', 'Payment Term', 'Due Date', 'Transaction Class', 'AGE',\n",
      "       'USD Amount', 'INV_CREATION_DATE'],\n",
      "      dtype='object')\n",
      "Index(['Customer_Name', 'Payment Term', 'Due Date', 'Transaction Class', 'AGE',\n",
      "       'USD Amount', 'INV_CREATION_DATE'],\n",
      "      dtype='object')\n"
     ]
    }
   ],
   "source": [
    "print(open_data.columns)\n",
    "\n",
    "# Dropping unnecessary columns, ignoring if some are missing\n",
    "open_data.drop(['AS_OF_DATE', 'Customer Type', 'Transaction Date', 'Transaction Currency', \n",
    "                'Transaction Number', 'Customer Account No', 'Local Amount'], axis=1, errors='ignore', inplace=True)\n",
    "\n",
    "# Verify the remaining columns\n",
    "print(open_data.columns)\n"
   ]
  },
  {
   "cell_type": "code",
   "execution_count": 111,
   "id": "aa8cf8f7-7013-4ba0-91d4-80418d1e324d",
   "metadata": {},
   "outputs": [
    {
     "data": {
      "text/html": [
       "<div>\n",
       "<style scoped>\n",
       "    .dataframe tbody tr th:only-of-type {\n",
       "        vertical-align: middle;\n",
       "    }\n",
       "\n",
       "    .dataframe tbody tr th {\n",
       "        vertical-align: top;\n",
       "    }\n",
       "\n",
       "    .dataframe thead th {\n",
       "        text-align: right;\n",
       "    }\n",
       "</style>\n",
       "<table border=\"1\" class=\"dataframe\">\n",
       "  <thead>\n",
       "    <tr style=\"text-align: right;\">\n",
       "      <th></th>\n",
       "      <th>Customer_Name</th>\n",
       "      <th>Payment Term</th>\n",
       "      <th>Due Date</th>\n",
       "      <th>Transaction Class</th>\n",
       "      <th>AGE</th>\n",
       "      <th>USD Amount</th>\n",
       "      <th>INV_CREATION_DATE</th>\n",
       "    </tr>\n",
       "  </thead>\n",
       "  <tbody>\n",
       "    <tr>\n",
       "      <th>0</th>\n",
       "      <td>GIVE Corp</td>\n",
       "      <td>Immediate</td>\n",
       "      <td>21/12/2021</td>\n",
       "      <td>CREDIT NOTE</td>\n",
       "      <td>105</td>\n",
       "      <td>-3,088</td>\n",
       "      <td>12/21/2021 12:53</td>\n",
       "    </tr>\n",
       "    <tr>\n",
       "      <th>1</th>\n",
       "      <td>AL J Corp</td>\n",
       "      <td>30 Days from Inv Date</td>\n",
       "      <td>03/03/2022</td>\n",
       "      <td>INVOICE</td>\n",
       "      <td>33</td>\n",
       "      <td>2,000</td>\n",
       "      <td>2/1/2022 14:09</td>\n",
       "    </tr>\n",
       "    <tr>\n",
       "      <th>2</th>\n",
       "      <td>AL J Corp</td>\n",
       "      <td>30 Days from Inv Date</td>\n",
       "      <td>23/04/2022</td>\n",
       "      <td>INVOICE</td>\n",
       "      <td>-18</td>\n",
       "      <td>2,000</td>\n",
       "      <td>3/24/2022 17:46</td>\n",
       "    </tr>\n",
       "    <tr>\n",
       "      <th>3</th>\n",
       "      <td>AL R Corp</td>\n",
       "      <td>15 Days from Inv Date</td>\n",
       "      <td>19/01/2022</td>\n",
       "      <td>INVOICE</td>\n",
       "      <td>76</td>\n",
       "      <td>2,415</td>\n",
       "      <td>1/5/2022 11:49</td>\n",
       "    </tr>\n",
       "    <tr>\n",
       "      <th>4</th>\n",
       "      <td>ALLI Corp</td>\n",
       "      <td>30 Days from EOM</td>\n",
       "      <td>30/04/2022</td>\n",
       "      <td>INVOICE</td>\n",
       "      <td>-25</td>\n",
       "      <td>3,800</td>\n",
       "      <td>3/3/2022 22:30</td>\n",
       "    </tr>\n",
       "  </tbody>\n",
       "</table>\n",
       "</div>"
      ],
      "text/plain": [
       "  Customer_Name           Payment Term    Due Date Transaction Class  AGE  \\\n",
       "0     GIVE Corp              Immediate  21/12/2021       CREDIT NOTE  105   \n",
       "1     AL J Corp  30 Days from Inv Date  03/03/2022           INVOICE   33   \n",
       "2     AL J Corp  30 Days from Inv Date  23/04/2022           INVOICE  -18   \n",
       "3     AL R Corp  15 Days from Inv Date  19/01/2022           INVOICE   76   \n",
       "4     ALLI Corp       30 Days from EOM  30/04/2022           INVOICE  -25   \n",
       "\n",
       "  USD Amount INV_CREATION_DATE  \n",
       "0     -3,088  12/21/2021 12:53  \n",
       "1      2,000    2/1/2022 14:09  \n",
       "2      2,000   3/24/2022 17:46  \n",
       "3      2,415    1/5/2022 11:49  \n",
       "4      3,800    3/3/2022 22:30  "
      ]
     },
     "execution_count": 111,
     "metadata": {},
     "output_type": "execute_result"
    }
   ],
   "source": [
    "# Checking the head\n",
    "open_data.head()"
   ]
  },
  {
   "cell_type": "code",
   "execution_count": 112,
   "id": "a26a4afb-e6d0-4782-964b-1b98f0f95b28",
   "metadata": {},
   "outputs": [
    {
     "name": "stdout",
     "output_type": "stream",
     "text": [
      "<class 'pandas.core.frame.DataFrame'>\n",
      "RangeIndex: 88204 entries, 0 to 88203\n",
      "Data columns (total 7 columns):\n",
      " #   Column             Non-Null Count  Dtype \n",
      "---  ------             --------------  ----- \n",
      " 0   Customer_Name      88204 non-null  object\n",
      " 1   Payment Term       88204 non-null  object\n",
      " 2   Due Date           88204 non-null  object\n",
      " 3   Transaction Class  88204 non-null  object\n",
      " 4   AGE                88204 non-null  int64 \n",
      " 5   USD Amount         88204 non-null  object\n",
      " 6   INV_CREATION_DATE  88204 non-null  object\n",
      "dtypes: int64(1), object(6)\n",
      "memory usage: 4.7+ MB\n"
     ]
    }
   ],
   "source": [
    "# Checking the info of the data\n",
    "open_data.info()"
   ]
  },
  {
   "cell_type": "code",
   "execution_count": 113,
   "id": "9725a65a-87bb-4ec3-92db-918a9fa3adc6",
   "metadata": {},
   "outputs": [
    {
     "data": {
      "text/plain": [
       "Customer_Name        0.0\n",
       "Payment Term         0.0\n",
       "Due Date             0.0\n",
       "Transaction Class    0.0\n",
       "AGE                  0.0\n",
       "USD Amount           0.0\n",
       "INV_CREATION_DATE    0.0\n",
       "dtype: float64"
      ]
     },
     "execution_count": 113,
     "metadata": {},
     "output_type": "execute_result"
    }
   ],
   "source": [
    "# Checking for null values\n",
    "round(open_data.isna().sum()/len(open_data.index), 4)\n"
   ]
  },
  {
   "cell_type": "markdown",
   "id": "ba47776b-7478-4879-8d69-9a0a79c215ae",
   "metadata": {},
   "source": [
    "##### No null values present in the dataset."
   ]
  },
  {
   "cell_type": "code",
   "execution_count": 115,
   "id": "6038a290-b0b6-42f6-a7d4-7267080b8d8a",
   "metadata": {},
   "outputs": [],
   "source": [
    "# Changing the format of 'Due Date' and 'INV_CREATION_DATE' to pandas datetime\n",
    "open_data['Due Date'] = pd.to_datetime(open_data['Due Date'])\n",
    "open_data['INV_CREATION_DATE'] = pd.to_datetime(open_data['INV_CREATION_DATE'])\n"
   ]
  },
  {
   "cell_type": "code",
   "execution_count": 116,
   "id": "1737fcc9-e992-4105-b3cd-cfe24e67e90b",
   "metadata": {},
   "outputs": [
    {
     "data": {
      "text/plain": [
       "array(['-3,088', '2,000', '2,415', ..., '-914', '12,866', '18,118'],\n",
       "      dtype=object)"
      ]
     },
     "execution_count": 116,
     "metadata": {},
     "output_type": "execute_result"
    }
   ],
   "source": [
    "# Checking the different values present in USD Amount column\n",
    "open_data['USD Amount'].unique()"
   ]
  },
  {
   "cell_type": "code",
   "execution_count": 117,
   "id": "d773ca31-e9d6-43ed-ac96-03ac2bc635dd",
   "metadata": {},
   "outputs": [],
   "source": [
    "# Replace commas and convert to float, handling non-string values\n",
    "open_data['USD Amount'] = open_data['USD Amount'].apply(\n",
    "    lambda x: x.replace(\",\", \"\") if isinstance(x, str) else x\n",
    ")\n",
    "\n",
    "# Convert the cleaned values to float (or int, if applicable)\n",
    "open_data['USD Amount'] = open_data['USD Amount'].astype(float)"
   ]
  },
  {
   "cell_type": "code",
   "execution_count": 118,
   "id": "52c2d2b9-5503-4e58-ba94-b5be6c5c8040",
   "metadata": {},
   "outputs": [
    {
     "data": {
      "text/plain": [
       "0        -3088.0\n",
       "1         2000.0\n",
       "2         2000.0\n",
       "3         2415.0\n",
       "4         3800.0\n",
       "          ...   \n",
       "88199    -1199.0\n",
       "88200     -914.0\n",
       "88201    12866.0\n",
       "88202    18118.0\n",
       "88203    18499.0\n",
       "Name: USD Amount, Length: 88204, dtype: float64"
      ]
     },
     "execution_count": 118,
     "metadata": {},
     "output_type": "execute_result"
    }
   ],
   "source": [
    "# Checking the USD Amount column again\n",
    "open_data['USD Amount']"
   ]
  },
  {
   "cell_type": "markdown",
   "id": "5b6c3f4d-025d-488c-86bf-5a254cbf0881",
   "metadata": {},
   "source": [
    "#### There are negative values present in the column, hence it is safe to remove negative and 0 values."
   ]
  },
  {
   "cell_type": "code",
   "execution_count": 120,
   "id": "daf4f341-f3d8-4660-9dda-d79640785db1",
   "metadata": {},
   "outputs": [],
   "source": [
    "# Keeping the values above 0 for USD Amount column\n",
    "open_data = open_data[open_data['USD Amount']>0]"
   ]
  },
  {
   "cell_type": "code",
   "execution_count": 121,
   "id": "056832a5-adef-49f6-8e7a-7bf388e31aaa",
   "metadata": {},
   "outputs": [
    {
     "name": "stdout",
     "output_type": "stream",
     "text": [
      "<class 'pandas.core.frame.DataFrame'>\n",
      "Index: 79516 entries, 1 to 88203\n",
      "Data columns (total 7 columns):\n",
      " #   Column             Non-Null Count  Dtype         \n",
      "---  ------             --------------  -----         \n",
      " 0   Customer_Name      79516 non-null  object        \n",
      " 1   Payment Term       79516 non-null  object        \n",
      " 2   Due Date           79516 non-null  datetime64[ns]\n",
      " 3   Transaction Class  79516 non-null  object        \n",
      " 4   AGE                79516 non-null  int64         \n",
      " 5   USD Amount         79516 non-null  float64       \n",
      " 6   INV_CREATION_DATE  79516 non-null  datetime64[ns]\n",
      "dtypes: datetime64[ns](2), float64(1), int64(1), object(3)\n",
      "memory usage: 4.9+ MB\n"
     ]
    }
   ],
   "source": [
    "# Checking the info of the data set\n",
    "open_data.info()"
   ]
  },
  {
   "cell_type": "markdown",
   "id": "0a6b902a-83e3-49d0-b8d2-43303b9d0bdd",
   "metadata": {},
   "source": [
    "#### All the columns are in correct format now."
   ]
  },
  {
   "cell_type": "markdown",
   "id": "c1d50dc9-0508-44c1-a837-a467732a1140",
   "metadata": {},
   "source": [
    "### Feature Engineering"
   ]
  },
  {
   "cell_type": "markdown",
   "id": "2f6d530f-fe53-436c-bf27-5d9e896b9406",
   "metadata": {},
   "source": [
    "#### Payment Term column"
   ]
  },
  {
   "cell_type": "code",
   "execution_count": 125,
   "id": "3ea449fa-c5ff-4d09-a6f9-a8da6dd2354e",
   "metadata": {},
   "outputs": [
    {
     "data": {
      "text/plain": [
       "Payment Term\n",
       "30 Days from Inv Date    18328\n",
       "60 Days from Inv Date    17599\n",
       "Immediate Payment        16202\n",
       "60 Days from EOM          8170\n",
       "others                    5385\n",
       "30 Days from EOM          5324\n",
       "90 Days from EOM          2595\n",
       "90 Days from Inv Date     2429\n",
       "45 Days from Inv Date     1533\n",
       "15 Days from EOM          1097\n",
       "45 Days from EOM           854\n",
       "Name: count, dtype: int64"
      ]
     },
     "execution_count": 125,
     "metadata": {},
     "output_type": "execute_result"
    }
   ],
   "source": [
    "# Keeping the same levels as done in recieved payment dataset\n",
    "open_data['Payment Term'] = open_data['Payment Term'].apply(lambda x: x if x in vals_to_keep else 'others')\n",
    "\n",
    "open_data['Payment Term'].value_counts()"
   ]
  },
  {
   "cell_type": "code",
   "execution_count": 126,
   "id": "d2382262-0779-4bf3-9118-6ce16cfcb5cb",
   "metadata": {},
   "outputs": [
    {
     "name": "stdout",
     "output_type": "stream",
     "text": [
      "Index(['Customer_Name', 'Payment Term', 'Due Date', 'Transaction Class', 'AGE',\n",
      "       'USD Amount', 'INV_CREATION_DATE'],\n",
      "      dtype='object')\n",
      "  Customer_Name   Due Date Transaction Class  AGE  USD Amount  \\\n",
      "1     AL J Corp 2022-03-03           INVOICE   33      2000.0   \n",
      "2     AL J Corp 2022-04-23           INVOICE  -18      2000.0   \n",
      "3     AL R Corp 2022-01-19           INVOICE   76      2415.0   \n",
      "4     ALLI Corp 2022-04-30           INVOICE  -25      3800.0   \n",
      "5     ALLI Corp 2022-04-30           INVOICE  -25      1264.0   \n",
      "\n",
      "    INV_CREATION_DATE  30 Days from EOM  30 Days from Inv Date  \\\n",
      "1 2022-02-01 14:09:00             False                   True   \n",
      "2 2022-03-24 17:46:00             False                   True   \n",
      "3 2022-01-05 11:49:00             False                  False   \n",
      "4 2022-03-03 22:30:00              True                  False   \n",
      "5 2022-03-03 22:30:00              True                  False   \n",
      "\n",
      "   45 Days from EOM  45 Days from Inv Date  60 Days from EOM  \\\n",
      "1             False                  False             False   \n",
      "2             False                  False             False   \n",
      "3             False                  False             False   \n",
      "4             False                  False             False   \n",
      "5             False                  False             False   \n",
      "\n",
      "   60 Days from Inv Date  90 Days from EOM  90 Days from Inv Date  \\\n",
      "1                  False             False                  False   \n",
      "2                  False             False                  False   \n",
      "3                  False             False                  False   \n",
      "4                  False             False                  False   \n",
      "5                  False             False                  False   \n",
      "\n",
      "   Immediate Payment  \n",
      "1              False  \n",
      "2              False  \n",
      "3              False  \n",
      "4              False  \n",
      "5              False  \n"
     ]
    }
   ],
   "source": [
    "print(open_data.columns)\n",
    "\n",
    "import pandas as pd\n",
    "\n",
    "# Check if 'Payment Term' exists in the DataFrame\n",
    "if 'Payment Term' in open_data.columns:\n",
    "    # Create dummy variables for the 'Payment Term' column\n",
    "    term_dummies_open = pd.get_dummies(open_data['Payment Term'], drop_first=True)  # Use drop_first to avoid multicollinearity\n",
    "    \n",
    "    # Check if 'others' exists in the dummy variables and drop it\n",
    "    if 'others' in term_dummies_open.columns:\n",
    "        term_dummies_open = term_dummies_open.drop('others', axis=1)\n",
    "\n",
    "    # Merging the dummies dataframe into open_data and removing the 'Payment Term' column\n",
    "    open_data = open_data.join(term_dummies_open).drop('Payment Term', axis=1)\n",
    "\n",
    "else:\n",
    "    print(\"Column 'Payment Term' does not exist in open_data.\")\n",
    "\n",
    "# Display the first few rows of the updated DataFrame\n",
    "print(open_data.head())"
   ]
  },
  {
   "cell_type": "markdown",
   "id": "d893bca5-b3f2-4c05-a85f-40c91624e53c",
   "metadata": {},
   "source": [
    "#### Transaction Class column"
   ]
  },
  {
   "cell_type": "code",
   "execution_count": 128,
   "id": "79c23c39-0d50-4010-a7b1-48daac5ab4b1",
   "metadata": {},
   "outputs": [
    {
     "name": "stdout",
     "output_type": "stream",
     "text": [
      "Index(['Customer_Name', 'Due Date', 'Transaction Class', 'AGE', 'USD Amount',\n",
      "       'INV_CREATION_DATE', '30 Days from EOM', '30 Days from Inv Date',\n",
      "       '45 Days from EOM', '45 Days from Inv Date', '60 Days from EOM',\n",
      "       '60 Days from Inv Date', '90 Days from EOM', '90 Days from Inv Date',\n",
      "       'Immediate Payment'],\n",
      "      dtype='object')\n",
      "Transaction Class\n",
      "INVOICE       78251\n",
      "DEBIT NOTE     1265\n",
      "Name: count, dtype: int64\n"
     ]
    }
   ],
   "source": [
    "# Check the existing columns\n",
    "print(open_data.columns)\n",
    "\n",
    "# Use get() to check if the column exists before trying to get value counts\n",
    "transaction_class_counts = open_data.get('Transaction Class')\n",
    "if transaction_class_counts is not None:\n",
    "    print(transaction_class_counts.value_counts())\n",
    "else:\n",
    "    print(\"The 'Transaction Class' column does not exist.\")"
   ]
  },
  {
   "cell_type": "code",
   "execution_count": 129,
   "id": "cc134bca-aeb2-4bfb-8ac1-dcb3607a4389",
   "metadata": {},
   "outputs": [],
   "source": [
    "# Replacing INVOICE with INV and DEBIT NOTE WITH DM\n",
    "open_data['Transaction Class'] = open_data['Transaction Class'].map(lambda x: 'INV' if x=='INVOICE' else 'DM')\n",
    "\n"
   ]
  },
  {
   "cell_type": "code",
   "execution_count": 130,
   "id": "f7aa62b0-6701-411a-98e1-7370cb51eeea",
   "metadata": {},
   "outputs": [],
   "source": [
    "# Creating dummy variables for the column\n",
    "tc = pd.get_dummies(open_data['Transaction Class'])\n",
    "\n",
    "# Adding the dummy variables to main dataset and dropping the Transaction Class column\n",
    "open_data = open_data.join(tc).drop('Transaction Class', axis=1)\n",
    "\n",
    "# Adding 'CM' level to the open_data dataset same as received payment data\n",
    "open_data['CM'] = 0"
   ]
  },
  {
   "cell_type": "code",
   "execution_count": 131,
   "id": "6e613c1f-96d3-473b-be3c-4f94ae510e4c",
   "metadata": {},
   "outputs": [
    {
     "data": {
      "text/html": [
       "<div>\n",
       "<style scoped>\n",
       "    .dataframe tbody tr th:only-of-type {\n",
       "        vertical-align: middle;\n",
       "    }\n",
       "\n",
       "    .dataframe tbody tr th {\n",
       "        vertical-align: top;\n",
       "    }\n",
       "\n",
       "    .dataframe thead th {\n",
       "        text-align: right;\n",
       "    }\n",
       "</style>\n",
       "<table border=\"1\" class=\"dataframe\">\n",
       "  <thead>\n",
       "    <tr style=\"text-align: right;\">\n",
       "      <th></th>\n",
       "      <th>Customer_Name</th>\n",
       "      <th>Due Date</th>\n",
       "      <th>AGE</th>\n",
       "      <th>USD Amount</th>\n",
       "      <th>INV_CREATION_DATE</th>\n",
       "      <th>30 Days from EOM</th>\n",
       "      <th>30 Days from Inv Date</th>\n",
       "      <th>45 Days from EOM</th>\n",
       "      <th>45 Days from Inv Date</th>\n",
       "      <th>60 Days from EOM</th>\n",
       "      <th>60 Days from Inv Date</th>\n",
       "      <th>90 Days from EOM</th>\n",
       "      <th>90 Days from Inv Date</th>\n",
       "      <th>Immediate Payment</th>\n",
       "      <th>DM</th>\n",
       "      <th>INV</th>\n",
       "      <th>CM</th>\n",
       "    </tr>\n",
       "  </thead>\n",
       "  <tbody>\n",
       "    <tr>\n",
       "      <th>1</th>\n",
       "      <td>AL J Corp</td>\n",
       "      <td>2022-03-03</td>\n",
       "      <td>33</td>\n",
       "      <td>2000.0</td>\n",
       "      <td>2022-02-01 14:09:00</td>\n",
       "      <td>False</td>\n",
       "      <td>True</td>\n",
       "      <td>False</td>\n",
       "      <td>False</td>\n",
       "      <td>False</td>\n",
       "      <td>False</td>\n",
       "      <td>False</td>\n",
       "      <td>False</td>\n",
       "      <td>False</td>\n",
       "      <td>False</td>\n",
       "      <td>True</td>\n",
       "      <td>0</td>\n",
       "    </tr>\n",
       "    <tr>\n",
       "      <th>2</th>\n",
       "      <td>AL J Corp</td>\n",
       "      <td>2022-04-23</td>\n",
       "      <td>-18</td>\n",
       "      <td>2000.0</td>\n",
       "      <td>2022-03-24 17:46:00</td>\n",
       "      <td>False</td>\n",
       "      <td>True</td>\n",
       "      <td>False</td>\n",
       "      <td>False</td>\n",
       "      <td>False</td>\n",
       "      <td>False</td>\n",
       "      <td>False</td>\n",
       "      <td>False</td>\n",
       "      <td>False</td>\n",
       "      <td>False</td>\n",
       "      <td>True</td>\n",
       "      <td>0</td>\n",
       "    </tr>\n",
       "    <tr>\n",
       "      <th>3</th>\n",
       "      <td>AL R Corp</td>\n",
       "      <td>2022-01-19</td>\n",
       "      <td>76</td>\n",
       "      <td>2415.0</td>\n",
       "      <td>2022-01-05 11:49:00</td>\n",
       "      <td>False</td>\n",
       "      <td>False</td>\n",
       "      <td>False</td>\n",
       "      <td>False</td>\n",
       "      <td>False</td>\n",
       "      <td>False</td>\n",
       "      <td>False</td>\n",
       "      <td>False</td>\n",
       "      <td>False</td>\n",
       "      <td>False</td>\n",
       "      <td>True</td>\n",
       "      <td>0</td>\n",
       "    </tr>\n",
       "    <tr>\n",
       "      <th>4</th>\n",
       "      <td>ALLI Corp</td>\n",
       "      <td>2022-04-30</td>\n",
       "      <td>-25</td>\n",
       "      <td>3800.0</td>\n",
       "      <td>2022-03-03 22:30:00</td>\n",
       "      <td>True</td>\n",
       "      <td>False</td>\n",
       "      <td>False</td>\n",
       "      <td>False</td>\n",
       "      <td>False</td>\n",
       "      <td>False</td>\n",
       "      <td>False</td>\n",
       "      <td>False</td>\n",
       "      <td>False</td>\n",
       "      <td>False</td>\n",
       "      <td>True</td>\n",
       "      <td>0</td>\n",
       "    </tr>\n",
       "    <tr>\n",
       "      <th>5</th>\n",
       "      <td>ALLI Corp</td>\n",
       "      <td>2022-04-30</td>\n",
       "      <td>-25</td>\n",
       "      <td>1264.0</td>\n",
       "      <td>2022-03-03 22:30:00</td>\n",
       "      <td>True</td>\n",
       "      <td>False</td>\n",
       "      <td>False</td>\n",
       "      <td>False</td>\n",
       "      <td>False</td>\n",
       "      <td>False</td>\n",
       "      <td>False</td>\n",
       "      <td>False</td>\n",
       "      <td>False</td>\n",
       "      <td>False</td>\n",
       "      <td>True</td>\n",
       "      <td>0</td>\n",
       "    </tr>\n",
       "  </tbody>\n",
       "</table>\n",
       "</div>"
      ],
      "text/plain": [
       "  Customer_Name   Due Date  AGE  USD Amount   INV_CREATION_DATE  \\\n",
       "1     AL J Corp 2022-03-03   33      2000.0 2022-02-01 14:09:00   \n",
       "2     AL J Corp 2022-04-23  -18      2000.0 2022-03-24 17:46:00   \n",
       "3     AL R Corp 2022-01-19   76      2415.0 2022-01-05 11:49:00   \n",
       "4     ALLI Corp 2022-04-30  -25      3800.0 2022-03-03 22:30:00   \n",
       "5     ALLI Corp 2022-04-30  -25      1264.0 2022-03-03 22:30:00   \n",
       "\n",
       "   30 Days from EOM  30 Days from Inv Date  45 Days from EOM  \\\n",
       "1             False                   True             False   \n",
       "2             False                   True             False   \n",
       "3             False                  False             False   \n",
       "4              True                  False             False   \n",
       "5              True                  False             False   \n",
       "\n",
       "   45 Days from Inv Date  60 Days from EOM  60 Days from Inv Date  \\\n",
       "1                  False             False                  False   \n",
       "2                  False             False                  False   \n",
       "3                  False             False                  False   \n",
       "4                  False             False                  False   \n",
       "5                  False             False                  False   \n",
       "\n",
       "   90 Days from EOM  90 Days from Inv Date  Immediate Payment     DM   INV  CM  \n",
       "1             False                  False              False  False  True   0  \n",
       "2             False                  False              False  False  True   0  \n",
       "3             False                  False              False  False  True   0  \n",
       "4             False                  False              False  False  True   0  \n",
       "5             False                  False              False  False  True   0  "
      ]
     },
     "execution_count": 131,
     "metadata": {},
     "output_type": "execute_result"
    }
   ],
   "source": [
    "# Checking the head of the data\n",
    "open_data.head()"
   ]
  },
  {
   "cell_type": "markdown",
   "id": "cd79cab1-edb3-4dd5-a1f7-485551f8dcff",
   "metadata": {},
   "source": [
    "#### Checking columns in received payment dataset and open invoice dataset"
   ]
  },
  {
   "cell_type": "code",
   "execution_count": 133,
   "id": "d0476ac1-c834-43db-a5a0-681a49811b7c",
   "metadata": {},
   "outputs": [
    {
     "data": {
      "text/plain": [
       "Index(['RECEIPT_METHOD', 'CUSTOMER_NAME', 'CUSTOMER_NUMBER', 'RECEIPT_DATE',\n",
       "       'CURRENCY_CODE', 'USD Amount', 'INVOICE_ALLOCATED',\n",
       "       'INVOICE_CREATION_DATE', 'DUE_DATE', 'INVOICE_CURRENCY_CODE',\n",
       "       'INVOICE_TYPE', 'default', 'month_reciept', 'month_inv_creation',\n",
       "       'month_due', '15 Days from EOM', '30 Days from EOM',\n",
       "       '30 Days from Inv Date', '45 Days from EOM', '45 Days from Inv Date',\n",
       "       '60 Days from EOM', '60 Days from Inv Date', '90 Days from EOM',\n",
       "       '90 Days from Inv Date', 'Immediate Payment', 'CM', 'DM', 'INV'],\n",
       "      dtype='object')"
      ]
     },
     "execution_count": 133,
     "metadata": {},
     "output_type": "execute_result"
    }
   ],
   "source": [
    "rec_pay_data.columns"
   ]
  },
  {
   "cell_type": "code",
   "execution_count": 134,
   "id": "01a3702f-fb1b-4dfc-bb0e-429b032bad03",
   "metadata": {},
   "outputs": [
    {
     "data": {
      "text/plain": [
       "Index(['Customer_Name', 'Due Date', 'AGE', 'USD Amount', 'INV_CREATION_DATE',\n",
       "       '30 Days from EOM', '30 Days from Inv Date', '45 Days from EOM',\n",
       "       '45 Days from Inv Date', '60 Days from EOM', '60 Days from Inv Date',\n",
       "       '90 Days from EOM', '90 Days from Inv Date', 'Immediate Payment', 'DM',\n",
       "       'INV', 'CM'],\n",
       "      dtype='object')"
      ]
     },
     "execution_count": 134,
     "metadata": {},
     "output_type": "execute_result"
    }
   ],
   "source": [
    "open_data.columns"
   ]
  },
  {
   "cell_type": "markdown",
   "id": "2f8dd3cf-c549-47c3-8c08-2d369700b3f8",
   "metadata": {},
   "source": [
    "##### Customer Segmentation"
   ]
  },
  {
   "cell_type": "markdown",
   "id": "0115a582-b81b-406f-8647-7da531d3fee5",
   "metadata": {},
   "source": [
    "##### Recommendation: Customer-level attributes could also be important independent variables to be included in the model. \n",
    "#### A customer-level attribute can be determined via customer segmentation. You have to segment your customers based on two derived variables: \n",
    "#### the average payment time in days for a customer and the standard deviation for the payment time. \n",
    "#### Using clustering techniques would result in a few distinct clusters of customers, which can be used as an input variable for the ML model."
   ]
  },
  {
   "cell_type": "code",
   "execution_count": 137,
   "id": "0f4f63a3-7698-4bde-8308-1e5ce28b62c6",
   "metadata": {},
   "outputs": [],
   "source": [
    "# Creating a new column to show actual number of days taken to make the payment after invoice generation\n",
    "rec_pay_data['act_days_for_pay'] = (rec_pay_data['RECEIPT_DATE']-rec_pay_data['INVOICE_CREATION_DATE']).dt.days\n"
   ]
  },
  {
   "cell_type": "code",
   "execution_count": 138,
   "id": "d1e04fe2-1b5e-41d4-9736-28574b722a9e",
   "metadata": {},
   "outputs": [
    {
     "data": {
      "text/html": [
       "<div>\n",
       "<style scoped>\n",
       "    .dataframe tbody tr th:only-of-type {\n",
       "        vertical-align: middle;\n",
       "    }\n",
       "\n",
       "    .dataframe tbody tr th {\n",
       "        vertical-align: top;\n",
       "    }\n",
       "\n",
       "    .dataframe thead th {\n",
       "        text-align: right;\n",
       "    }\n",
       "</style>\n",
       "<table border=\"1\" class=\"dataframe\">\n",
       "  <thead>\n",
       "    <tr style=\"text-align: right;\">\n",
       "      <th></th>\n",
       "      <th>Avg days for payment</th>\n",
       "    </tr>\n",
       "    <tr>\n",
       "      <th>CUSTOMER_NAME</th>\n",
       "      <th></th>\n",
       "    </tr>\n",
       "  </thead>\n",
       "  <tbody>\n",
       "    <tr>\n",
       "      <th>3D D Corp</th>\n",
       "      <td>24.395349</td>\n",
       "    </tr>\n",
       "    <tr>\n",
       "      <th>6TH  Corp</th>\n",
       "      <td>40.666667</td>\n",
       "    </tr>\n",
       "    <tr>\n",
       "      <th>A3 D Corp</th>\n",
       "      <td>45.400000</td>\n",
       "    </tr>\n",
       "    <tr>\n",
       "      <th>ABC  Corp</th>\n",
       "      <td>16.000000</td>\n",
       "    </tr>\n",
       "    <tr>\n",
       "      <th>ABDU Corp</th>\n",
       "      <td>76.906250</td>\n",
       "    </tr>\n",
       "  </tbody>\n",
       "</table>\n",
       "</div>"
      ],
      "text/plain": [
       "               Avg days for payment\n",
       "CUSTOMER_NAME                      \n",
       "3D D Corp                 24.395349\n",
       "6TH  Corp                 40.666667\n",
       "A3 D Corp                 45.400000\n",
       "ABC  Corp                 16.000000\n",
       "ABDU Corp                 76.906250"
      ]
     },
     "execution_count": 138,
     "metadata": {},
     "output_type": "execute_result"
    }
   ],
   "source": [
    "# Calculating customer wise average days for payment\n",
    "cust_seg1= rec_pay_data.groupby('CUSTOMER_NAME')['act_days_for_pay'].mean()\n",
    "cust_seg1 = cust_seg1.to_frame()\n",
    "cust_seg1.reset_index\n",
    "cust_seg1.rename(columns={'act_days_for_pay': 'Avg days for payment'}, inplace=True)\n",
    "cust_seg1.head()\n"
   ]
  },
  {
   "cell_type": "code",
   "execution_count": 139,
   "id": "913b91f3-bd79-424e-8bb4-d9248084d872",
   "metadata": {},
   "outputs": [
    {
     "data": {
      "text/html": [
       "<div>\n",
       "<style scoped>\n",
       "    .dataframe tbody tr th:only-of-type {\n",
       "        vertical-align: middle;\n",
       "    }\n",
       "\n",
       "    .dataframe tbody tr th {\n",
       "        vertical-align: top;\n",
       "    }\n",
       "\n",
       "    .dataframe thead th {\n",
       "        text-align: right;\n",
       "    }\n",
       "</style>\n",
       "<table border=\"1\" class=\"dataframe\">\n",
       "  <thead>\n",
       "    <tr style=\"text-align: right;\">\n",
       "      <th></th>\n",
       "      <th>Std deviation for payment</th>\n",
       "    </tr>\n",
       "    <tr>\n",
       "      <th>CUSTOMER_NAME</th>\n",
       "      <th></th>\n",
       "    </tr>\n",
       "  </thead>\n",
       "  <tbody>\n",
       "    <tr>\n",
       "      <th>3D D Corp</th>\n",
       "      <td>13.040449</td>\n",
       "    </tr>\n",
       "    <tr>\n",
       "      <th>6TH  Corp</th>\n",
       "      <td>7.952987</td>\n",
       "    </tr>\n",
       "    <tr>\n",
       "      <th>A3 D Corp</th>\n",
       "      <td>52.581366</td>\n",
       "    </tr>\n",
       "    <tr>\n",
       "      <th>ABC  Corp</th>\n",
       "      <td>0.000000</td>\n",
       "    </tr>\n",
       "    <tr>\n",
       "      <th>ABDU Corp</th>\n",
       "      <td>54.919326</td>\n",
       "    </tr>\n",
       "  </tbody>\n",
       "</table>\n",
       "</div>"
      ],
      "text/plain": [
       "               Std deviation for payment\n",
       "CUSTOMER_NAME                           \n",
       "3D D Corp                      13.040449\n",
       "6TH  Corp                       7.952987\n",
       "A3 D Corp                      52.581366\n",
       "ABC  Corp                       0.000000\n",
       "ABDU Corp                      54.919326"
      ]
     },
     "execution_count": 139,
     "metadata": {},
     "output_type": "execute_result"
    }
   ],
   "source": [
    "# Calculating the standard deviation for customer wise payment days\n",
    "cust_seg2 = rec_pay_data.groupby('CUSTOMER_NAME')['act_days_for_pay'].std()\n",
    "cust_seg2 = cust_seg2.to_frame()\n",
    "cust_seg2.reset_index\n",
    "cust_seg2.rename(columns={'act_days_for_pay': 'Std deviation for payment'}, inplace=True)\n",
    "cust_seg2.head()"
   ]
  },
  {
   "cell_type": "code",
   "execution_count": 140,
   "id": "d0aefd2f-16c2-43db-9ab2-cc2419fecd67",
   "metadata": {},
   "outputs": [
    {
     "data": {
      "text/html": [
       "<div>\n",
       "<style scoped>\n",
       "    .dataframe tbody tr th:only-of-type {\n",
       "        vertical-align: middle;\n",
       "    }\n",
       "\n",
       "    .dataframe tbody tr th {\n",
       "        vertical-align: top;\n",
       "    }\n",
       "\n",
       "    .dataframe thead th {\n",
       "        text-align: right;\n",
       "    }\n",
       "</style>\n",
       "<table border=\"1\" class=\"dataframe\">\n",
       "  <thead>\n",
       "    <tr style=\"text-align: right;\">\n",
       "      <th></th>\n",
       "      <th>Avg days for payment</th>\n",
       "      <th>Std deviation for payment</th>\n",
       "    </tr>\n",
       "    <tr>\n",
       "      <th>CUSTOMER_NAME</th>\n",
       "      <th></th>\n",
       "      <th></th>\n",
       "    </tr>\n",
       "  </thead>\n",
       "  <tbody>\n",
       "    <tr>\n",
       "      <th>3D D Corp</th>\n",
       "      <td>24.395349</td>\n",
       "      <td>13.040449</td>\n",
       "    </tr>\n",
       "    <tr>\n",
       "      <th>6TH  Corp</th>\n",
       "      <td>40.666667</td>\n",
       "      <td>7.952987</td>\n",
       "    </tr>\n",
       "    <tr>\n",
       "      <th>A3 D Corp</th>\n",
       "      <td>45.400000</td>\n",
       "      <td>52.581366</td>\n",
       "    </tr>\n",
       "    <tr>\n",
       "      <th>ABC  Corp</th>\n",
       "      <td>16.000000</td>\n",
       "      <td>0.000000</td>\n",
       "    </tr>\n",
       "    <tr>\n",
       "      <th>ABDU Corp</th>\n",
       "      <td>76.906250</td>\n",
       "      <td>54.919326</td>\n",
       "    </tr>\n",
       "  </tbody>\n",
       "</table>\n",
       "</div>"
      ],
      "text/plain": [
       "               Avg days for payment  Std deviation for payment\n",
       "CUSTOMER_NAME                                                 \n",
       "3D D Corp                 24.395349                  13.040449\n",
       "6TH  Corp                 40.666667                   7.952987\n",
       "A3 D Corp                 45.400000                  52.581366\n",
       "ABC  Corp                 16.000000                   0.000000\n",
       "ABDU Corp                 76.906250                  54.919326"
      ]
     },
     "execution_count": 140,
     "metadata": {},
     "output_type": "execute_result"
    }
   ],
   "source": [
    "# Merging the above two dataframes\n",
    "cust_seg = pd.merge(cust_seg1, cust_seg2, how='inner', on='CUSTOMER_NAME')\n",
    "\n",
    "# Checking the head\n",
    "cust_seg.head()"
   ]
  },
  {
   "cell_type": "code",
   "execution_count": 141,
   "id": "f15c5208-d81b-4401-8cf7-9dcb042c1b1b",
   "metadata": {},
   "outputs": [
    {
     "data": {
      "image/png": "[encoded data removed]",
      "text/plain": [
       "<Figure size 1000x400 with 2 Axes>"
      ]
     },
     "metadata": {},
     "output_type": "display_data"
    }
   ],
   "source": [
    "# Visualising the cust_seg dataframe\n",
    "plt.figure(figsize=(10,4))\n",
    "\n",
    "plt.subplot(1,2,1)\n",
    "sns.histplot(cust_seg['Avg days for payment'])\n",
    "\n",
    "plt.subplot(1,2,2)\n",
    "sns.histplot(cust_seg['Std deviation for payment'])\n",
    "\n",
    "plt.show()"
   ]
  },
  {
   "cell_type": "markdown",
   "id": "933014f7-3e0d-4505-9c85-c9e35a218697",
   "metadata": {},
   "source": [
    "##### From the above plots we can see that the data is not normalized, hence need to do scaling."
   ]
  },
  {
   "cell_type": "code",
   "execution_count": 143,
   "id": "5e257bbc-6660-4db0-9416-bc5c378a4b16",
   "metadata": {},
   "outputs": [],
   "source": [
    "#importing required library\n",
    "from sklearn.preprocessing import StandardScaler\n",
    "scaler=StandardScaler()\n",
    "\n",
    "cust_seg[['Avg days for payment', 'Std deviation for payment']] = scaler.fit_transform(cust_seg[['Avg days for payment', 'Std deviation for payment']])\n"
   ]
  },
  {
   "cell_type": "code",
   "execution_count": 144,
   "id": "978ae166-88ca-41ef-b049-c77d1560dd65",
   "metadata": {},
   "outputs": [
    {
     "data": {
      "image/png": "[encoded data removed]",
      "text/plain": [
       "<Figure size 1000x400 with 2 Axes>"
      ]
     },
     "metadata": {},
     "output_type": "display_data"
    }
   ],
   "source": [
    "# Visualising the data again\n",
    "plt.figure(figsize=(10,4))\n",
    "\n",
    "plt.subplot(1,2,1)\n",
    "sns.histplot(cust_seg['Avg days for payment'])\n",
    "\n",
    "plt.subplot(1,2,2)\n",
    "sns.histplot(cust_seg['Std deviation for payment'])\n",
    "\n",
    "plt.show()"
   ]
  },
  {
   "cell_type": "code",
   "execution_count": 145,
   "id": "7e985536-762f-40da-9b45-e735ef4b7d66",
   "metadata": {},
   "outputs": [
    {
     "data": {
      "text/plain": [
       "CUSTOMER_NAME                0.0000\n",
       "Avg days for payment         0.0000\n",
       "Std deviation for payment    0.1248\n",
       "dtype: float64"
      ]
     },
     "execution_count": 145,
     "metadata": {},
     "output_type": "execute_result"
    }
   ],
   "source": [
    "# resetting the index\n",
    "cust_seg.reset_index(inplace=True)\n",
    "\n",
    "# Checking the null values if present\n",
    "round(cust_seg.isna().sum()/len(cust_seg.index), 4)"
   ]
  },
  {
   "cell_type": "code",
   "execution_count": 146,
   "id": "3d2922bc-1dcd-4296-a773-bba3155c5be2",
   "metadata": {},
   "outputs": [],
   "source": [
    "# Replacing the null values for Std deviation for payment with 0\n",
    "cust_seg['Std deviation for payment'].fillna(0,inplace=True)"
   ]
  },
  {
   "cell_type": "code",
   "execution_count": 147,
   "id": "9eb470b8-3d15-4598-9fec-f3b61d684849",
   "metadata": {},
   "outputs": [
    {
     "data": {
      "text/html": [
       "<div>\n",
       "<style scoped>\n",
       "    .dataframe tbody tr th:only-of-type {\n",
       "        vertical-align: middle;\n",
       "    }\n",
       "\n",
       "    .dataframe tbody tr th {\n",
       "        vertical-align: top;\n",
       "    }\n",
       "\n",
       "    .dataframe thead th {\n",
       "        text-align: right;\n",
       "    }\n",
       "</style>\n",
       "<table border=\"1\" class=\"dataframe\">\n",
       "  <thead>\n",
       "    <tr style=\"text-align: right;\">\n",
       "      <th></th>\n",
       "      <th>CUSTOMER_NAME</th>\n",
       "      <th>Avg days for payment</th>\n",
       "      <th>Std deviation for payment</th>\n",
       "    </tr>\n",
       "  </thead>\n",
       "  <tbody>\n",
       "    <tr>\n",
       "      <th>0</th>\n",
       "      <td>3D D Corp</td>\n",
       "      <td>-0.534519</td>\n",
       "      <td>-0.563303</td>\n",
       "    </tr>\n",
       "    <tr>\n",
       "      <th>1</th>\n",
       "      <td>6TH  Corp</td>\n",
       "      <td>-0.420640</td>\n",
       "      <td>-0.626042</td>\n",
       "    </tr>\n",
       "    <tr>\n",
       "      <th>2</th>\n",
       "      <td>A3 D Corp</td>\n",
       "      <td>-0.387513</td>\n",
       "      <td>-0.075683</td>\n",
       "    </tr>\n",
       "    <tr>\n",
       "      <th>3</th>\n",
       "      <td>ABC  Corp</td>\n",
       "      <td>-0.593276</td>\n",
       "      <td>-0.724119</td>\n",
       "    </tr>\n",
       "    <tr>\n",
       "      <th>4</th>\n",
       "      <td>ABDU Corp</td>\n",
       "      <td>-0.167009</td>\n",
       "      <td>-0.046851</td>\n",
       "    </tr>\n",
       "  </tbody>\n",
       "</table>\n",
       "</div>"
      ],
      "text/plain": [
       "  CUSTOMER_NAME  Avg days for payment  Std deviation for payment\n",
       "0     3D D Corp             -0.534519                  -0.563303\n",
       "1     6TH  Corp             -0.420640                  -0.626042\n",
       "2     A3 D Corp             -0.387513                  -0.075683\n",
       "3     ABC  Corp             -0.593276                  -0.724119\n",
       "4     ABDU Corp             -0.167009                  -0.046851"
      ]
     },
     "execution_count": 147,
     "metadata": {},
     "output_type": "execute_result"
    }
   ],
   "source": [
    "# copying the cust_seg data for clustering into new dataframe\n",
    "cluster_df = cust_seg.copy()\n",
    "cluster_df.head()"
   ]
  },
  {
   "cell_type": "code",
   "execution_count": 148,
   "id": "d2dde3b4-de13-456a-bc42-b4950cf9098f",
   "metadata": {},
   "outputs": [
    {
     "data": {
      "text/html": [
       "<div>\n",
       "<style scoped>\n",
       "    .dataframe tbody tr th:only-of-type {\n",
       "        vertical-align: middle;\n",
       "    }\n",
       "\n",
       "    .dataframe tbody tr th {\n",
       "        vertical-align: top;\n",
       "    }\n",
       "\n",
       "    .dataframe thead th {\n",
       "        text-align: right;\n",
       "    }\n",
       "</style>\n",
       "<table border=\"1\" class=\"dataframe\">\n",
       "  <thead>\n",
       "    <tr style=\"text-align: right;\">\n",
       "      <th></th>\n",
       "      <th>Avg days for payment</th>\n",
       "      <th>Std deviation for payment</th>\n",
       "    </tr>\n",
       "  </thead>\n",
       "  <tbody>\n",
       "    <tr>\n",
       "      <th>0</th>\n",
       "      <td>-0.534519</td>\n",
       "      <td>-0.563303</td>\n",
       "    </tr>\n",
       "    <tr>\n",
       "      <th>1</th>\n",
       "      <td>-0.420640</td>\n",
       "      <td>-0.626042</td>\n",
       "    </tr>\n",
       "    <tr>\n",
       "      <th>2</th>\n",
       "      <td>-0.387513</td>\n",
       "      <td>-0.075683</td>\n",
       "    </tr>\n",
       "    <tr>\n",
       "      <th>3</th>\n",
       "      <td>-0.593276</td>\n",
       "      <td>-0.724119</td>\n",
       "    </tr>\n",
       "    <tr>\n",
       "      <th>4</th>\n",
       "      <td>-0.167009</td>\n",
       "      <td>-0.046851</td>\n",
       "    </tr>\n",
       "  </tbody>\n",
       "</table>\n",
       "</div>"
      ],
      "text/plain": [
       "   Avg days for payment  Std deviation for payment\n",
       "0             -0.534519                  -0.563303\n",
       "1             -0.420640                  -0.626042\n",
       "2             -0.387513                  -0.075683\n",
       "3             -0.593276                  -0.724119\n",
       "4             -0.167009                  -0.046851"
      ]
     },
     "execution_count": 148,
     "metadata": {},
     "output_type": "execute_result"
    }
   ],
   "source": [
    "#dropping customer_name for clustering\n",
    "cluster_df.drop('CUSTOMER_NAME',axis=1,inplace=True)\n",
    "cluster_df.head()"
   ]
  },
  {
   "cell_type": "markdown",
   "id": "528d74f0-9eb0-4400-b84e-fba7ee7467c1",
   "metadata": {},
   "source": [
    "#### Clustering"
   ]
  },
  {
   "cell_type": "code",
   "execution_count": 150,
   "id": "6905add4-04cf-4802-ba95-3c01ae441949",
   "metadata": {},
   "outputs": [],
   "source": [
    "# Importing required libraries\n",
    "from sklearn.cluster import KMeans\n",
    "from sklearn.metrics import silhouette_score"
   ]
  },
  {
   "cell_type": "code",
   "execution_count": 151,
   "id": "876e2ded-dd3f-4dac-83c1-c95668d24af0",
   "metadata": {},
   "outputs": [
    {
     "data": {
      "text/plain": [
       "array([[ 1.85344423,  3.33339499],\n",
       "       [-0.3019069 , -0.32884213],\n",
       "       [ 4.66736808,  0.44512922],\n",
       "       [ 0.42465258,  0.94746544]])"
      ]
     },
     "execution_count": 151,
     "metadata": {},
     "output_type": "execute_result"
    }
   ],
   "source": [
    "# k-means with some arbitrary k\n",
    "kmeans = KMeans(n_clusters=4, max_iter=50, random_state=42)\n",
    "kmeans.fit(cluster_df)\n",
    "kmeans.cluster_centers_"
   ]
  },
  {
   "cell_type": "markdown",
   "id": "2b365f7b-ca84-45a3-af4e-362cef96e386",
   "metadata": {},
   "source": [
    "### Finding optimal number of clusters"
   ]
  },
  {
   "cell_type": "code",
   "execution_count": 153,
   "id": "5abadf60-417c-4f79-a189-b39ca55b4b48",
   "metadata": {},
   "outputs": [
    {
     "name": "stdout",
     "output_type": "stream",
     "text": [
      "For n_clusters=2, the silhouette score is 0.7557759850933141\n",
      "For n_clusters=3, the silhouette score is 0.7491797445652462\n",
      "For n_clusters=4, the silhouette score is 0.6097388985555463\n",
      "For n_clusters=5, the silhouette score is 0.6173540681032771\n",
      "For n_clusters=6, the silhouette score is 0.3980238443004184\n",
      "For n_clusters=7, the silhouette score is 0.4012628375918799\n",
      "For n_clusters=8, the silhouette score is 0.41457849738976615\n"
     ]
    }
   ],
   "source": [
    "# silhouette analysis\n",
    "cluster_range = [2, 3, 4, 5, 6, 7, 8]\n",
    "\n",
    "for cluster in cluster_range:\n",
    "    \n",
    "    # intialise kmeans\n",
    "    kmeans = KMeans(n_clusters=cluster, max_iter=50, random_state=42)\n",
    "    kmeans.fit(cluster_df)\n",
    "    \n",
    "    cluster_labels = kmeans.labels_\n",
    "    \n",
    "    # silhouette score\n",
    "    silhouette_avg = silhouette_score(cluster_df, cluster_labels)\n",
    "    print(\"For n_clusters={0}, the silhouette score is {1}\".format(cluster, silhouette_avg))"
   ]
  },
  {
   "cell_type": "markdown",
   "id": "e7e6e3c3-265c-4d86-a559-2bea795744e7",
   "metadata": {},
   "source": [
    "### From the above results, we can see that for 3 clusters, the silhouette score is decent. Hence selecting n_clusters as 3."
   ]
  },
  {
   "cell_type": "code",
   "execution_count": 155,
   "id": "a424d1de-8fe5-4e8c-9852-d3fc2ce0ad9b",
   "metadata": {},
   "outputs": [
    {
     "data": {
      "text/html": [
       "<style>#sk-container-id-1 {\n",
       "  /* Definition of color scheme common for light and dark mode */\n",
       "  --sklearn-color-text: black;\n",
       "  --sklearn-color-line: gray;\n",
       "  /* Definition of color scheme for unfitted estimators */\n",
       "  --sklearn-color-unfitted-level-0: #fff5e6;\n",
       "  --sklearn-color-unfitted-level-1: #f6e4d2;\n",
       "  --sklearn-color-unfitted-level-2: #ffe0b3;\n",
       "  --sklearn-color-unfitted-level-3: chocolate;\n",
       "  /* Definition of color scheme for fitted estimators */\n",
       "  --sklearn-color-fitted-level-0: #f0f8ff;\n",
       "  --sklearn-color-fitted-level-1: #d4ebff;\n",
       "  --sklearn-color-fitted-level-2: #b3dbfd;\n",
       "  --sklearn-color-fitted-level-3: cornflowerblue;\n",
       "\n",
       "  /* Specific color for light theme */\n",
       "  --sklearn-color-text-on-default-background: var(--sg-text-color, var(--theme-code-foreground, var(--jp-content-font-color1, black)));\n",
       "  --sklearn-color-background: var(--sg-background-color, var(--theme-background, var(--jp-layout-color0, white)));\n",
       "  --sklearn-color-border-box: var(--sg-text-color, var(--theme-code-foreground, var(--jp-content-font-color1, black)));\n",
       "  --sklearn-color-icon: #696969;\n",
       "\n",
       "  @media (prefers-color-scheme: dark) {\n",
       "    /* Redefinition of color scheme for dark theme */\n",
       "    --sklearn-color-text-on-default-background: var(--sg-text-color, var(--theme-code-foreground, var(--jp-content-font-color1, white)));\n",
       "    --sklearn-color-background: var(--sg-background-color, var(--theme-background, var(--jp-layout-color0, #111)));\n",
       "    --sklearn-color-border-box: var(--sg-text-color, var(--theme-code-foreground, var(--jp-content-font-color1, white)));\n",
       "    --sklearn-color-icon: #878787;\n",
       "  }\n",
       "}\n",
       "\n",
       "#sk-container-id-1 {\n",
       "  color: var(--sklearn-color-text);\n",
       "}\n",
       "\n",
       "#sk-container-id-1 pre {\n",
       "  padding: 0;\n",
       "}\n",
       "\n",
       "#sk-container-id-1 input.sk-hidden--visually {\n",
       "  border: 0;\n",
       "  clip: rect(1px 1px 1px 1px);\n",
       "  clip: rect(1px, 1px, 1px, 1px);\n",
       "  height: 1px;\n",
       "  margin: -1px;\n",
       "  overflow: hidden;\n",
       "  padding: 0;\n",
       "  position: absolute;\n",
       "  width: 1px;\n",
       "}\n",
       "\n",
       "#sk-container-id-1 div.sk-dashed-wrapped {\n",
       "  border: 1px dashed var(--sklearn-color-line);\n",
       "  margin: 0 0.4em 0.5em 0.4em;\n",
       "  box-sizing: border-box;\n",
       "  padding-bottom: 0.4em;\n",
       "  background-color: var(--sklearn-color-background);\n",
       "}\n",
       "\n",
       "#sk-container-id-1 div.sk-container {\n",
       "  /* jupyter's `normalize.less` sets `[hidden] { display: none; }`\n",
       "     but bootstrap.min.css set `[hidden] { display: none !important; }`\n",
       "     so we also need the `!important` here to be able to override the\n",
       "     default hidden behavior on the sphinx rendered scikit-learn.org.\n",
       "     See: https://github.com/scikit-learn/scikit-learn/issues/21755 */\n",
       "  display: inline-block !important;\n",
       "  position: relative;\n",
       "}\n",
       "\n",
       "#sk-container-id-1 div.sk-text-repr-fallback {\n",
       "  display: none;\n",
       "}\n",
       "\n",
       "div.sk-parallel-item,\n",
       "div.sk-serial,\n",
       "div.sk-item {\n",
       "  /* draw centered vertical line to link estimators */\n",
       "  background-image: linear-gradient(var(--sklearn-color-text-on-default-background), var(--sklearn-color-text-on-default-background));\n",
       "  background-size: 2px 100%;\n",
       "  background-repeat: no-repeat;\n",
       "  background-position: center center;\n",
       "}\n",
       "\n",
       "/* Parallel-specific style estimator block */\n",
       "\n",
       "#sk-container-id-1 div.sk-parallel-item::after {\n",
       "  content: \"\";\n",
       "  width: 100%;\n",
       "  border-bottom: 2px solid var(--sklearn-color-text-on-default-background);\n",
       "  flex-grow: 1;\n",
       "}\n",
       "\n",
       "#sk-container-id-1 div.sk-parallel {\n",
       "  display: flex;\n",
       "  align-items: stretch;\n",
       "  justify-content: center;\n",
       "  background-color: var(--sklearn-color-background);\n",
       "  position: relative;\n",
       "}\n",
       "\n",
       "#sk-container-id-1 div.sk-parallel-item {\n",
       "  display: flex;\n",
       "  flex-direction: column;\n",
       "}\n",
       "\n",
       "#sk-container-id-1 div.sk-parallel-item:first-child::after {\n",
       "  align-self: flex-end;\n",
       "  width: 50%;\n",
       "}\n",
       "\n",
       "#sk-container-id-1 div.sk-parallel-item:last-child::after {\n",
       "  align-self: flex-start;\n",
       "  width: 50%;\n",
       "}\n",
       "\n",
       "#sk-container-id-1 div.sk-parallel-item:only-child::after {\n",
       "  width: 0;\n",
       "}\n",
       "\n",
       "/* Serial-specific style estimator block */\n",
       "\n",
       "#sk-container-id-1 div.sk-serial {\n",
       "  display: flex;\n",
       "  flex-direction: column;\n",
       "  align-items: center;\n",
       "  background-color: var(--sklearn-color-background);\n",
       "  padding-right: 1em;\n",
       "  padding-left: 1em;\n",
       "}\n",
       "\n",
       "\n",
       "/* Toggleable style: style used for estimator/Pipeline/ColumnTransformer box that is\n",
       "clickable and can be expanded/collapsed.\n",
       "- Pipeline and ColumnTransformer use this feature and define the default style\n",
       "- Estimators will overwrite some part of the style using the `sk-estimator` class\n",
       "*/\n",
       "\n",
       "/* Pipeline and ColumnTransformer style (default) */\n",
       "\n",
       "#sk-container-id-1 div.sk-toggleable {\n",
       "  /* Default theme specific background. It is overwritten whether we have a\n",
       "  specific estimator or a Pipeline/ColumnTransformer */\n",
       "  background-color: var(--sklearn-color-background);\n",
       "}\n",
       "\n",
       "/* Toggleable label */\n",
       "#sk-container-id-1 label.sk-toggleable__label {\n",
       "  cursor: pointer;\n",
       "  display: block;\n",
       "  width: 100%;\n",
       "  margin-bottom: 0;\n",
       "  padding: 0.5em;\n",
       "  box-sizing: border-box;\n",
       "  text-align: center;\n",
       "}\n",
       "\n",
       "#sk-container-id-1 label.sk-toggleable__label-arrow:before {\n",
       "  /* Arrow on the left of the label */\n",
       "  content: \"▸\";\n",
       "  float: left;\n",
       "  margin-right: 0.25em;\n",
       "  color: var(--sklearn-color-icon);\n",
       "}\n",
       "\n",
       "#sk-container-id-1 label.sk-toggleable__label-arrow:hover:before {\n",
       "  color: var(--sklearn-color-text);\n",
       "}\n",
       "\n",
       "/* Toggleable content - dropdown */\n",
       "\n",
       "#sk-container-id-1 div.sk-toggleable__content {\n",
       "  max-height: 0;\n",
       "  max-width: 0;\n",
       "  overflow: hidden;\n",
       "  text-align: left;\n",
       "  /* unfitted */\n",
       "  background-color: var(--sklearn-color-unfitted-level-0);\n",
       "}\n",
       "\n",
       "#sk-container-id-1 div.sk-toggleable__content.fitted {\n",
       "  /* fitted */\n",
       "  background-color: var(--sklearn-color-fitted-level-0);\n",
       "}\n",
       "\n",
       "#sk-container-id-1 div.sk-toggleable__content pre {\n",
       "  margin: 0.2em;\n",
       "  border-radius: 0.25em;\n",
       "  color: var(--sklearn-color-text);\n",
       "  /* unfitted */\n",
       "  background-color: var(--sklearn-color-unfitted-level-0);\n",
       "}\n",
       "\n",
       "#sk-container-id-1 div.sk-toggleable__content.fitted pre {\n",
       "  /* unfitted */\n",
       "  background-color: var(--sklearn-color-fitted-level-0);\n",
       "}\n",
       "\n",
       "#sk-container-id-1 input.sk-toggleable__control:checked~div.sk-toggleable__content {\n",
       "  /* Expand drop-down */\n",
       "  max-height: 200px;\n",
       "  max-width: 100%;\n",
       "  overflow: auto;\n",
       "}\n",
       "\n",
       "#sk-container-id-1 input.sk-toggleable__control:checked~label.sk-toggleable__label-arrow:before {\n",
       "  content: \"▾\";\n",
       "}\n",
       "\n",
       "/* Pipeline/ColumnTransformer-specific style */\n",
       "\n",
       "#sk-container-id-1 div.sk-label input.sk-toggleable__control:checked~label.sk-toggleable__label {\n",
       "  color: var(--sklearn-color-text);\n",
       "  background-color: var(--sklearn-color-unfitted-level-2);\n",
       "}\n",
       "\n",
       "#sk-container-id-1 div.sk-label.fitted input.sk-toggleable__control:checked~label.sk-toggleable__label {\n",
       "  background-color: var(--sklearn-color-fitted-level-2);\n",
       "}\n",
       "\n",
       "/* Estimator-specific style */\n",
       "\n",
       "/* Colorize estimator box */\n",
       "#sk-container-id-1 div.sk-estimator input.sk-toggleable__control:checked~label.sk-toggleable__label {\n",
       "  /* unfitted */\n",
       "  background-color: var(--sklearn-color-unfitted-level-2);\n",
       "}\n",
       "\n",
       "#sk-container-id-1 div.sk-estimator.fitted input.sk-toggleable__control:checked~label.sk-toggleable__label {\n",
       "  /* fitted */\n",
       "  background-color: var(--sklearn-color-fitted-level-2);\n",
       "}\n",
       "\n",
       "#sk-container-id-1 div.sk-label label.sk-toggleable__label,\n",
       "#sk-container-id-1 div.sk-label label {\n",
       "  /* The background is the default theme color */\n",
       "  color: var(--sklearn-color-text-on-default-background);\n",
       "}\n",
       "\n",
       "/* On hover, darken the color of the background */\n",
       "#sk-container-id-1 div.sk-label:hover label.sk-toggleable__label {\n",
       "  color: var(--sklearn-color-text);\n",
       "  background-color: var(--sklearn-color-unfitted-level-2);\n",
       "}\n",
       "\n",
       "/* Label box, darken color on hover, fitted */\n",
       "#sk-container-id-1 div.sk-label.fitted:hover label.sk-toggleable__label.fitted {\n",
       "  color: var(--sklearn-color-text);\n",
       "  background-color: var(--sklearn-color-fitted-level-2);\n",
       "}\n",
       "\n",
       "/* Estimator label */\n",
       "\n",
       "#sk-container-id-1 div.sk-label label {\n",
       "  font-family: monospace;\n",
       "  font-weight: bold;\n",
       "  display: inline-block;\n",
       "  line-height: 1.2em;\n",
       "}\n",
       "\n",
       "#sk-container-id-1 div.sk-label-container {\n",
       "  text-align: center;\n",
       "}\n",
       "\n",
       "/* Estimator-specific */\n",
       "#sk-container-id-1 div.sk-estimator {\n",
       "  font-family: monospace;\n",
       "  border: 1px dotted var(--sklearn-color-border-box);\n",
       "  border-radius: 0.25em;\n",
       "  box-sizing: border-box;\n",
       "  margin-bottom: 0.5em;\n",
       "  /* unfitted */\n",
       "  background-color: var(--sklearn-color-unfitted-level-0);\n",
       "}\n",
       "\n",
       "#sk-container-id-1 div.sk-estimator.fitted {\n",
       "  /* fitted */\n",
       "  background-color: var(--sklearn-color-fitted-level-0);\n",
       "}\n",
       "\n",
       "/* on hover */\n",
       "#sk-container-id-1 div.sk-estimator:hover {\n",
       "  /* unfitted */\n",
       "  background-color: var(--sklearn-color-unfitted-level-2);\n",
       "}\n",
       "\n",
       "#sk-container-id-1 div.sk-estimator.fitted:hover {\n",
       "  /* fitted */\n",
       "  background-color: var(--sklearn-color-fitted-level-2);\n",
       "}\n",
       "\n",
       "/* Specification for estimator info (e.g. \"i\" and \"?\") */\n",
       "\n",
       "/* Common style for \"i\" and \"?\" */\n",
       "\n",
       ".sk-estimator-doc-link,\n",
       "a:link.sk-estimator-doc-link,\n",
       "a:visited.sk-estimator-doc-link {\n",
       "  float: right;\n",
       "  font-size: smaller;\n",
       "  line-height: 1em;\n",
       "  font-family: monospace;\n",
       "  background-color: var(--sklearn-color-background);\n",
       "  border-radius: 1em;\n",
       "  height: 1em;\n",
       "  width: 1em;\n",
       "  text-decoration: none !important;\n",
       "  margin-left: 1ex;\n",
       "  /* unfitted */\n",
       "  border: var(--sklearn-color-unfitted-level-1) 1pt solid;\n",
       "  color: var(--sklearn-color-unfitted-level-1);\n",
       "}\n",
       "\n",
       ".sk-estimator-doc-link.fitted,\n",
       "a:link.sk-estimator-doc-link.fitted,\n",
       "a:visited.sk-estimator-doc-link.fitted {\n",
       "  /* fitted */\n",
       "  border: var(--sklearn-color-fitted-level-1) 1pt solid;\n",
       "  color: var(--sklearn-color-fitted-level-1);\n",
       "}\n",
       "\n",
       "/* On hover */\n",
       "div.sk-estimator:hover .sk-estimator-doc-link:hover,\n",
       ".sk-estimator-doc-link:hover,\n",
       "div.sk-label-container:hover .sk-estimator-doc-link:hover,\n",
       ".sk-estimator-doc-link:hover {\n",
       "  /* unfitted */\n",
       "  background-color: var(--sklearn-color-unfitted-level-3);\n",
       "  color: var(--sklearn-color-background);\n",
       "  text-decoration: none;\n",
       "}\n",
       "\n",
       "div.sk-estimator.fitted:hover .sk-estimator-doc-link.fitted:hover,\n",
       ".sk-estimator-doc-link.fitted:hover,\n",
       "div.sk-label-container:hover .sk-estimator-doc-link.fitted:hover,\n",
       ".sk-estimator-doc-link.fitted:hover {\n",
       "  /* fitted */\n",
       "  background-color: var(--sklearn-color-fitted-level-3);\n",
       "  color: var(--sklearn-color-background);\n",
       "  text-decoration: none;\n",
       "}\n",
       "\n",
       "/* Span, style for the box shown on hovering the info icon */\n",
       ".sk-estimator-doc-link span {\n",
       "  display: none;\n",
       "  z-index: 9999;\n",
       "  position: relative;\n",
       "  font-weight: normal;\n",
       "  right: .2ex;\n",
       "  padding: .5ex;\n",
       "  margin: .5ex;\n",
       "  width: min-content;\n",
       "  min-width: 20ex;\n",
       "  max-width: 50ex;\n",
       "  color: var(--sklearn-color-text);\n",
       "  box-shadow: 2pt 2pt 4pt #999;\n",
       "  /* unfitted */\n",
       "  background: var(--sklearn-color-unfitted-level-0);\n",
       "  border: .5pt solid var(--sklearn-color-unfitted-level-3);\n",
       "}\n",
       "\n",
       ".sk-estimator-doc-link.fitted span {\n",
       "  /* fitted */\n",
       "  background: var(--sklearn-color-fitted-level-0);\n",
       "  border: var(--sklearn-color-fitted-level-3);\n",
       "}\n",
       "\n",
       ".sk-estimator-doc-link:hover span {\n",
       "  display: block;\n",
       "}\n",
       "\n",
       "/* \"?\"-specific style due to the `<a>` HTML tag */\n",
       "\n",
       "#sk-container-id-1 a.estimator_doc_link {\n",
       "  float: right;\n",
       "  font-size: 1rem;\n",
       "  line-height: 1em;\n",
       "  font-family: monospace;\n",
       "  background-color: var(--sklearn-color-background);\n",
       "  border-radius: 1rem;\n",
       "  height: 1rem;\n",
       "  width: 1rem;\n",
       "  text-decoration: none;\n",
       "  /* unfitted */\n",
       "  color: var(--sklearn-color-unfitted-level-1);\n",
       "  border: var(--sklearn-color-unfitted-level-1) 1pt solid;\n",
       "}\n",
       "\n",
       "#sk-container-id-1 a.estimator_doc_link.fitted {\n",
       "  /* fitted */\n",
       "  border: var(--sklearn-color-fitted-level-1) 1pt solid;\n",
       "  color: var(--sklearn-color-fitted-level-1);\n",
       "}\n",
       "\n",
       "/* On hover */\n",
       "#sk-container-id-1 a.estimator_doc_link:hover {\n",
       "  /* unfitted */\n",
       "  background-color: var(--sklearn-color-unfitted-level-3);\n",
       "  color: var(--sklearn-color-background);\n",
       "  text-decoration: none;\n",
       "}\n",
       "\n",
       "#sk-container-id-1 a.estimator_doc_link.fitted:hover {\n",
       "  /* fitted */\n",
       "  background-color: var(--sklearn-color-fitted-level-3);\n",
       "}\n",
       "</style><div id=\"sk-container-id-1\" class=\"sk-top-container\"><div class=\"sk-text-repr-fallback\"><pre>KMeans(max_iter=50, n_clusters=3, random_state=42)</pre><b>In a Jupyter environment, please rerun this cell to show the HTML representation or trust the notebook. <br />On GitHub, the HTML representation is unable to render, please try loading this page with nbviewer.org.</b></div><div class=\"sk-container\" hidden><div class=\"sk-item\"><div class=\"sk-estimator fitted sk-toggleable\"><input class=\"sk-toggleable__control sk-hidden--visually\" id=\"sk-estimator-id-1\" type=\"checkbox\" checked><label for=\"sk-estimator-id-1\" class=\"sk-toggleable__label fitted sk-toggleable__label-arrow fitted\">&nbsp;&nbsp;KMeans<a class=\"sk-estimator-doc-link fitted\" rel=\"noreferrer\" target=\"_blank\" href=\"https://scikit-learn.org/1.4/modules/generated/sklearn.cluster.KMeans.html\">?<span>Documentation for KMeans</span></a><span class=\"sk-estimator-doc-link fitted\">i<span>Fitted</span></span></label><div class=\"sk-toggleable__content fitted\"><pre>KMeans(max_iter=50, n_clusters=3, random_state=42)</pre></div> </div></div></div></div>"
      ],
      "text/plain": [
       "KMeans(max_iter=50, n_clusters=3, random_state=42)"
      ]
     },
     "execution_count": 155,
     "metadata": {},
     "output_type": "execute_result"
    }
   ],
   "source": [
    "# final model with n_clusters=3\n",
    "kmeans = KMeans(n_clusters=3, max_iter=50, random_state=42)\n",
    "kmeans.fit(cluster_df)"
   ]
  },
  {
   "cell_type": "code",
   "execution_count": 156,
   "id": "721c4c36-7237-4a10-9c7f-d88f2537ca0d",
   "metadata": {},
   "outputs": [
    {
     "data": {
      "text/plain": [
       "array([1, 1, 1, 1, 1, 1, 1, 1, 1, 1, 2, 1, 0, 1, 1, 1, 1, 1, 1, 1, 1, 1,\n",
       "       1, 1, 1, 1, 1, 0, 1, 1, 1, 0, 0, 1, 1, 1, 1, 0, 1, 1, 0, 1, 1, 2,\n",
       "       1, 1, 1, 1, 1, 1, 1, 1, 1, 1, 1, 2, 1, 1, 1, 1, 1, 1, 1, 1, 1, 1,\n",
       "       2, 1, 1, 1, 0, 1, 1, 1, 1, 1, 1, 1, 1, 1, 0, 0, 1, 1, 1, 1, 1, 1,\n",
       "       1, 1, 1, 1, 1, 1, 1, 1, 1, 1, 0, 1, 1, 1, 2, 1, 1, 1, 1, 1, 1, 1,\n",
       "       1, 1, 1, 1, 1, 1, 1, 1, 1, 1, 1, 1, 1, 1, 0, 1, 1, 1, 1, 1, 1, 1,\n",
       "       1, 1, 1, 0, 1, 1, 1, 1, 1, 1, 1, 1, 1, 1, 1, 1, 1, 1, 1, 1, 1, 1,\n",
       "       0, 0, 1, 1, 0, 1, 1, 1, 1, 1, 1, 1, 1, 1, 0, 1, 1, 1, 1, 1, 1, 1,\n",
       "       1, 1, 1, 1, 1, 0, 0, 1, 0, 1, 1, 1, 1, 1, 1, 1, 1, 1, 1, 1, 1, 1,\n",
       "       1, 0, 1, 1, 1, 1, 1, 1, 1, 1, 1, 1, 1, 1, 1, 1, 1, 1, 1, 1, 1, 1,\n",
       "       1, 1, 1, 1, 1, 1, 1, 1, 1, 1, 1, 2, 1, 1, 1, 1, 0, 0, 1, 1, 1, 1,\n",
       "       1, 1, 0, 1, 1, 0, 1, 2, 1, 1, 1, 1, 0, 1, 0, 1, 0, 1, 1, 1, 1, 1,\n",
       "       1, 1, 1, 1, 1, 1, 0, 1, 0, 1, 1, 1, 1, 1, 1, 0, 1, 2, 1, 1, 1, 1,\n",
       "       2, 1, 1, 1, 1, 1, 1, 1, 1, 1, 1, 1, 1, 1, 1, 2, 1, 0, 0, 0, 1, 1,\n",
       "       1, 1, 1, 1, 1, 1, 1, 0, 1, 1, 1, 1, 0, 1, 1, 1, 1, 1, 1, 1, 2, 1,\n",
       "       1, 1, 1, 1, 1, 1, 1, 1, 1, 1, 1, 1, 1, 1, 1, 1, 1, 1, 1, 1, 1, 1,\n",
       "       1, 1, 1, 1, 1, 1, 0, 1, 1, 2, 1, 1, 1, 1, 1, 1, 1, 1, 1, 1, 1, 1,\n",
       "       1, 0, 1, 0, 0, 1, 1, 1, 1, 1, 1, 1, 1, 1, 1, 1, 1, 1, 1, 1, 1, 1,\n",
       "       1, 1, 1, 1, 1, 1, 1, 1, 2, 1, 1, 1, 1, 1, 1, 1, 0, 1, 1, 1, 1, 1,\n",
       "       1, 1, 1, 1, 1, 1, 1, 1, 1, 1, 1, 1, 1, 1, 1, 1, 1, 1, 1, 1, 1, 1,\n",
       "       1, 1, 1, 1, 1, 1, 1, 1, 1, 1, 1, 1, 1, 1, 1, 1, 1, 0, 1, 1, 1, 1,\n",
       "       1, 0, 1, 1, 1, 1, 2, 1, 1, 1, 1, 1, 1, 1, 1, 1, 1, 0, 1, 1, 1, 1,\n",
       "       1, 1, 1, 1, 1, 1, 0, 1, 1, 1, 1, 1, 1, 1, 1, 1, 1, 1, 1, 1, 1, 1,\n",
       "       1, 1, 1, 1, 0, 2, 2, 1, 1, 2, 1, 1, 1, 1, 1, 1, 1, 1, 1, 1, 1, 1,\n",
       "       1, 1, 1, 2, 1, 1, 1, 1, 1, 1, 1, 1, 1, 1, 1, 1, 1, 1, 1, 1, 1, 1,\n",
       "       1, 1, 1, 2, 1, 1, 2, 1, 1, 1, 1, 1, 1, 1, 1, 1, 1, 0, 1, 1, 1, 1,\n",
       "       0, 1, 1, 1, 1, 1, 1, 1, 1, 1, 1, 1, 1, 1, 1, 1, 1, 1, 1, 1, 1, 1,\n",
       "       1, 1, 1, 1, 1, 1, 1, 1, 1, 1, 1, 1, 1, 1, 0, 1, 1, 1, 1, 1, 1, 1,\n",
       "       1, 1, 1, 1, 1, 1, 1, 1, 1, 1, 1, 1, 1, 1, 1, 1, 1, 0, 1, 1, 1, 1,\n",
       "       0, 1, 1, 1, 1, 1, 1, 0, 1, 0, 1, 1, 1, 1, 1, 1, 1, 1, 1, 1, 1, 1,\n",
       "       1, 1, 1, 1, 1, 1, 1, 0, 1, 1, 1, 1, 1, 1, 1, 1, 1, 1, 1, 1, 1, 1,\n",
       "       1, 1, 1, 1, 1, 1, 1])"
      ]
     },
     "execution_count": 156,
     "metadata": {},
     "output_type": "execute_result"
    }
   ],
   "source": [
    "kmeans.labels_"
   ]
  },
  {
   "cell_type": "code",
   "execution_count": 157,
   "id": "ef1c9b44-8e52-404e-9975-50ab251b5aca",
   "metadata": {},
   "outputs": [
    {
     "data": {
      "text/html": [
       "<div>\n",
       "<style scoped>\n",
       "    .dataframe tbody tr th:only-of-type {\n",
       "        vertical-align: middle;\n",
       "    }\n",
       "\n",
       "    .dataframe tbody tr th {\n",
       "        vertical-align: top;\n",
       "    }\n",
       "\n",
       "    .dataframe thead th {\n",
       "        text-align: right;\n",
       "    }\n",
       "</style>\n",
       "<table border=\"1\" class=\"dataframe\">\n",
       "  <thead>\n",
       "    <tr style=\"text-align: right;\">\n",
       "      <th></th>\n",
       "      <th>CUSTOMER_NAME</th>\n",
       "      <th>Avg days for payment</th>\n",
       "      <th>Std deviation for payment</th>\n",
       "      <th>cluster_id</th>\n",
       "    </tr>\n",
       "  </thead>\n",
       "  <tbody>\n",
       "    <tr>\n",
       "      <th>0</th>\n",
       "      <td>3D D Corp</td>\n",
       "      <td>-0.534519</td>\n",
       "      <td>-0.563303</td>\n",
       "      <td>1</td>\n",
       "    </tr>\n",
       "    <tr>\n",
       "      <th>1</th>\n",
       "      <td>6TH  Corp</td>\n",
       "      <td>-0.420640</td>\n",
       "      <td>-0.626042</td>\n",
       "      <td>1</td>\n",
       "    </tr>\n",
       "    <tr>\n",
       "      <th>2</th>\n",
       "      <td>A3 D Corp</td>\n",
       "      <td>-0.387513</td>\n",
       "      <td>-0.075683</td>\n",
       "      <td>1</td>\n",
       "    </tr>\n",
       "    <tr>\n",
       "      <th>3</th>\n",
       "      <td>ABC  Corp</td>\n",
       "      <td>-0.593276</td>\n",
       "      <td>-0.724119</td>\n",
       "      <td>1</td>\n",
       "    </tr>\n",
       "    <tr>\n",
       "      <th>4</th>\n",
       "      <td>ABDU Corp</td>\n",
       "      <td>-0.167009</td>\n",
       "      <td>-0.046851</td>\n",
       "      <td>1</td>\n",
       "    </tr>\n",
       "  </tbody>\n",
       "</table>\n",
       "</div>"
      ],
      "text/plain": [
       "  CUSTOMER_NAME  Avg days for payment  Std deviation for payment  cluster_id\n",
       "0     3D D Corp             -0.534519                  -0.563303           1\n",
       "1     6TH  Corp             -0.420640                  -0.626042           1\n",
       "2     A3 D Corp             -0.387513                  -0.075683           1\n",
       "3     ABC  Corp             -0.593276                  -0.724119           1\n",
       "4     ABDU Corp             -0.167009                  -0.046851           1"
      ]
     },
     "execution_count": 157,
     "metadata": {},
     "output_type": "execute_result"
    }
   ],
   "source": [
    "# Assigning labels to the cust_seg dataframe\n",
    "cust_seg['cluster_id'] = kmeans.labels_\n",
    "cust_seg.head()"
   ]
  },
  {
   "cell_type": "code",
   "execution_count": 158,
   "id": "349ac7cb-f8ff-46d6-81bd-553d97ff8ee2",
   "metadata": {},
   "outputs": [
    {
     "data": {
      "image/png": "[encoded data removed]",
      "text/plain": [
       "<Figure size 1000x400 with 2 Axes>"
      ]
     },
     "metadata": {},
     "output_type": "display_data"
    }
   ],
   "source": [
    "# Plotting box plot based on clusters\n",
    "plt.figure(figsize=(10,4))\n",
    "plt.subplot(1,2,1)\n",
    "sns.boxplot(x='cluster_id', y='Avg days for payment', data=cust_seg)\n",
    "plt.title(\"Cluster Based on Avg days for payment\")\n",
    "\n",
    "\n",
    "plt.subplot(1,2,2)\n",
    "sns.boxplot(x='cluster_id', y='Std deviation for payment', data=cust_seg)\n",
    "plt.title(\"Cluster Based on Std deviation for payment\")\n",
    "plt.show()"
   ]
  },
  {
   "cell_type": "markdown",
   "id": "6aabf4b6-f3e3-4bf4-91b5-76a51bd01d85",
   "metadata": {},
   "source": [
    "##### '1' Cluster -- Prolonged Invoice Payment\n",
    "\n",
    "##### '2' Cluster -- Early Invoice Payment\n",
    "\n",
    "##### '0' Cluster -- Medium Invoice Payment"
   ]
  },
  {
   "cell_type": "code",
   "execution_count": 160,
   "id": "64e675df-7fa0-4e43-be63-481a945c5bad",
   "metadata": {},
   "outputs": [],
   "source": [
    "# Dropping the 'Avg days for payment' and 'Std deviation for payment' columns for merging this dataset with open invoice \n",
    "# dataset to assign cluster id to each customers\n"
   ]
  },
  {
   "cell_type": "code",
   "execution_count": 161,
   "id": "d78b6e40-8e75-4b3a-97bf-b0c0dccff247",
   "metadata": {},
   "outputs": [],
   "source": [
    "cust_seg.drop(['Avg days for payment', 'Std deviation for payment'], axis=1, inplace=True)"
   ]
  },
  {
   "cell_type": "code",
   "execution_count": 162,
   "id": "289a45a4-30b0-4883-93b4-1d9b6ebb6ef5",
   "metadata": {},
   "outputs": [],
   "source": [
    "# Creating a copy\n",
    "cust_dict = cust_seg.copy()"
   ]
  },
  {
   "cell_type": "code",
   "execution_count": 163,
   "id": "a1584f7a-96c1-4255-b7af-8d136fddf991",
   "metadata": {},
   "outputs": [
    {
     "data": {
      "text/html": [
       "<div>\n",
       "<style scoped>\n",
       "    .dataframe tbody tr th:only-of-type {\n",
       "        vertical-align: middle;\n",
       "    }\n",
       "\n",
       "    .dataframe tbody tr th {\n",
       "        vertical-align: top;\n",
       "    }\n",
       "\n",
       "    .dataframe thead th {\n",
       "        text-align: right;\n",
       "    }\n",
       "</style>\n",
       "<table border=\"1\" class=\"dataframe\">\n",
       "  <thead>\n",
       "    <tr style=\"text-align: right;\">\n",
       "      <th></th>\n",
       "      <th>Customer_Name</th>\n",
       "      <th>cluster_id</th>\n",
       "    </tr>\n",
       "  </thead>\n",
       "  <tbody>\n",
       "    <tr>\n",
       "      <th>0</th>\n",
       "      <td>3D D Corp</td>\n",
       "      <td>1</td>\n",
       "    </tr>\n",
       "    <tr>\n",
       "      <th>1</th>\n",
       "      <td>6TH  Corp</td>\n",
       "      <td>1</td>\n",
       "    </tr>\n",
       "    <tr>\n",
       "      <th>2</th>\n",
       "      <td>A3 D Corp</td>\n",
       "      <td>1</td>\n",
       "    </tr>\n",
       "    <tr>\n",
       "      <th>3</th>\n",
       "      <td>ABC  Corp</td>\n",
       "      <td>1</td>\n",
       "    </tr>\n",
       "    <tr>\n",
       "      <th>4</th>\n",
       "      <td>ABDU Corp</td>\n",
       "      <td>1</td>\n",
       "    </tr>\n",
       "  </tbody>\n",
       "</table>\n",
       "</div>"
      ],
      "text/plain": [
       "  Customer_Name  cluster_id\n",
       "0     3D D Corp           1\n",
       "1     6TH  Corp           1\n",
       "2     A3 D Corp           1\n",
       "3     ABC  Corp           1\n",
       "4     ABDU Corp           1"
      ]
     },
     "execution_count": 163,
     "metadata": {},
     "output_type": "execute_result"
    }
   ],
   "source": [
    "# Renaming the column\n",
    "cust_dict.rename(columns={'CUSTOMER_NAME':'Customer_Name'}, inplace=True)\n",
    "cust_dict.head()"
   ]
  },
  {
   "cell_type": "code",
   "execution_count": 164,
   "id": "d67712fc-6bf2-490e-b8bd-6c49e5fd8016",
   "metadata": {},
   "outputs": [
    {
     "data": {
      "text/html": [
       "<div>\n",
       "<style scoped>\n",
       "    .dataframe tbody tr th:only-of-type {\n",
       "        vertical-align: middle;\n",
       "    }\n",
       "\n",
       "    .dataframe tbody tr th {\n",
       "        vertical-align: top;\n",
       "    }\n",
       "\n",
       "    .dataframe thead th {\n",
       "        text-align: right;\n",
       "    }\n",
       "</style>\n",
       "<table border=\"1\" class=\"dataframe\">\n",
       "  <thead>\n",
       "    <tr style=\"text-align: right;\">\n",
       "      <th></th>\n",
       "      <th>cluster_id</th>\n",
       "    </tr>\n",
       "    <tr>\n",
       "      <th>Customer_Name</th>\n",
       "      <th></th>\n",
       "    </tr>\n",
       "  </thead>\n",
       "  <tbody>\n",
       "    <tr>\n",
       "      <th>3D D Corp</th>\n",
       "      <td>1</td>\n",
       "    </tr>\n",
       "    <tr>\n",
       "      <th>6TH  Corp</th>\n",
       "      <td>1</td>\n",
       "    </tr>\n",
       "    <tr>\n",
       "      <th>A3 D Corp</th>\n",
       "      <td>1</td>\n",
       "    </tr>\n",
       "    <tr>\n",
       "      <th>ABC  Corp</th>\n",
       "      <td>1</td>\n",
       "    </tr>\n",
       "    <tr>\n",
       "      <th>ABDU Corp</th>\n",
       "      <td>1</td>\n",
       "    </tr>\n",
       "    <tr>\n",
       "      <th>...</th>\n",
       "      <td>...</td>\n",
       "    </tr>\n",
       "    <tr>\n",
       "      <th>YOUS Corp</th>\n",
       "      <td>1</td>\n",
       "    </tr>\n",
       "    <tr>\n",
       "      <th>ZAHR Corp</th>\n",
       "      <td>1</td>\n",
       "    </tr>\n",
       "    <tr>\n",
       "      <th>ZAIN Corp</th>\n",
       "      <td>1</td>\n",
       "    </tr>\n",
       "    <tr>\n",
       "      <th>ZERO Corp</th>\n",
       "      <td>1</td>\n",
       "    </tr>\n",
       "    <tr>\n",
       "      <th>ZV F Corp</th>\n",
       "      <td>1</td>\n",
       "    </tr>\n",
       "  </tbody>\n",
       "</table>\n",
       "<p>689 rows × 1 columns</p>\n",
       "</div>"
      ],
      "text/plain": [
       "               cluster_id\n",
       "Customer_Name            \n",
       "3D D Corp               1\n",
       "6TH  Corp               1\n",
       "A3 D Corp               1\n",
       "ABC  Corp               1\n",
       "ABDU Corp               1\n",
       "...                   ...\n",
       "YOUS Corp               1\n",
       "ZAHR Corp               1\n",
       "ZAIN Corp               1\n",
       "ZERO Corp               1\n",
       "ZV F Corp               1\n",
       "\n",
       "[689 rows x 1 columns]"
      ]
     },
     "execution_count": 164,
     "metadata": {},
     "output_type": "execute_result"
    }
   ],
   "source": [
    "# Setting the 'Customer_Name' as index\n",
    "cust_dict.set_index('Customer_Name')"
   ]
  },
  {
   "cell_type": "code",
   "execution_count": 165,
   "id": "655c4edf-a160-4fa3-933a-81b8b5a573da",
   "metadata": {},
   "outputs": [
    {
     "data": {
      "text/plain": [
       "Text(0.5, 1.0, 'Customer Segment Distribution Chart')"
      ]
     },
     "execution_count": 165,
     "metadata": {},
     "output_type": "execute_result"
    },
    {
     "data": {
      "image/png": "[encoded data removed]",
      "text/plain": [
       "<Figure size 640x480 with 1 Axes>"
      ]
     },
     "metadata": {},
     "output_type": "display_data"
    }
   ],
   "source": [
    "(cust_dict.cluster_id.value_counts(normalize = True)*100).plot.pie(autopct='%1.1f%%')\n",
    "plt.title(\"Customer Segment Distribution Chart\")"
   ]
  },
  {
   "cell_type": "markdown",
   "id": "0b2d418d-5e98-4eca-87af-af80de04f01a",
   "metadata": {},
   "source": [
    "###### '1' Cluster -- Prolonged Invoice Payment\n",
    "\n",
    "###### '2' Cluster -- Early Invoice Payment\n",
    "\n",
    "###### '0' Cluster -- Medium Invoice Payment"
   ]
  },
  {
   "cell_type": "markdown",
   "id": "3c60f4b3-928b-434a-9681-d3fd56f4f741",
   "metadata": {},
   "source": [
    "###### ---From the above we can see that Early customers comprise of 88.7% of customers whereas medium and prolonged payers are 11.3% in total"
   ]
  },
  {
   "cell_type": "code",
   "execution_count": 168,
   "id": "9c70c6a0-ba05-4b20-8aa6-0ba57ddf4388",
   "metadata": {},
   "outputs": [
    {
     "data": {
      "text/html": [
       "<div>\n",
       "<style scoped>\n",
       "    .dataframe tbody tr th:only-of-type {\n",
       "        vertical-align: middle;\n",
       "    }\n",
       "\n",
       "    .dataframe tbody tr th {\n",
       "        vertical-align: top;\n",
       "    }\n",
       "\n",
       "    .dataframe thead th {\n",
       "        text-align: right;\n",
       "    }\n",
       "</style>\n",
       "<table border=\"1\" class=\"dataframe\">\n",
       "  <thead>\n",
       "    <tr style=\"text-align: right;\">\n",
       "      <th></th>\n",
       "      <th>RECEIPT_METHOD</th>\n",
       "      <th>CUSTOMER_NAME</th>\n",
       "      <th>CUSTOMER_NUMBER</th>\n",
       "      <th>RECEIPT_DATE</th>\n",
       "      <th>CURRENCY_CODE</th>\n",
       "      <th>USD Amount</th>\n",
       "      <th>INVOICE_ALLOCATED</th>\n",
       "      <th>INVOICE_CREATION_DATE</th>\n",
       "      <th>DUE_DATE</th>\n",
       "      <th>INVOICE_CURRENCY_CODE</th>\n",
       "      <th>...</th>\n",
       "      <th>60 Days from EOM</th>\n",
       "      <th>60 Days from Inv Date</th>\n",
       "      <th>90 Days from EOM</th>\n",
       "      <th>90 Days from Inv Date</th>\n",
       "      <th>Immediate Payment</th>\n",
       "      <th>CM</th>\n",
       "      <th>DM</th>\n",
       "      <th>INV</th>\n",
       "      <th>act_days_for_pay</th>\n",
       "      <th>cluster_id</th>\n",
       "    </tr>\n",
       "  </thead>\n",
       "  <tbody>\n",
       "    <tr>\n",
       "      <th>0</th>\n",
       "      <td>WIRE</td>\n",
       "      <td>C EA Corp</td>\n",
       "      <td>37403</td>\n",
       "      <td>2021-04-20</td>\n",
       "      <td>USD</td>\n",
       "      <td>101018.63040</td>\n",
       "      <td>14200000001</td>\n",
       "      <td>2020-11-02</td>\n",
       "      <td>2020-12-30</td>\n",
       "      <td>AED</td>\n",
       "      <td>...</td>\n",
       "      <td>False</td>\n",
       "      <td>False</td>\n",
       "      <td>False</td>\n",
       "      <td>False</td>\n",
       "      <td>False</td>\n",
       "      <td>False</td>\n",
       "      <td>False</td>\n",
       "      <td>True</td>\n",
       "      <td>169</td>\n",
       "      <td>1</td>\n",
       "    </tr>\n",
       "    <tr>\n",
       "      <th>1</th>\n",
       "      <td>WIRE</td>\n",
       "      <td>RADW Corp</td>\n",
       "      <td>4003</td>\n",
       "      <td>2021-01-31</td>\n",
       "      <td>SAR</td>\n",
       "      <td>48990.21133</td>\n",
       "      <td>99200000043</td>\n",
       "      <td>2020-12-29</td>\n",
       "      <td>2021-01-28</td>\n",
       "      <td>SAR</td>\n",
       "      <td>...</td>\n",
       "      <td>False</td>\n",
       "      <td>False</td>\n",
       "      <td>False</td>\n",
       "      <td>False</td>\n",
       "      <td>False</td>\n",
       "      <td>False</td>\n",
       "      <td>False</td>\n",
       "      <td>True</td>\n",
       "      <td>33</td>\n",
       "      <td>1</td>\n",
       "    </tr>\n",
       "    <tr>\n",
       "      <th>2</th>\n",
       "      <td>WIRE</td>\n",
       "      <td>RADW Corp</td>\n",
       "      <td>4003</td>\n",
       "      <td>2021-01-31</td>\n",
       "      <td>SAR</td>\n",
       "      <td>41991.60971</td>\n",
       "      <td>99210000003</td>\n",
       "      <td>2021-01-30</td>\n",
       "      <td>2021-03-01</td>\n",
       "      <td>SAR</td>\n",
       "      <td>...</td>\n",
       "      <td>False</td>\n",
       "      <td>False</td>\n",
       "      <td>False</td>\n",
       "      <td>False</td>\n",
       "      <td>False</td>\n",
       "      <td>False</td>\n",
       "      <td>False</td>\n",
       "      <td>True</td>\n",
       "      <td>1</td>\n",
       "      <td>1</td>\n",
       "    </tr>\n",
       "    <tr>\n",
       "      <th>3</th>\n",
       "      <td>WIRE</td>\n",
       "      <td>FARO Corp</td>\n",
       "      <td>1409</td>\n",
       "      <td>2021-01-31</td>\n",
       "      <td>SAR</td>\n",
       "      <td>41991.60971</td>\n",
       "      <td>99200000038</td>\n",
       "      <td>2020-12-15</td>\n",
       "      <td>2021-01-14</td>\n",
       "      <td>SAR</td>\n",
       "      <td>...</td>\n",
       "      <td>False</td>\n",
       "      <td>False</td>\n",
       "      <td>False</td>\n",
       "      <td>False</td>\n",
       "      <td>False</td>\n",
       "      <td>False</td>\n",
       "      <td>False</td>\n",
       "      <td>True</td>\n",
       "      <td>47</td>\n",
       "      <td>0</td>\n",
       "    </tr>\n",
       "    <tr>\n",
       "      <th>4</th>\n",
       "      <td>WIRE</td>\n",
       "      <td>RADW Corp</td>\n",
       "      <td>4003</td>\n",
       "      <td>2021-01-31</td>\n",
       "      <td>SAR</td>\n",
       "      <td>41991.60971</td>\n",
       "      <td>99200000039</td>\n",
       "      <td>2020-12-15</td>\n",
       "      <td>2021-01-14</td>\n",
       "      <td>SAR</td>\n",
       "      <td>...</td>\n",
       "      <td>False</td>\n",
       "      <td>False</td>\n",
       "      <td>False</td>\n",
       "      <td>False</td>\n",
       "      <td>False</td>\n",
       "      <td>False</td>\n",
       "      <td>False</td>\n",
       "      <td>True</td>\n",
       "      <td>47</td>\n",
       "      <td>1</td>\n",
       "    </tr>\n",
       "  </tbody>\n",
       "</table>\n",
       "<p>5 rows × 30 columns</p>\n",
       "</div>"
      ],
      "text/plain": [
       "  RECEIPT_METHOD CUSTOMER_NAME  CUSTOMER_NUMBER RECEIPT_DATE CURRENCY_CODE  \\\n",
       "0           WIRE     C EA Corp            37403   2021-04-20           USD   \n",
       "1           WIRE     RADW Corp             4003   2021-01-31           SAR   \n",
       "2           WIRE     RADW Corp             4003   2021-01-31           SAR   \n",
       "3           WIRE     FARO Corp             1409   2021-01-31           SAR   \n",
       "4           WIRE     RADW Corp             4003   2021-01-31           SAR   \n",
       "\n",
       "     USD Amount INVOICE_ALLOCATED INVOICE_CREATION_DATE   DUE_DATE  \\\n",
       "0  101018.63040       14200000001            2020-11-02 2020-12-30   \n",
       "1   48990.21133       99200000043            2020-12-29 2021-01-28   \n",
       "2   41991.60971       99210000003            2021-01-30 2021-03-01   \n",
       "3   41991.60971       99200000038            2020-12-15 2021-01-14   \n",
       "4   41991.60971       99200000039            2020-12-15 2021-01-14   \n",
       "\n",
       "  INVOICE_CURRENCY_CODE  ... 60 Days from EOM  60 Days from Inv Date  \\\n",
       "0                   AED  ...            False                  False   \n",
       "1                   SAR  ...            False                  False   \n",
       "2                   SAR  ...            False                  False   \n",
       "3                   SAR  ...            False                  False   \n",
       "4                   SAR  ...            False                  False   \n",
       "\n",
       "   90 Days from EOM  90 Days from Inv Date  Immediate Payment     CM     DM  \\\n",
       "0             False                  False              False  False  False   \n",
       "1             False                  False              False  False  False   \n",
       "2             False                  False              False  False  False   \n",
       "3             False                  False              False  False  False   \n",
       "4             False                  False              False  False  False   \n",
       "\n",
       "    INV  act_days_for_pay  cluster_id  \n",
       "0  True               169           1  \n",
       "1  True                33           1  \n",
       "2  True                 1           1  \n",
       "3  True                47           0  \n",
       "4  True                47           1  \n",
       "\n",
       "[5 rows x 30 columns]"
      ]
     },
     "execution_count": 168,
     "metadata": {},
     "output_type": "execute_result"
    }
   ],
   "source": [
    "# Merging rec_pay_data and cust_deg to add clustering index\n",
    "merged_df = pd.merge(rec_pay_data, cust_seg, how='inner', on='CUSTOMER_NAME')\n",
    "merged_df.head()"
   ]
  },
  {
   "cell_type": "code",
   "execution_count": 169,
   "id": "a5af6fcc-c9fd-4049-b2ef-be066dabad1d",
   "metadata": {},
   "outputs": [
    {
     "data": {
      "text/plain": [
       "0"
      ]
     },
     "execution_count": 169,
     "metadata": {},
     "output_type": "execute_result"
    }
   ],
   "source": [
    "# checking null values for clusters\n",
    "merged_df['cluster_id'].isnull().sum()"
   ]
  },
  {
   "cell_type": "code",
   "execution_count": 170,
   "id": "d8ec3d9b-c028-4137-a54e-8bd6fe43a23c",
   "metadata": {},
   "outputs": [
    {
     "data": {
      "image/png": "[encoded data removed]",
      "text/plain": [
       "<Figure size 640x480 with 1 Axes>"
      ]
     },
     "metadata": {},
     "output_type": "display_data"
    }
   ],
   "source": [
    "sns.barplot(data=merged_df, x='cluster_id', y='default', estimator=np.mean, palette='RdYlGn')\n",
    "plt.title(\"Cluster_ID with Late Payment ratio\")\n",
    "plt.xlabel(\"Cluster_ID\")\n",
    "plt.ylabel(\"Late Payment Ratio\")\n",
    "plt.show()"
   ]
  },
  {
   "cell_type": "code",
   "execution_count": 171,
   "id": "6b50020f-3e87-45cd-8397-9ebb5a1c15ee",
   "metadata": {},
   "outputs": [
    {
     "data": {
      "text/plain": [
       "Index(['RECEIPT_METHOD', 'CUSTOMER_NAME', 'CUSTOMER_NUMBER', 'RECEIPT_DATE',\n",
       "       'CURRENCY_CODE', 'USD Amount', 'INVOICE_ALLOCATED',\n",
       "       'INVOICE_CREATION_DATE', 'DUE_DATE', 'INVOICE_CURRENCY_CODE',\n",
       "       'INVOICE_TYPE', 'default', 'month_reciept', 'month_inv_creation',\n",
       "       'month_due', '15 Days from EOM', '30 Days from EOM',\n",
       "       '30 Days from Inv Date', '45 Days from EOM', '45 Days from Inv Date',\n",
       "       '60 Days from EOM', '60 Days from Inv Date', '90 Days from EOM',\n",
       "       '90 Days from Inv Date', 'Immediate Payment', 'CM', 'DM', 'INV',\n",
       "       'act_days_for_pay', 'cluster_id'],\n",
       "      dtype='object')"
      ]
     },
     "execution_count": 171,
     "metadata": {},
     "output_type": "execute_result"
    }
   ],
   "source": [
    "merged_df.columns"
   ]
  },
  {
   "cell_type": "markdown",
   "id": "605e5d48-d7f7-497c-9b4c-7e435aa56e60",
   "metadata": {},
   "source": [
    "##### Step 4: Data Preparation for Model building"
   ]
  },
  {
   "cell_type": "code",
   "execution_count": 173,
   "id": "681894be-1ef7-48c0-823c-492427c04614",
   "metadata": {},
   "outputs": [
    {
     "data": {
      "text/html": [
       "<div>\n",
       "<style scoped>\n",
       "    .dataframe tbody tr th:only-of-type {\n",
       "        vertical-align: middle;\n",
       "    }\n",
       "\n",
       "    .dataframe tbody tr th {\n",
       "        vertical-align: top;\n",
       "    }\n",
       "\n",
       "    .dataframe thead th {\n",
       "        text-align: right;\n",
       "    }\n",
       "</style>\n",
       "<table border=\"1\" class=\"dataframe\">\n",
       "  <thead>\n",
       "    <tr style=\"text-align: right;\">\n",
       "      <th></th>\n",
       "      <th>USD Amount</th>\n",
       "      <th>INVOICE_CREATION_DATE</th>\n",
       "      <th>15 Days from EOM</th>\n",
       "      <th>30 Days from EOM</th>\n",
       "      <th>30 Days from Inv Date</th>\n",
       "      <th>45 Days from EOM</th>\n",
       "      <th>45 Days from Inv Date</th>\n",
       "      <th>60 Days from EOM</th>\n",
       "      <th>60 Days from Inv Date</th>\n",
       "      <th>90 Days from EOM</th>\n",
       "      <th>90 Days from Inv Date</th>\n",
       "      <th>Immediate Payment</th>\n",
       "      <th>DM</th>\n",
       "      <th>INV</th>\n",
       "      <th>CM</th>\n",
       "      <th>cluster_id</th>\n",
       "    </tr>\n",
       "  </thead>\n",
       "  <tbody>\n",
       "    <tr>\n",
       "      <th>0</th>\n",
       "      <td>101018.63040</td>\n",
       "      <td>2020-11-02</td>\n",
       "      <td>False</td>\n",
       "      <td>True</td>\n",
       "      <td>False</td>\n",
       "      <td>False</td>\n",
       "      <td>False</td>\n",
       "      <td>False</td>\n",
       "      <td>False</td>\n",
       "      <td>False</td>\n",
       "      <td>False</td>\n",
       "      <td>False</td>\n",
       "      <td>False</td>\n",
       "      <td>True</td>\n",
       "      <td>False</td>\n",
       "      <td>1</td>\n",
       "    </tr>\n",
       "    <tr>\n",
       "      <th>1</th>\n",
       "      <td>48990.21133</td>\n",
       "      <td>2020-12-29</td>\n",
       "      <td>False</td>\n",
       "      <td>False</td>\n",
       "      <td>True</td>\n",
       "      <td>False</td>\n",
       "      <td>False</td>\n",
       "      <td>False</td>\n",
       "      <td>False</td>\n",
       "      <td>False</td>\n",
       "      <td>False</td>\n",
       "      <td>False</td>\n",
       "      <td>False</td>\n",
       "      <td>True</td>\n",
       "      <td>False</td>\n",
       "      <td>1</td>\n",
       "    </tr>\n",
       "    <tr>\n",
       "      <th>2</th>\n",
       "      <td>41991.60971</td>\n",
       "      <td>2021-01-30</td>\n",
       "      <td>False</td>\n",
       "      <td>False</td>\n",
       "      <td>True</td>\n",
       "      <td>False</td>\n",
       "      <td>False</td>\n",
       "      <td>False</td>\n",
       "      <td>False</td>\n",
       "      <td>False</td>\n",
       "      <td>False</td>\n",
       "      <td>False</td>\n",
       "      <td>False</td>\n",
       "      <td>True</td>\n",
       "      <td>False</td>\n",
       "      <td>1</td>\n",
       "    </tr>\n",
       "    <tr>\n",
       "      <th>3</th>\n",
       "      <td>41991.60971</td>\n",
       "      <td>2020-12-15</td>\n",
       "      <td>False</td>\n",
       "      <td>False</td>\n",
       "      <td>True</td>\n",
       "      <td>False</td>\n",
       "      <td>False</td>\n",
       "      <td>False</td>\n",
       "      <td>False</td>\n",
       "      <td>False</td>\n",
       "      <td>False</td>\n",
       "      <td>False</td>\n",
       "      <td>False</td>\n",
       "      <td>True</td>\n",
       "      <td>False</td>\n",
       "      <td>0</td>\n",
       "    </tr>\n",
       "    <tr>\n",
       "      <th>4</th>\n",
       "      <td>41991.60971</td>\n",
       "      <td>2020-12-15</td>\n",
       "      <td>False</td>\n",
       "      <td>False</td>\n",
       "      <td>True</td>\n",
       "      <td>False</td>\n",
       "      <td>False</td>\n",
       "      <td>False</td>\n",
       "      <td>False</td>\n",
       "      <td>False</td>\n",
       "      <td>False</td>\n",
       "      <td>False</td>\n",
       "      <td>False</td>\n",
       "      <td>True</td>\n",
       "      <td>False</td>\n",
       "      <td>1</td>\n",
       "    </tr>\n",
       "  </tbody>\n",
       "</table>\n",
       "</div>"
      ],
      "text/plain": [
       "     USD Amount INVOICE_CREATION_DATE  15 Days from EOM  30 Days from EOM  \\\n",
       "0  101018.63040            2020-11-02             False              True   \n",
       "1   48990.21133            2020-12-29             False             False   \n",
       "2   41991.60971            2021-01-30             False             False   \n",
       "3   41991.60971            2020-12-15             False             False   \n",
       "4   41991.60971            2020-12-15             False             False   \n",
       "\n",
       "   30 Days from Inv Date  45 Days from EOM  45 Days from Inv Date  \\\n",
       "0                  False             False                  False   \n",
       "1                   True             False                  False   \n",
       "2                   True             False                  False   \n",
       "3                   True             False                  False   \n",
       "4                   True             False                  False   \n",
       "\n",
       "   60 Days from EOM  60 Days from Inv Date  90 Days from EOM  \\\n",
       "0             False                  False             False   \n",
       "1             False                  False             False   \n",
       "2             False                  False             False   \n",
       "3             False                  False             False   \n",
       "4             False                  False             False   \n",
       "\n",
       "   90 Days from Inv Date  Immediate Payment     DM   INV     CM  cluster_id  \n",
       "0                  False              False  False  True  False           1  \n",
       "1                  False              False  False  True  False           1  \n",
       "2                  False              False  False  True  False           1  \n",
       "3                  False              False  False  True  False           0  \n",
       "4                  False              False  False  True  False           1  "
      ]
     },
     "execution_count": 173,
     "metadata": {},
     "output_type": "execute_result"
    }
   ],
   "source": [
    "# Creating a new dataframe with important variables for model building\n",
    "reg_df = merged_df[['USD Amount','INVOICE_CREATION_DATE', '15 Days from EOM', '30 Days from EOM', \n",
    "                    '30 Days from Inv Date', '45 Days from EOM', '45 Days from Inv Date', '60 Days from EOM', \n",
    "                    '60 Days from Inv Date', '90 Days from EOM', '90 Days from Inv Date', 'Immediate Payment', \n",
    "                    'DM', 'INV', 'CM','cluster_id']]\n",
    "reg_df.head()"
   ]
  },
  {
   "cell_type": "code",
   "execution_count": 174,
   "id": "d01d8825-e122-4f67-8699-bc00ac919e9f",
   "metadata": {},
   "outputs": [
    {
     "data": {
      "text/html": [
       "<div>\n",
       "<style scoped>\n",
       "    .dataframe tbody tr th:only-of-type {\n",
       "        vertical-align: middle;\n",
       "    }\n",
       "\n",
       "    .dataframe tbody tr th {\n",
       "        vertical-align: top;\n",
       "    }\n",
       "\n",
       "    .dataframe thead th {\n",
       "        text-align: right;\n",
       "    }\n",
       "</style>\n",
       "<table border=\"1\" class=\"dataframe\">\n",
       "  <thead>\n",
       "    <tr style=\"text-align: right;\">\n",
       "      <th></th>\n",
       "      <th>USD Amount</th>\n",
       "      <th>15 Days from EOM</th>\n",
       "      <th>30 Days from EOM</th>\n",
       "      <th>30 Days from Inv Date</th>\n",
       "      <th>45 Days from EOM</th>\n",
       "      <th>45 Days from Inv Date</th>\n",
       "      <th>60 Days from EOM</th>\n",
       "      <th>60 Days from Inv Date</th>\n",
       "      <th>90 Days from EOM</th>\n",
       "      <th>90 Days from Inv Date</th>\n",
       "      <th>Immediate Payment</th>\n",
       "      <th>DM</th>\n",
       "      <th>INV</th>\n",
       "      <th>CM</th>\n",
       "      <th>cluster_id</th>\n",
       "      <th>Invoice_Month</th>\n",
       "    </tr>\n",
       "  </thead>\n",
       "  <tbody>\n",
       "    <tr>\n",
       "      <th>0</th>\n",
       "      <td>101018.63040</td>\n",
       "      <td>False</td>\n",
       "      <td>True</td>\n",
       "      <td>False</td>\n",
       "      <td>False</td>\n",
       "      <td>False</td>\n",
       "      <td>False</td>\n",
       "      <td>False</td>\n",
       "      <td>False</td>\n",
       "      <td>False</td>\n",
       "      <td>False</td>\n",
       "      <td>False</td>\n",
       "      <td>True</td>\n",
       "      <td>False</td>\n",
       "      <td>1</td>\n",
       "      <td>11</td>\n",
       "    </tr>\n",
       "    <tr>\n",
       "      <th>1</th>\n",
       "      <td>48990.21133</td>\n",
       "      <td>False</td>\n",
       "      <td>False</td>\n",
       "      <td>True</td>\n",
       "      <td>False</td>\n",
       "      <td>False</td>\n",
       "      <td>False</td>\n",
       "      <td>False</td>\n",
       "      <td>False</td>\n",
       "      <td>False</td>\n",
       "      <td>False</td>\n",
       "      <td>False</td>\n",
       "      <td>True</td>\n",
       "      <td>False</td>\n",
       "      <td>1</td>\n",
       "      <td>12</td>\n",
       "    </tr>\n",
       "    <tr>\n",
       "      <th>2</th>\n",
       "      <td>41991.60971</td>\n",
       "      <td>False</td>\n",
       "      <td>False</td>\n",
       "      <td>True</td>\n",
       "      <td>False</td>\n",
       "      <td>False</td>\n",
       "      <td>False</td>\n",
       "      <td>False</td>\n",
       "      <td>False</td>\n",
       "      <td>False</td>\n",
       "      <td>False</td>\n",
       "      <td>False</td>\n",
       "      <td>True</td>\n",
       "      <td>False</td>\n",
       "      <td>1</td>\n",
       "      <td>1</td>\n",
       "    </tr>\n",
       "    <tr>\n",
       "      <th>3</th>\n",
       "      <td>41991.60971</td>\n",
       "      <td>False</td>\n",
       "      <td>False</td>\n",
       "      <td>True</td>\n",
       "      <td>False</td>\n",
       "      <td>False</td>\n",
       "      <td>False</td>\n",
       "      <td>False</td>\n",
       "      <td>False</td>\n",
       "      <td>False</td>\n",
       "      <td>False</td>\n",
       "      <td>False</td>\n",
       "      <td>True</td>\n",
       "      <td>False</td>\n",
       "      <td>0</td>\n",
       "      <td>12</td>\n",
       "    </tr>\n",
       "    <tr>\n",
       "      <th>4</th>\n",
       "      <td>41991.60971</td>\n",
       "      <td>False</td>\n",
       "      <td>False</td>\n",
       "      <td>True</td>\n",
       "      <td>False</td>\n",
       "      <td>False</td>\n",
       "      <td>False</td>\n",
       "      <td>False</td>\n",
       "      <td>False</td>\n",
       "      <td>False</td>\n",
       "      <td>False</td>\n",
       "      <td>False</td>\n",
       "      <td>True</td>\n",
       "      <td>False</td>\n",
       "      <td>1</td>\n",
       "      <td>12</td>\n",
       "    </tr>\n",
       "  </tbody>\n",
       "</table>\n",
       "</div>"
      ],
      "text/plain": [
       "     USD Amount  15 Days from EOM  30 Days from EOM  30 Days from Inv Date  \\\n",
       "0  101018.63040             False              True                  False   \n",
       "1   48990.21133             False             False                   True   \n",
       "2   41991.60971             False             False                   True   \n",
       "3   41991.60971             False             False                   True   \n",
       "4   41991.60971             False             False                   True   \n",
       "\n",
       "   45 Days from EOM  45 Days from Inv Date  60 Days from EOM  \\\n",
       "0             False                  False             False   \n",
       "1             False                  False             False   \n",
       "2             False                  False             False   \n",
       "3             False                  False             False   \n",
       "4             False                  False             False   \n",
       "\n",
       "   60 Days from Inv Date  90 Days from EOM  90 Days from Inv Date  \\\n",
       "0                  False             False                  False   \n",
       "1                  False             False                  False   \n",
       "2                  False             False                  False   \n",
       "3                  False             False                  False   \n",
       "4                  False             False                  False   \n",
       "\n",
       "   Immediate Payment     DM   INV     CM  cluster_id  Invoice_Month  \n",
       "0              False  False  True  False           1             11  \n",
       "1              False  False  True  False           1             12  \n",
       "2              False  False  True  False           1              1  \n",
       "3              False  False  True  False           0             12  \n",
       "4              False  False  True  False           1             12  "
      ]
     },
     "execution_count": 174,
     "metadata": {},
     "output_type": "execute_result"
    }
   ],
   "source": [
    "# Creating Invoice_Month column and dropping INVOICE_CREATION_DATE\n",
    "reg_df['Invoice_Month'] = reg_df['INVOICE_CREATION_DATE'].dt.month\n",
    "reg_df.drop('INVOICE_CREATION_DATE',axis=1,inplace= True)\n",
    "reg_df.head()"
   ]
  },
  {
   "cell_type": "code",
   "execution_count": 175,
   "id": "30e33ca9-5d6f-4e6c-9ad3-3a1c89aaeec6",
   "metadata": {},
   "outputs": [
    {
     "data": {
      "text/plain": [
       "(92811, 16)"
      ]
     },
     "execution_count": 175,
     "metadata": {},
     "output_type": "execute_result"
    }
   ],
   "source": [
    "reg_df.shape"
   ]
  },
  {
   "cell_type": "code",
   "execution_count": 176,
   "id": "200e0940-3b25-4d14-a4fa-f1cdba9659c3",
   "metadata": {},
   "outputs": [
    {
     "ename": "KeyError",
     "evalue": "\"['15 Days from EOM'] not in index\"",
     "output_type": "error",
     "traceback": [
      "\u001b[1;31m---------------------------------------------------------------------------\u001b[0m",
      "\u001b[1;31mKeyError\u001b[0m                                  Traceback (most recent call last)",
      "Cell \u001b[1;32mIn[176], line 2\u001b[0m\n\u001b[0;32m      1\u001b[0m \u001b[38;5;66;03m# Open Invoice dataset\u001b[39;00m\n\u001b[1;32m----> 2\u001b[0m open_reg_df \u001b[38;5;241m=\u001b[39m open_data[[\u001b[38;5;124m'\u001b[39m\u001b[38;5;124mDue Date\u001b[39m\u001b[38;5;124m'\u001b[39m,\u001b[38;5;124m'\u001b[39m\u001b[38;5;124mUSD Amount\u001b[39m\u001b[38;5;124m'\u001b[39m, \u001b[38;5;124m'\u001b[39m\u001b[38;5;124mINV_CREATION_DATE\u001b[39m\u001b[38;5;124m'\u001b[39m, \u001b[38;5;124m'\u001b[39m\u001b[38;5;124m15 Days from EOM\u001b[39m\u001b[38;5;124m'\u001b[39m, \u001b[38;5;124m'\u001b[39m\u001b[38;5;124m30 Days from EOM\u001b[39m\u001b[38;5;124m'\u001b[39m, \n\u001b[0;32m      3\u001b[0m                          \u001b[38;5;124m'\u001b[39m\u001b[38;5;124m30 Days from Inv Date\u001b[39m\u001b[38;5;124m'\u001b[39m, \u001b[38;5;124m'\u001b[39m\u001b[38;5;124m45 Days from EOM\u001b[39m\u001b[38;5;124m'\u001b[39m, \u001b[38;5;124m'\u001b[39m\u001b[38;5;124m45 Days from Inv Date\u001b[39m\u001b[38;5;124m'\u001b[39m, \u001b[38;5;124m'\u001b[39m\u001b[38;5;124m60 Days from EOM\u001b[39m\u001b[38;5;124m'\u001b[39m,\n\u001b[0;32m      4\u001b[0m                          \u001b[38;5;124m'\u001b[39m\u001b[38;5;124m60 Days from Inv Date\u001b[39m\u001b[38;5;124m'\u001b[39m, \u001b[38;5;124m'\u001b[39m\u001b[38;5;124m90 Days from EOM\u001b[39m\u001b[38;5;124m'\u001b[39m, \u001b[38;5;124m'\u001b[39m\u001b[38;5;124m90 Days from Inv Date\u001b[39m\u001b[38;5;124m'\u001b[39m, \u001b[38;5;124m'\u001b[39m\u001b[38;5;124mImmediate Payment\u001b[39m\u001b[38;5;124m'\u001b[39m, \n\u001b[0;32m      5\u001b[0m                          \u001b[38;5;124m'\u001b[39m\u001b[38;5;124mDM\u001b[39m\u001b[38;5;124m'\u001b[39m, \u001b[38;5;124m'\u001b[39m\u001b[38;5;124mINV\u001b[39m\u001b[38;5;124m'\u001b[39m, \u001b[38;5;124m'\u001b[39m\u001b[38;5;124mCM\u001b[39m\u001b[38;5;124m'\u001b[39m,\u001b[38;5;124m'\u001b[39m\u001b[38;5;124mAGE\u001b[39m\u001b[38;5;124m'\u001b[39m]]\n\u001b[0;32m      6\u001b[0m open_reg_df\u001b[38;5;241m.\u001b[39mhead()\n",
      "File \u001b[1;32m~\\Documents\\Anaconda2024\\Lib\\site-packages\\pandas\\core\\frame.py:4108\u001b[0m, in \u001b[0;36mDataFrame.__getitem__\u001b[1;34m(self, key)\u001b[0m\n\u001b[0;32m   4106\u001b[0m     \u001b[38;5;28;01mif\u001b[39;00m is_iterator(key):\n\u001b[0;32m   4107\u001b[0m         key \u001b[38;5;241m=\u001b[39m \u001b[38;5;28mlist\u001b[39m(key)\n\u001b[1;32m-> 4108\u001b[0m     indexer \u001b[38;5;241m=\u001b[39m \u001b[38;5;28mself\u001b[39m\u001b[38;5;241m.\u001b[39mcolumns\u001b[38;5;241m.\u001b[39m_get_indexer_strict(key, \u001b[38;5;124m\"\u001b[39m\u001b[38;5;124mcolumns\u001b[39m\u001b[38;5;124m\"\u001b[39m)[\u001b[38;5;241m1\u001b[39m]\n\u001b[0;32m   4110\u001b[0m \u001b[38;5;66;03m# take() does not accept boolean indexers\u001b[39;00m\n\u001b[0;32m   4111\u001b[0m \u001b[38;5;28;01mif\u001b[39;00m \u001b[38;5;28mgetattr\u001b[39m(indexer, \u001b[38;5;124m\"\u001b[39m\u001b[38;5;124mdtype\u001b[39m\u001b[38;5;124m\"\u001b[39m, \u001b[38;5;28;01mNone\u001b[39;00m) \u001b[38;5;241m==\u001b[39m \u001b[38;5;28mbool\u001b[39m:\n",
      "File \u001b[1;32m~\\Documents\\Anaconda2024\\Lib\\site-packages\\pandas\\core\\indexes\\base.py:6200\u001b[0m, in \u001b[0;36mIndex._get_indexer_strict\u001b[1;34m(self, key, axis_name)\u001b[0m\n\u001b[0;32m   6197\u001b[0m \u001b[38;5;28;01melse\u001b[39;00m:\n\u001b[0;32m   6198\u001b[0m     keyarr, indexer, new_indexer \u001b[38;5;241m=\u001b[39m \u001b[38;5;28mself\u001b[39m\u001b[38;5;241m.\u001b[39m_reindex_non_unique(keyarr)\n\u001b[1;32m-> 6200\u001b[0m \u001b[38;5;28mself\u001b[39m\u001b[38;5;241m.\u001b[39m_raise_if_missing(keyarr, indexer, axis_name)\n\u001b[0;32m   6202\u001b[0m keyarr \u001b[38;5;241m=\u001b[39m \u001b[38;5;28mself\u001b[39m\u001b[38;5;241m.\u001b[39mtake(indexer)\n\u001b[0;32m   6203\u001b[0m \u001b[38;5;28;01mif\u001b[39;00m \u001b[38;5;28misinstance\u001b[39m(key, Index):\n\u001b[0;32m   6204\u001b[0m     \u001b[38;5;66;03m# GH 42790 - Preserve name from an Index\u001b[39;00m\n",
      "File \u001b[1;32m~\\Documents\\Anaconda2024\\Lib\\site-packages\\pandas\\core\\indexes\\base.py:6252\u001b[0m, in \u001b[0;36mIndex._raise_if_missing\u001b[1;34m(self, key, indexer, axis_name)\u001b[0m\n\u001b[0;32m   6249\u001b[0m     \u001b[38;5;28;01mraise\u001b[39;00m \u001b[38;5;167;01mKeyError\u001b[39;00m(\u001b[38;5;124mf\u001b[39m\u001b[38;5;124m\"\u001b[39m\u001b[38;5;124mNone of [\u001b[39m\u001b[38;5;132;01m{\u001b[39;00mkey\u001b[38;5;132;01m}\u001b[39;00m\u001b[38;5;124m] are in the [\u001b[39m\u001b[38;5;132;01m{\u001b[39;00maxis_name\u001b[38;5;132;01m}\u001b[39;00m\u001b[38;5;124m]\u001b[39m\u001b[38;5;124m\"\u001b[39m)\n\u001b[0;32m   6251\u001b[0m not_found \u001b[38;5;241m=\u001b[39m \u001b[38;5;28mlist\u001b[39m(ensure_index(key)[missing_mask\u001b[38;5;241m.\u001b[39mnonzero()[\u001b[38;5;241m0\u001b[39m]]\u001b[38;5;241m.\u001b[39munique())\n\u001b[1;32m-> 6252\u001b[0m \u001b[38;5;28;01mraise\u001b[39;00m \u001b[38;5;167;01mKeyError\u001b[39;00m(\u001b[38;5;124mf\u001b[39m\u001b[38;5;124m\"\u001b[39m\u001b[38;5;132;01m{\u001b[39;00mnot_found\u001b[38;5;132;01m}\u001b[39;00m\u001b[38;5;124m not in index\u001b[39m\u001b[38;5;124m\"\u001b[39m)\n",
      "\u001b[1;31mKeyError\u001b[0m: \"['15 Days from EOM'] not in index\""
     ]
    }
   ],
   "source": [
    "# Open Invoice dataset\n",
    "open_reg_df = open_data[['Due Date','USD Amount', 'INV_CREATION_DATE', '15 Days from EOM', '30 Days from EOM', \n",
    "                         '30 Days from Inv Date', '45 Days from EOM', '45 Days from Inv Date', '60 Days from EOM',\n",
    "                         '60 Days from Inv Date', '90 Days from EOM', '90 Days from Inv Date', 'Immediate Payment', \n",
    "                         'DM', 'INV', 'CM','AGE']]\n",
    "open_reg_df.head()"
   ]
  },
  {
   "cell_type": "code",
   "execution_count": null,
   "id": "caa9f01d-7b81-4ef2-9a98-72bb7e3b248f",
   "metadata": {},
   "outputs": [],
   "source": [
    "# Creating Invoice_Month column and dropping INV_CREATION_DATE\n",
    "open_reg_df['Invoice_Month'] = open_reg_df['INV_CREATION_DATE'].dt.month\n",
    "open_reg_df.drop('INV_CREATION_DATE',axis=1,inplace= True)\n",
    "open_reg_df.head()"
   ]
  },
  {
   "cell_type": "code",
   "execution_count": null,
   "id": "c6d234ea-61e1-4cce-bc15-432acdb06790",
   "metadata": {},
   "outputs": [],
   "source": [
    "# Creating Due_Month column and dropping Due Date\n",
    "open_reg_df['Due_Month'] = open_reg_df['Due Date'].dt.month\n",
    "open_reg_df.drop('Due Date',axis=1,inplace= True)\n",
    "open_reg_df.head()\n"
   ]
  },
  {
   "cell_type": "code",
   "execution_count": null,
   "id": "44280f21-ebb5-4d62-beba-9989a91c46b5",
   "metadata": {},
   "outputs": [],
   "source": [
    "# Checking columns for both datasets\n",
    "reg_df.columns"
   ]
  },
  {
   "cell_type": "code",
   "execution_count": null,
   "id": "a016e6e2-1b45-4884-8226-97c35b575348",
   "metadata": {},
   "outputs": [],
   "source": [
    "open_reg_df.columns"
   ]
  },
  {
   "cell_type": "markdown",
   "id": "3d60d3d9-1ba0-48fb-944d-fb36636d7ff6",
   "metadata": {},
   "source": [
    "#### Train- Test Split"
   ]
  },
  {
   "cell_type": "code",
   "execution_count": null,
   "id": "da911f62-b8ab-4c42-ada7-0ce9be1ef228",
   "metadata": {},
   "outputs": [],
   "source": [
    "# Feature variables X\n",
    "X = reg_df.copy()\n",
    "X.head()"
   ]
  },
  {
   "cell_type": "code",
   "execution_count": null,
   "id": "ea057b40-aace-4f8d-adb3-38d7443a172d",
   "metadata": {},
   "outputs": [],
   "source": [
    "# Target variable y\n",
    "y = merged_df['default']\n",
    "y.head()"
   ]
  },
  {
   "cell_type": "code",
   "execution_count": null,
   "id": "8a77a037-ed8e-4f27-b24d-907b00c0b988",
   "metadata": {},
   "outputs": [],
   "source": [
    "# Splitting into train and test set\n",
    "from sklearn.model_selection import train_test_split\n",
    "X_train,X_test,y_train,y_test = train_test_split(X,y,train_size=0.7,test_size=0.3,random_state=42)\n",
    "X_train.head()"
   ]
  },
  {
   "cell_type": "markdown",
   "id": "3c421178-6102-47e6-9a44-aea4dbcc88fb",
   "metadata": {},
   "source": [
    "#### Feature Scaling"
   ]
  },
  {
   "cell_type": "code",
   "execution_count": null,
   "id": "9c96eb0a-1e7f-4069-9441-71db276600c3",
   "metadata": {},
   "outputs": [],
   "source": [
    "X_train.shape"
   ]
  },
  {
   "cell_type": "code",
   "execution_count": null,
   "id": "f8a5f1f7-b846-425e-b6ec-6193ba450a00",
   "metadata": {},
   "outputs": [],
   "source": [
    "# Feature scaling for USD amount\n",
    "scaler = StandardScaler()\n",
    "X_train['USD Amount'] = scaler.fit_transform(X_train[['USD Amount']])\n",
    "X_train.head()"
   ]
  },
  {
   "cell_type": "code",
   "execution_count": null,
   "id": "b6d944a6-b1c1-4f57-89e2-aca731fde173",
   "metadata": {},
   "outputs": [],
   "source": [
    "X_train.describe()"
   ]
  },
  {
   "cell_type": "code",
   "execution_count": null,
   "id": "f211875d-daad-49fb-a252-845d5418a4dd",
   "metadata": {},
   "outputs": [],
   "source": [
    "# Plotting heat map of X_train dataset\n",
    "plt.figure(figsize=(15,15))\n",
    "sns.heatmap(X_train.corr(), annot=True)\n",
    "plt.show()"
   ]
  },
  {
   "cell_type": "markdown",
   "id": "4dc4407f-5619-4f52-9b7b-5d130532744d",
   "metadata": {},
   "source": [
    "##### CM & INV, INV & Immediate Payment, DM & 90 days from EOM has high multicollinearity, hence dropping these columns."
   ]
  },
  {
   "cell_type": "code",
   "execution_count": null,
   "id": "3dac9c0e-4ca4-4180-aa25-7d3a2555c3c9",
   "metadata": {},
   "outputs": [],
   "source": [
    "# Check the existing columns in X_train and X_test\n",
    "print(\"X_train columns:\", X_train.columns)\n",
    "print(\"X_test columns:\", X_test.columns)\n",
    "\n",
    "# Safely drop the specified columns\n",
    "X_train.drop(['CM', 'INV', 'DM'], axis=1, errors='ignore', inplace=True)\n",
    "X_test.drop(['CM', 'INV', 'DM'], axis=1, errors='ignore', inplace=True)\n",
    "\n",
    "# Verify the remaining columns after dropping\n",
    "print(\"Remaining X_train columns:\", X_train.columns)\n",
    "print(\"Remaining X_test columns:\", X_test.columns)"
   ]
  },
  {
   "cell_type": "code",
   "execution_count": null,
   "id": "f93e6ca4-d027-4523-887f-4c29bcb148d3",
   "metadata": {},
   "outputs": [],
   "source": [
    "# Plotting heat map of X_train dataset again\n",
    "plt.figure(figsize=(15,15))\n",
    "sns.heatmap(X_train.corr(), annot=True)\n",
    "plt.show()"
   ]
  },
  {
   "cell_type": "markdown",
   "id": "2eec7b83-9e19-480f-8a56-1e8baacea88f",
   "metadata": {},
   "source": [
    "#### Now the data has no high multicollinearity. Going ahead with model building"
   ]
  },
  {
   "cell_type": "markdown",
   "id": "9e8f9946-f28c-43d0-971d-d79ad236e24f",
   "metadata": {},
   "source": [
    "####  Model Building"
   ]
  },
  {
   "cell_type": "markdown",
   "id": "5222bd22-9eec-46ae-a6c2-a971360d0c82",
   "metadata": {},
   "source": [
    "##### Logistic Regression"
   ]
  },
  {
   "cell_type": "code",
   "execution_count": null,
   "id": "26e34225-f8a1-4a58-b1c6-ff0a28411280",
   "metadata": {},
   "outputs": [],
   "source": [
    "# Importing required library for building logistic regression model\n",
    "import statsmodels.api as sm"
   ]
  },
  {
   "cell_type": "markdown",
   "id": "42c94f0e-dadd-42c3-a031-44caf4bb1b2f",
   "metadata": {},
   "source": [
    "#### 1st Model"
   ]
  },
  {
   "cell_type": "code",
   "execution_count": null,
   "id": "382322bd-5d4e-42be-b7b5-492c43707f12",
   "metadata": {},
   "outputs": [],
   "source": [
    "import pandas as pd\n",
    "import numpy as np\n",
    "import statsmodels.api as sm\n",
    "\n",
    "# Sample code to check and clean your DataFrame\n",
    "# Assuming X_train is already defined\n",
    "\n",
    "# Step 1: Check for missing values and non-numeric columns\n",
    "print(\"Initial DataFrame:\")\n",
    "print(X_train.head())\n",
    "\n",
    "# Check for missing values\n",
    "print(\"Missing values per column:\")\n",
    "print(X_train.isnull().sum())\n",
    "\n",
    "# Check data types\n",
    "print(\"Data types of each column:\")\n",
    "print(X_train.dtypes)\n",
    "\n",
    "# Step 2: Convert all columns to numeric, coercing errors to NaN\n",
    "X_train = X_train.apply(pd.to_numeric, errors='coerce')\n",
    "\n",
    "# Check for columns with NaN after conversion\n",
    "print(\"DataFrame after conversion to numeric:\")\n",
    "print(X_train.head())\n",
    "\n",
    "# Step 3: Handle NaN values (drop or fill)\n",
    "X_train = X_train.dropna()  # or use X_train.fillna(value) for imputation\n",
    "\n",
    "# Step 4: Check for any remaining object types (should not exist)\n",
    "if X_train.select_dtypes(include=['object']).shape[0] > 0:\n",
    "    print(\"There are still object-type columns that need to be converted.\")\n",
    "else:\n",
    "    print(\"All columns are now numeric.\")\n",
    "\n",
    "# Step 5: Add constant and fit the model\n",
    "X_train_sm = sm.add_constant(X_train)\n",
    "# Assuming y_train is defined and is a valid Series\n",
    "logm1 = sm.GLM(y_train, X_train_sm, family=sm.families.Binomial())\n",
    "res = logm1.fit()\n",
    "\n",
    "# Step 6: Check the summary of the model\n",
    "print(res.summary())"
   ]
  },
  {
   "cell_type": "markdown",
   "id": "081f1ad4-eb9b-4821-b144-dbc5e67e85a7",
   "metadata": {},
   "source": [
    "##### Checking VIF"
   ]
  },
  {
   "cell_type": "code",
   "execution_count": null,
   "id": "ea4b09e7-53ec-4452-bef7-7d327c6cfba9",
   "metadata": {},
   "outputs": [],
   "source": [
    "# Create a dataframe that will contain the names of all the feature variables and their respective VIFs\n",
    "from statsmodels.stats.outliers_influence import variance_inflation_factor\n",
    "vif = pd.DataFrame()\n",
    "vif['Features'] = X_train.columns\n",
    "vif['VIF'] = [variance_inflation_factor(X_train.values, i) for i in range(X_train.shape[1])]\n",
    "vif['VIF'] = round(vif['VIF'], 2)\n",
    "vif = vif.sort_values(by = \"VIF\", ascending = False)\n",
    "vif"
   ]
  },
  {
   "cell_type": "code",
   "execution_count": null,
   "id": "5b97cd99-b3b4-492b-90f4-86ec9b56a2d5",
   "metadata": {},
   "outputs": [],
   "source": [
    "import pandas as pd\n",
    "import numpy as np\n",
    "from statsmodels.stats.outliers_influence import variance_inflation_factor\n",
    "\n",
    "# Step 1: Ensure all columns are numeric\n",
    "X_train = X_train.apply(pd.to_numeric, errors='coerce')\n",
    "\n",
    "# Check for any columns that may still have non-numeric types\n",
    "print(\"Data types after conversion:\")\n",
    "print(X_train.dtypes)\n",
    "\n",
    "# Step 2: Check for infinite values and replace them with NaN (if any)\n",
    "X_train.replace([np.inf, -np.inf], np.nan, inplace=True)\n",
    "\n",
    "# Step 3: Handle missing values (drop or impute)\n",
    "X_train = X_train.fillna(0)  # You can use dropna() or any other imputation strategy\n",
    "\n",
    "# Verify the DataFrame before calculating VIF\n",
    "print(\"DataFrame after cleaning:\")\n",
    "print(X_train.head())\n",
    "\n",
    "# Step 4: Calculate VIF\n",
    "if X_train.shape[1] > 0:  # Ensure there are columns to calculate VIF\n",
    "    vif = pd.DataFrame()\n",
    "    vif['Features'] = X_train.columns\n",
    "    vif['VIF'] = [variance_inflation_factor(X_train.values, i) for i in range(X_train.shape[1])]\n",
    "\n",
    "    # Step 5: Round the VIF values and sort\n",
    "    vif['VIF'] = round(vif['VIF'], 2)\n",
    "    vif = vif.sort_values(by=\"VIF\", ascending=False)\n",
    "\n",
    "    # Step 6: Display the VIF values\n",
    "    print(vif)\n",
    "else:\n",
    "    print(\"No numeric features available to calculate VIF.\")"
   ]
  },
  {
   "cell_type": "markdown",
   "id": "d51004c4-95db-4a4a-be1f-c84d7afc1e27",
   "metadata": {},
   "source": [
    "##### Both the p-value and VIF are in acceptable range, hence going ahead with this model."
   ]
  },
  {
   "cell_type": "code",
   "execution_count": null,
   "id": "7b9c718f-faca-427d-a9db-f573e5ce6e8c",
   "metadata": {},
   "outputs": [],
   "source": [
    "# Assuming 'res' is your fitted model and 'X_train_sm' includes the constant term\n",
    "y_train_pred = res.predict(X_train_sm)\n",
    "\n",
    "# Display the first 10 predicted values\n",
    "print(\"First 10 predicted values:\")\n",
    "print(y_train_pred[:10])"
   ]
  },
  {
   "cell_type": "code",
   "execution_count": null,
   "id": "dd43e83d-9e26-4a89-b336-b25747c63a1f",
   "metadata": {},
   "outputs": [],
   "source": [
    "# Reshaping the array\n",
    "y_train_pred = y_train_pred.values.reshape(-1)\n",
    "y_train_pred[:10]"
   ]
  },
  {
   "cell_type": "code",
   "execution_count": null,
   "id": "20961d11-75ce-4753-8a53-ce57764d98aa",
   "metadata": {},
   "outputs": [],
   "source": [
    "# Creating a dataframe for predicted values\n",
    "y_pred = pd.DataFrame({'default':y_train.values, 'default_pred':y_train_pred})\n",
    "y_pred.head()"
   ]
  },
  {
   "cell_type": "markdown",
   "id": "4d85a490-7f09-4337-8099-5990aac2c47a",
   "metadata": {},
   "source": [
    "#### Creating a new column 'final_pred' if 'default_pred' > 0.5"
   ]
  },
  {
   "cell_type": "code",
   "execution_count": null,
   "id": "f1e525ba-c96f-4666-aa61-cdcb8fdc361c",
   "metadata": {},
   "outputs": [],
   "source": [
    "# Making the prediction based on 0.5 cutoff\n",
    "y_pred['logreg_pred'] = y_pred['default_pred'].map(lambda x:1 if x>0.5 else 0) \n",
    "y_pred.head()\n"
   ]
  },
  {
   "cell_type": "code",
   "execution_count": null,
   "id": "77e44f67-4731-4d13-b4ef-b6305729c7a8",
   "metadata": {},
   "outputs": [],
   "source": [
    "from sklearn.metrics import confusion_matrix, accuracy_score, precision_score, recall_score\n",
    "from statsmodels.tools.tools import add_constant"
   ]
  },
  {
   "cell_type": "code",
   "execution_count": null,
   "id": "94353432-5cdd-4c3a-bda2-c16abdb6fa46",
   "metadata": {},
   "outputs": [],
   "source": [
    "# Confusion Matrix\n",
    "confusion = confusion_matrix(y_pred.default, y_pred.logreg_pred)\n",
    "confusion"
   ]
  },
  {
   "cell_type": "code",
   "execution_count": null,
   "id": "867434ea-d829-4b18-9e0e-e1155e804290",
   "metadata": {},
   "outputs": [],
   "source": [
    "# Accuracy\n",
    "print(accuracy_score(y_pred.default, y_pred.logreg_pred))\n"
   ]
  },
  {
   "cell_type": "markdown",
   "id": "0e53fc49-c4f7-4c44-97e4-f6629a5125df",
   "metadata": {},
   "source": [
    "#### We have 78.3% accuracy for our train data set."
   ]
  },
  {
   "cell_type": "code",
   "execution_count": null,
   "id": "761111d6-579c-47cc-9aba-34dec91a85b3",
   "metadata": {},
   "outputs": [],
   "source": [
    "TP = confusion[1,1] # true positive \n",
    "TN = confusion[0,0] # true negatives\n",
    "FP = confusion[0,1] # false positives\n",
    "FN = confusion[1,0] # false negatives"
   ]
  },
  {
   "cell_type": "code",
   "execution_count": null,
   "id": "42b65c20-31bd-4d29-bd13-8a321b83e8b3",
   "metadata": {},
   "outputs": [],
   "source": [
    "# Let's see the sensitivity of our logistic regression model\n",
    "sensitivity = TP / float(TP+FN)\n",
    "sensitivity"
   ]
  },
  {
   "cell_type": "code",
   "execution_count": null,
   "id": "5ea47c1c-9018-46b0-8b4b-4aedff01e015",
   "metadata": {},
   "outputs": [],
   "source": [
    "# Let us calculate specificity\n",
    "specificity = TN / float(TN+FP)\n",
    "specificity"
   ]
  },
  {
   "cell_type": "code",
   "execution_count": null,
   "id": "e8793963-6cc8-4aab-838a-d461da11d3b1",
   "metadata": {},
   "outputs": [],
   "source": [
    "# Calculate false postive rate\n",
    "print(FP/ float(TN+FP))"
   ]
  },
  {
   "cell_type": "code",
   "execution_count": null,
   "id": "c59908f9-17e5-4fa9-87fc-907017fd9830",
   "metadata": {},
   "outputs": [],
   "source": [
    "# positive predictive value \n",
    "print (TP / float(TP+FP))"
   ]
  },
  {
   "cell_type": "code",
   "execution_count": null,
   "id": "7753f130-d494-4354-9b95-ccb6d7fafc4d",
   "metadata": {},
   "outputs": [],
   "source": [
    "# Negative predictive value\n",
    "print (TN / float(TN+ FN))"
   ]
  },
  {
   "cell_type": "markdown",
   "id": "9d0fd350-4cc7-4dd0-9eeb-0945797fcf6a",
   "metadata": {},
   "source": [
    "#### Finding the optimal cutoff point"
   ]
  },
  {
   "cell_type": "code",
   "execution_count": null,
   "id": "04cdf4f7-5452-477f-824e-3953b32d6684",
   "metadata": {},
   "outputs": [],
   "source": [
    "# Trying out multiple threshold values\n",
    "for i in [0.1,0.2,0.3,0.4,0.5,0.6,0.7,0.8,0.9]:\n",
    "    y_pred[f'y_pred_{i}'] = y_pred['default_pred'].apply(lambda x : 1 if x > i else 0)\n",
    "y_pred"
   ]
  },
  {
   "cell_type": "code",
   "execution_count": null,
   "id": "6b34448f-4eb7-4eec-a68b-13678537013d",
   "metadata": {},
   "outputs": [],
   "source": [
    "# Now let's calculate accuracy sensitivity and specificity for various probability cutoffs.\n",
    "cutoff_df = pd.DataFrame( columns = ['prob','accuracy','sensi','speci'])\n",
    "\n",
    "num = [0.1,0.2,0.3,0.4,0.5,0.6,0.7,0.8,0.9]\n",
    "for i in num:\n",
    "    cm1 = confusion_matrix(y_pred.default, y_pred[f'y_pred_{i}'])\n",
    "    total1=sum(sum(cm1))\n",
    "    accuracy = (cm1[0,0]+cm1[1,1])/total1\n",
    "    \n",
    "    speci = cm1[0,0]/(cm1[0,0]+cm1[0,1])\n",
    "    sensi = cm1[1,1]/(cm1[1,0]+cm1[1,1])\n",
    "    cutoff_df.loc[i] =[ i ,accuracy,sensi,speci]\n",
    "print(cutoff_df)"
   ]
  },
  {
   "cell_type": "code",
   "execution_count": null,
   "id": "3b75ed3f-2e84-4c9b-9922-449fc0721fda",
   "metadata": {},
   "outputs": [],
   "source": [
    "# Let's plot accuracy sensitivity and specificity for various probabilities.\n",
    "cutoff_df.plot.line(x='prob', y=['accuracy','sensi','speci'])\n",
    "plt.show()"
   ]
  },
  {
   "cell_type": "markdown",
   "id": "924c3866-ee1e-4620-83ad-de92541bf250",
   "metadata": {},
   "source": [
    "#### From the curve above, 0.6 is the optimum point to take it as a cutoff probability.\n"
   ]
  },
  {
   "cell_type": "code",
   "execution_count": null,
   "id": "04cc0a4b-ff20-4b6c-b7d2-21a8c614fb69",
   "metadata": {},
   "outputs": [],
   "source": [
    "# Creating a column based on 0.6 cutoff for prediction\n",
    "y_pred['final_predicted'] = y_pred.default_pred.map( lambda x: 1 if x > 0.6 else 0)\n",
    "\n",
    "y_pred.head()"
   ]
  },
  {
   "cell_type": "code",
   "execution_count": null,
   "id": "14e6e753-cb1d-4131-b973-caba267ba380",
   "metadata": {},
   "outputs": [],
   "source": [
    "# Let's check the overall accuracy.\n",
    "accuracy_score(y_pred.default, y_pred.final_predicted)"
   ]
  },
  {
   "cell_type": "code",
   "execution_count": null,
   "id": "1d9c548e-26a8-4e8d-974d-9377a865f5ab",
   "metadata": {},
   "outputs": [],
   "source": [
    "# Precision Score\n",
    "precision_score(y_pred.default, y_pred.final_predicted)\n"
   ]
  },
  {
   "cell_type": "code",
   "execution_count": null,
   "id": "2a1a27db-01ad-443d-a3a6-9c13aa068fbd",
   "metadata": {},
   "outputs": [],
   "source": [
    "# Recall Score\n",
    "recall_score(y_pred.default, y_pred.final_predicted)"
   ]
  },
  {
   "cell_type": "code",
   "execution_count": null,
   "id": "e1a1b773-094d-4c17-9f5c-19c673cafe2a",
   "metadata": {},
   "outputs": [],
   "source": [
    "from sklearn.metrics import precision_recall_curve\n",
    "p, r, thresholds = precision_recall_curve(y_pred.default, y_pred.default_pred)\n"
   ]
  },
  {
   "cell_type": "code",
   "execution_count": null,
   "id": "bb4726e5-7d85-4dbd-a3d6-be2d981e84aa",
   "metadata": {},
   "outputs": [],
   "source": [
    "plt.figure(figsize=(4,3))\n",
    "plt.plot(thresholds, p[:-1], \"g-\")\n",
    "plt.plot(thresholds, r[:-1], \"r-\")\n",
    "plt.show()"
   ]
  },
  {
   "cell_type": "markdown",
   "id": "a4423765-0755-42df-b125-ede5008237fd",
   "metadata": {},
   "source": [
    "#### On Precision & Recall trade off we found optimal cutoff of between 0.6 & 0.7 . Hence keeping the optimal cutoff 0.6."
   ]
  },
  {
   "cell_type": "markdown",
   "id": "1ac58914-9bff-442b-b7c5-cbb2d9b0bb8f",
   "metadata": {},
   "source": [
    "#### Plotting the ROC curve\n"
   ]
  },
  {
   "cell_type": "code",
   "execution_count": null,
   "id": "f5737794-83c7-48f9-b924-7a299d856180",
   "metadata": {},
   "outputs": [],
   "source": [
    "from sklearn.metrics import roc_auc_score,roc_curve"
   ]
  },
  {
   "cell_type": "code",
   "execution_count": null,
   "id": "02dd8948-7bc8-497b-a7c2-e9d9c28fb0f4",
   "metadata": {},
   "outputs": [],
   "source": [
    "def draw_roc( actual, probs ):\n",
    "    fpr, tpr, thresholds = roc_curve( actual, probs,\n",
    "                                              drop_intermediate = False )\n",
    "    auc_score = roc_auc_score( actual, probs )\n",
    "    plt.figure(figsize=(5, 5))\n",
    "    plt.plot( fpr, tpr, label='ROC curve (area = %0.2f)' % auc_score )\n",
    "    plt.plot([0, 1], [0, 1], 'k--')\n",
    "    plt.xlim([0.0, 1.0])\n",
    "    plt.ylim([0.0, 1.05])\n",
    "    plt.xlabel('False Positive Rate or [1 - True Negative Rate]')\n",
    "    plt.ylabel('True Positive Rate')\n",
    "    plt.title('Receiver operating characteristic example')\n",
    "    plt.legend(loc=\"lower right\")\n",
    "    plt.show()\n",
    "\n",
    "    return None"
   ]
  },
  {
   "cell_type": "code",
   "execution_count": null,
   "id": "974ee895-3a60-4a87-8ab0-9a72ae89572e",
   "metadata": {},
   "outputs": [],
   "source": [
    "fpr, tpr, thresholds = roc_curve(y_pred.default,y_pred.default_pred,drop_intermediate = False)"
   ]
  },
  {
   "cell_type": "code",
   "execution_count": null,
   "id": "ef8e275a-7cc3-4ba5-8ec9-f03150d50c5c",
   "metadata": {},
   "outputs": [],
   "source": [
    "draw_roc(y_pred.default,y_pred.default_pred)"
   ]
  },
  {
   "cell_type": "markdown",
   "id": "5b97d1b5-b6dc-48af-9eca-9cf27c00b8cd",
   "metadata": {},
   "source": [
    "#### AUC = 0.83 which shows the model is good."
   ]
  },
  {
   "cell_type": "markdown",
   "id": "72f92087-81e0-47a6-b3ce-5b029b5677e2",
   "metadata": {},
   "source": [
    "##### Making predictions on the test set"
   ]
  },
  {
   "cell_type": "code",
   "execution_count": null,
   "id": "093bc1d7-7f1c-4156-97ee-df66d3702356",
   "metadata": {},
   "outputs": [],
   "source": [
    "# Transforming the numerical column of test set\n",
    "X_test[['USD Amount']]= scaler.transform(X_test[['USD Amount']])\n",
    "X_test.head()"
   ]
  },
  {
   "cell_type": "code",
   "execution_count": null,
   "id": "3d88ace9-8c54-47a8-a584-3b8ee7044387",
   "metadata": {},
   "outputs": [],
   "source": [
    "# Adding a constant\n",
    "X_test_sm = sm.add_constant(X_test)"
   ]
  },
  {
   "cell_type": "code",
   "execution_count": null,
   "id": "9359625e-1e98-469c-921b-e469d5ebc0e9",
   "metadata": {},
   "outputs": [],
   "source": [
    "#Making predictions on the test set\n",
    "\n",
    "y_test_pred = res.predict(X_test_sm)\n",
    "y_test_pred[:10]"
   ]
  },
  {
   "cell_type": "code",
   "execution_count": null,
   "id": "8aff7909-477c-46fc-9daf-da73b6c43db3",
   "metadata": {},
   "outputs": [],
   "source": [
    "# Converting y_pred to a dataframe which is an array\n",
    "y_pred_1 = pd.DataFrame(y_test_pred)"
   ]
  },
  {
   "cell_type": "code",
   "execution_count": null,
   "id": "f5c88e6c-5c67-4544-815b-7620b65ea3f8",
   "metadata": {},
   "outputs": [],
   "source": [
    "# Converting y_test to dataframe\n",
    "y_test_df = pd.DataFrame(y_test)"
   ]
  },
  {
   "cell_type": "code",
   "execution_count": null,
   "id": "4766f61a-e428-4dae-8bdc-8ba28b3e66dc",
   "metadata": {},
   "outputs": [],
   "source": [
    "# Putting CustID to index\n",
    "y_test_df['CustID'] = y_test_df.index"
   ]
  },
  {
   "cell_type": "code",
   "execution_count": null,
   "id": "b6bb601a-fc13-4510-a57f-7aedef88ab0b",
   "metadata": {},
   "outputs": [],
   "source": [
    "y_test_df.head()"
   ]
  },
  {
   "cell_type": "code",
   "execution_count": null,
   "id": "38749610-a1c1-428d-bc90-293221b39413",
   "metadata": {},
   "outputs": [],
   "source": [
    "# Removing index for both dataframes to append them side by side \n",
    "y_pred_1.reset_index(drop=True, inplace=True)\n",
    "y_test_df.reset_index(drop=True, inplace=True)"
   ]
  },
  {
   "cell_type": "code",
   "execution_count": null,
   "id": "8cc12f30-0b19-4498-b525-c54ded4b8d34",
   "metadata": {},
   "outputs": [],
   "source": [
    "# Appending y_test_df and y_pred_1\n",
    "y_pred_final = pd.concat([y_test_df, y_pred_1],axis=1)"
   ]
  },
  {
   "cell_type": "code",
   "execution_count": null,
   "id": "dc3d3277-38f0-499a-bbe3-a6f5abd078ad",
   "metadata": {},
   "outputs": [],
   "source": [
    "# Appending y_test_df and y_pred_1\n",
    "y_pred_final = pd.concat([y_test_df, y_pred_1],axis=1)    "
   ]
  },
  {
   "cell_type": "code",
   "execution_count": null,
   "id": "b3d5baf3-6f98-40a4-ae02-b2a6121ab066",
   "metadata": {},
   "outputs": [],
   "source": [
    "# Let's see the head of y_pred_final\n",
    "y_pred_final.head()"
   ]
  },
  {
   "cell_type": "code",
   "execution_count": null,
   "id": "4ac35411-e1f9-43dc-b339-55a112a4b28d",
   "metadata": {},
   "outputs": [],
   "source": [
    "# Creating final prediction on test set based on 0.6 cutoff\n",
    "y_pred_final['final_predicted'] = y_pred_final.Delay_Prob.map(lambda x: 1 if x >= 0.6 else 0)"
   ]
  },
  {
   "cell_type": "code",
   "execution_count": null,
   "id": "7f2fec34-3afd-4184-92b4-bc2112b3c7f3",
   "metadata": {},
   "outputs": [],
   "source": [
    "y_pred_final.head()"
   ]
  },
  {
   "cell_type": "code",
   "execution_count": null,
   "id": "4c9206e3-000c-413f-9f4e-051659372be0",
   "metadata": {},
   "outputs": [],
   "source": [
    "# Let's check the overall accuracy.\n",
    "accuracy_score(y_pred_final.default, y_pred_final.final_predicted)\n"
   ]
  },
  {
   "cell_type": "code",
   "execution_count": null,
   "id": "46970367-01de-4a72-8e50-6a51d6a8bf59",
   "metadata": {},
   "outputs": [],
   "source": [
    "#precision score\n",
    "precision_score(y_pred_final.default, y_pred_final.final_predicted)"
   ]
  },
  {
   "cell_type": "code",
   "execution_count": null,
   "id": "2689019c-6c99-4962-bef7-669e0a1dc180",
   "metadata": {},
   "outputs": [],
   "source": [
    "# Recall Score\n",
    "recall_score(y_pred.default, y_pred.final_predicted)"
   ]
  },
  {
   "cell_type": "markdown",
   "id": "4f5ec9aa-4c73-43d0-9ddd-74796b016808",
   "metadata": {},
   "source": [
    "#### Our train and test accuracy is almost same around 77.5 %"
   ]
  },
  {
   "cell_type": "markdown",
   "id": "10e44a6c-3c68-496e-8729-2bf0ed6d9469",
   "metadata": {},
   "source": [
    "#### Random Forest"
   ]
  },
  {
   "cell_type": "code",
   "execution_count": null,
   "id": "a72a7b95-77cc-4b18-abe2-1e3df7712005",
   "metadata": {},
   "outputs": [],
   "source": [
    "# importing necessary libraries\n",
    "\n",
    "from sklearn.ensemble import RandomForestClassifier\n",
    "from sklearn.metrics import classification_report\n",
    "from sklearn.model_selection import cross_val_score, GridSearchCV"
   ]
  },
  {
   "cell_type": "code",
   "execution_count": null,
   "id": "bcceeccf-6588-4291-8877-fc2aa2d35d3e",
   "metadata": {},
   "outputs": [],
   "source": [
    "reg_df.columns"
   ]
  },
  {
   "cell_type": "code",
   "execution_count": null,
   "id": "d4c94fc6-0b38-4795-8c95-b844df52a07d",
   "metadata": {},
   "outputs": [],
   "source": [
    "Index(['USD Amount', '15 Days from EOM', '30 Days from EOM',\n",
    "       '30 Days from Inv Date', '45 Days from EOM', '45 Days from Inv Date',\n",
    "       '60 Days from EOM', '60 Days from Inv Date', '90 Days from EOM',\n",
    "       '90 Days from Inv Date', 'Immediate Payment', 'DM', 'INV', 'CM',\n",
    "       'cluster_id', 'Invoice_Month'],\n",
    "      dtype='object')"
   ]
  },
  {
   "cell_type": "code",
   "execution_count": null,
   "id": "13aa8d30-7deb-4e1b-bfe4-dd3ad9d19ce8",
   "metadata": {},
   "outputs": [],
   "source": [
    "# creating X and y\n",
    "X= reg_df\n",
    "y= merged_df['default']"
   ]
  },
  {
   "cell_type": "code",
   "execution_count": null,
   "id": "f5def77f-e482-44c7-b487-e32887aa5e6c",
   "metadata": {},
   "outputs": [],
   "source": [
    "# Splitting into train and test set\n",
    "X_train_rf, X_test_rf, y_train_rf, y_test_rf = train_test_split(X, y, test_size=0.3, random_state=42)"
   ]
  },
  {
   "cell_type": "code",
   "execution_count": null,
   "id": "4bfb1a57-4dfa-4c1e-8ce0-8d7bfd775c88",
   "metadata": {},
   "outputs": [],
   "source": [
    "# Building a base random forest model to check the accuracy\n",
    "\n",
    "rf = RandomForestClassifier(random_state=42)\n",
    "rf.fit(X_train_rf, y_train_rf)"
   ]
  },
  {
   "cell_type": "code",
   "execution_count": null,
   "id": "306fa3eb-59ee-4604-829d-9385af6f18ae",
   "metadata": {},
   "outputs": [],
   "source": [
    "RandomForestClassifier(random_state=42)"
   ]
  },
  {
   "cell_type": "code",
   "execution_count": null,
   "id": "a3cf3701-5357-42a2-9dd5-82b9775f6135",
   "metadata": {},
   "outputs": [],
   "source": [
    "# predicted values\n",
    "y_train_pred_rf = rf.predict(X_train_rf)"
   ]
  },
  {
   "cell_type": "code",
   "execution_count": null,
   "id": "ef74bc5d-a526-4c04-ad2e-1511df53ee24",
   "metadata": {},
   "outputs": [],
   "source": [
    "# Checking accuracy and classification report\n",
    "accuracy = accuracy_score(y_train_rf, y_train_pred_rf)\n",
    "print(classification_report(y_train_rf, y_train_pred_rf))\n",
    "print(\"Accuracy is : \", accuracy)"
   ]
  },
  {
   "cell_type": "markdown",
   "id": "e954e99d-fe5c-4e1f-8412-9745c8e96979",
   "metadata": {},
   "source": [
    "#### Accuracy is :  0.957563070481937"
   ]
  },
  {
   "cell_type": "code",
   "execution_count": null,
   "id": "0e894300-71ef-4ce3-bfb8-176a96e752c0",
   "metadata": {},
   "outputs": [],
   "source": [
    "# Using cross validation to check if our model is overfitting\n",
    "\n",
    "rf_cv = RandomForestClassifier(random_state=42)\n",
    "\n",
    "# Compute cross-validation scores on the training data\n",
    "scores = cross_val_score(rf_cv, X_train_rf, y_train_rf, cv=5, scoring= 'recall')\n",
    "\n",
    "# Compute the mean and standard deviation of the cross-validation scores\n",
    "mean_score = scores.mean()\n",
    "std_score = scores.std()\n",
    "\n",
    "# Print the mean and standard deviation of the cross-validation scores\n",
    "print(\"Mean score:\", mean_score)\n",
    "print(\"Standard deviation:\", std_score)"
   ]
  },
  {
   "cell_type": "markdown",
   "id": "58807e44-b4eb-4624-8b05-4b1e8dc32e07",
   "metadata": {},
   "source": [
    "##### Mean score: 0.9548965957922156\n",
    "##### Standard deviation: 0.003277954728122406"
   ]
  },
  {
   "cell_type": "code",
   "execution_count": null,
   "id": "72e4e807-94c1-482e-aa29-f91c5b0145cf",
   "metadata": {},
   "outputs": [],
   "source": [
    "# Creating y_pred for test data\n",
    "y_test_pred_rf = rf.predict(X_test_rf)"
   ]
  },
  {
   "cell_type": "code",
   "execution_count": null,
   "id": "48ad3696-1a6d-40dc-95a9-388674b26f34",
   "metadata": {},
   "outputs": [],
   "source": [
    "# Checking accuracy and classification report of test data\n",
    "accuracy = accuracy_score(y_test_rf, y_test_pred_rf)\n",
    "print(classification_report(y_test_rf, y_test_pred_rf))\n",
    "print(\"Accuracy is : \", accuracy)"
   ]
  },
  {
   "cell_type": "markdown",
   "id": "f197d6ca-778c-49fb-accd-dd92891a8687",
   "metadata": {},
   "source": [
    "###### Accuracy is :  0.9234305415888522"
   ]
  },
  {
   "cell_type": "markdown",
   "id": "d146ce5e-f482-4f09-9f25-691aaf34de37",
   "metadata": {},
   "source": [
    "##### Hyperparameter Tuning"
   ]
  },
  {
   "cell_type": "code",
   "execution_count": null,
   "id": "dd8b8410-14ac-4690-97dd-4f6d6c896738",
   "metadata": {},
   "outputs": [],
   "source": [
    "#Using Grid search for hyper-parameter tuning\n",
    "param_grid = {\n",
    "    'n_estimators': [50, 100, 150],\n",
    "    'max_depth': [5, 10, 20,30],\n",
    "    'min_samples_split': [2, 5, 10],\n",
    "    'min_samples_leaf': [1, 2, 4],\n",
    "}\n",
    "\n",
    "rf = RandomForestClassifier(random_state=42)\n",
    "\n",
    "grid_search = GridSearchCV(rf, param_grid=param_grid, scoring='f1', cv=5, n_jobs= -1)\n",
    "\n",
    "grid_search.fit(X_train_rf, y_train_rf)\n",
    "\n",
    "# Best Hyperparameters\n",
    "print(\"Best hyperparameters:\", grid_search.best_params_)\n",
    "print(\"Best f1 score:\", grid_search.best_score_)\n",
    "\n",
    "best_rf = grid_search.best_estimator_\n",
    "y_pred_cv_rf = best_rf.predict(X_train_rf)\n",
    "\n",
    "print(classification_report(y_train_rf, y_pred_cv_rf))\n"
   ]
  },
  {
   "cell_type": "code",
   "execution_count": null,
   "id": "e79e8ea4-e6dd-48a1-ac6a-e7b888679f91",
   "metadata": {},
   "outputs": [],
   "source": [
    "# Test set (testing)\n",
    "\n",
    "y_pred_test_cv = best_rf.predict(X_test_rf)\n",
    "\n",
    "print(classification_report(y_test_rf,y_pred_test_cv))"
   ]
  },
  {
   "cell_type": "markdown",
   "id": "d1bd87de-0cc5-47e9-9abd-560eff5efb5f",
   "metadata": {},
   "source": [
    "##### From the above classification report, it can be seen that the f1-score for train and test set is 0.97 and 0.96, \n",
    "##### which implies that this is a good model. Hence moving forward with this as final model for prediction."
   ]
  },
  {
   "cell_type": "markdown",
   "id": "6a3cbcde-e94c-449f-8dcc-14cbe62649af",
   "metadata": {},
   "source": [
    "#### Checking feature importance"
   ]
  },
  {
   "cell_type": "code",
   "execution_count": null,
   "id": "998b9403-5a36-4602-ae03-62729fd24bb7",
   "metadata": {},
   "outputs": [],
   "source": [
    "importance = best_rf.feature_importances_\n",
    "sorted_idx = importance.argsort()[::-1]\n",
    "\n",
    "# Print the feature ranking\n",
    "print(\"Feature ranking:\")\n",
    "for i, idx in enumerate(sorted_idx):\n",
    "    print(f\"{i+1}. {X.columns[idx]} ({importance[idx]:.3f})\")"
   ]
  },
  {
   "cell_type": "markdown",
   "id": "b23e2c98-9496-4123-b6ca-6ac410d692c7",
   "metadata": {},
   "source": [
    "##### Preparing Open Invoice dataset for prediction"
   ]
  },
  {
   "cell_type": "markdown",
   "id": "9ef94846-1216-4510-851a-01939a423928",
   "metadata": {},
   "source": [
    "##### The open invoice data has a column 'AGE' which is calculated by taking the difference between Transaction Date and AS_OF_DATE. \n",
    "##### A positive value in the AGE column clearly indicates that the payment is already overdue. So, \n",
    "##### there is nothing to predict. But, a negative value in the AGE column means that the due date is yet to be crossed.\n",
    "##### Hence, the model should be able to predict whether the payment will be delayed or not only for those customers whose AGE value is negative."
   ]
  },
  {
   "cell_type": "code",
   "execution_count": null,
   "id": "75d2ad80-9ec0-4012-a7d3-18519e11b1f7",
   "metadata": {},
   "outputs": [],
   "source": [
    "# Selecting rows with negative age value for prediction\n",
    "open_reg_df_age = open_data[open_data['AGE'] < 0]\n",
    "open_reg_df_age.head()"
   ]
  },
  {
   "cell_type": "code",
   "execution_count": null,
   "id": "720d0191-44af-4a6d-af18-16d4dbc24267",
   "metadata": {},
   "outputs": [],
   "source": [
    "open_reg_df_age = pd.merge(open_reg_df_age, cust_dict, how='left', on='Customer_Name')"
   ]
  },
  {
   "cell_type": "code",
   "execution_count": null,
   "id": "449214b4-c2b2-474f-aaa0-fc5473c19503",
   "metadata": {},
   "outputs": [],
   "source": [
    "# Null counts\n",
    "round(open_reg_df_age.isna().sum()/len(open_reg_df_age.index), 4)"
   ]
  },
  {
   "cell_type": "markdown",
   "id": "15bb966f-d8c7-4049-b07e-111a53282407",
   "metadata": {},
   "source": [
    "\n",
    "##### cluster_id has 2.7 % null value counts, hence removing the null values for better model predicti\n",
    "##### as these null values are of new customers whose data is not present in the 'Received Payment data'."
   ]
  },
  {
   "cell_type": "code",
   "execution_count": null,
   "id": "d33cab3a-4e17-426f-9730-0ca61dab5ac6",
   "metadata": {},
   "outputs": [],
   "source": [
    "# Dropping the rows containing null values\n",
    "open_reg_df_age.dropna(axis=0, inplace=True)"
   ]
  },
  {
   "cell_type": "code",
   "execution_count": null,
   "id": "a695e48c-773f-4b46-8db5-917bf8ced8be",
   "metadata": {},
   "outputs": [],
   "source": [
    "open_reg_df_age.shape"
   ]
  },
  {
   "cell_type": "code",
   "execution_count": null,
   "id": "b86ed97e-037c-4529-a241-016d17d948d1",
   "metadata": {},
   "outputs": [],
   "source": [
    "open_reg_df_age.head()"
   ]
  },
  {
   "cell_type": "code",
   "execution_count": null,
   "id": "8d1e63ba-2f24-4069-b728-34e53ce5a9b6",
   "metadata": {},
   "outputs": [],
   "source": [
    "open_reg_df_age.info()"
   ]
  },
  {
   "cell_type": "code",
   "execution_count": null,
   "id": "61438b79-fb8b-44e1-aa7f-d54272873f3a",
   "metadata": {},
   "outputs": [],
   "source": [
    "# converting the cluster_id column to int\n",
    "open_reg_df_age['cluster_id'] = open_reg_df_age['cluster_id'].astype('Int64')"
   ]
  },
  {
   "cell_type": "code",
   "execution_count": null,
   "id": "d9a77828-e89c-4fbc-a2c7-89f2b3420aa8",
   "metadata": {},
   "outputs": [],
   "source": [
    "# Checking the head after adding 'cluster_id' column\n",
    "open_reg_df_age.head()"
   ]
  },
  {
   "cell_type": "code",
   "execution_count": null,
   "id": "18f2070f-bb67-4cfb-ad5b-309da1eab5b3",
   "metadata": {},
   "outputs": [],
   "source": [
    "# Creating a copy of open_reg_df_age for final prediction\n",
    "open_reg_df_final = open_reg_df_age.copy()"
   ]
  },
  {
   "cell_type": "code",
   "execution_count": null,
   "id": "d3bf1b34-8821-45e1-8210-13bc35f45ec3",
   "metadata": {},
   "outputs": [],
   "source": [
    "# Dropping Customer_Name and AGE column\n",
    "open_reg_df_final.drop(['Customer_Name', 'AGE'], axis=1, inplace=True)"
   ]
  },
  {
   "cell_type": "code",
   "execution_count": null,
   "id": "3f917748-e693-45ff-a361-cdbe43243418",
   "metadata": {},
   "outputs": [],
   "source": [
    "open_reg_df_final['Invoice_Month'] = open_reg_df_final['INV_CREATION_DATE'].dt.month # Extracting Month"
   ]
  },
  {
   "cell_type": "code",
   "execution_count": null,
   "id": "401c706a-7b9d-485e-aed7-24a53cdc1e0e",
   "metadata": {},
   "outputs": [],
   "source": [
    "# dropping due_date and invoice creation date\n",
    "\n",
    "open_reg_df_final.drop(['Due Date','INV_CREATION_DATE'], axis= 1, inplace= True)"
   ]
  },
  {
   "cell_type": "code",
   "execution_count": null,
   "id": "82477068-820c-495f-aac1-626b2222c4b4",
   "metadata": {},
   "outputs": [],
   "source": [
    "# Checking the columns in the dataset\n",
    "open_reg_df_final.columns"
   ]
  },
  {
   "cell_type": "markdown",
   "id": "0dba5466-2f3d-483a-8502-4d9954237dc5",
   "metadata": {},
   "source": [
    "##### Final Prediction based on Random Forest model"
   ]
  },
  {
   "cell_type": "code",
   "execution_count": null,
   "id": "051eb43f-e508-4741-ae15-b81b5f26ef29",
   "metadata": {},
   "outputs": [],
   "source": [
    "# getting predictions on open invoices\n",
    "\n",
    "y_open_invoices= best_rf.predict_proba(open_reg_df_final)[:,1]\n",
    "\n",
    "y_open_invoices"
   ]
  },
  {
   "cell_type": "code",
   "execution_count": null,
   "id": "bd547c96-6ac4-4cac-921c-2c87754035bb",
   "metadata": {},
   "outputs": [],
   "source": [
    "# Adding the predicted values to the dataframe\n",
    "open_reg_df_age['Pred_rf'] = y_open_invoices\n",
    "open_reg_df_age.head()"
   ]
  },
  {
   "cell_type": "code",
   "execution_count": null,
   "id": "36d18e54-7b6d-4136-9b3d-d57e8431a50f",
   "metadata": {},
   "outputs": [],
   "source": [
    "# Customer-wise model prediction\n",
    "customer_seg_prob= pd.DataFrame(open_reg_df_age.groupby('Customer_Name').prod()['Pred_rf'].round(4))\n",
    "customer_seg_prob"
   ]
  },
  {
   "cell_type": "code",
   "execution_count": null,
   "id": "80dd4a09-ea6b-419f-9560-b4ed18d77b7d",
   "metadata": {},
   "outputs": [],
   "source": [
    "# Taking 0.6 as cut off value\n",
    "open_reg_df_age['Final_Prediction'] = open_reg_df_age.Pred_rf.map(lambda x: 1 if x>0.6 else 0)\n"
   ]
  },
  {
   "cell_type": "code",
   "execution_count": null,
   "id": "8f65751b-6cf9-4d41-a398-49555fcef026",
   "metadata": {},
   "outputs": [],
   "source": [
    "# Let us check our final dataframe with predictions\n",
    "open_reg_df_age.head()"
   ]
  },
  {
   "cell_type": "code",
   "execution_count": null,
   "id": "194930b2-7c10-47fc-8d73-ad7a8d12d89f",
   "metadata": {},
   "outputs": [],
   "source": [
    "(open_reg_df_age.Final_Prediction.value_counts(normalize = True)*100).plot.pie(autopct='%1.1f%%')\n",
    "plt.title(\"Late payment distributions\")\n",
    "plt.show()"
   ]
  },
  {
   "cell_type": "code",
   "execution_count": null,
   "id": "0791d1b4-1b48-4fc8-80f4-91e0fbc14e20",
   "metadata": {},
   "outputs": [],
   "source": [
    "Text(0.5, 1.0, 'Late payment distributions')"
   ]
  },
  {
   "cell_type": "markdown",
   "id": "8f7894c1-ebbf-4907-a228-1064f99f3e67",
   "metadata": {},
   "source": [
    "##### From the above pie chart, we can observe that 50.2% payments in the open invoice data with AGE value negative(indicating due date not crossed)"
   ]
  },
  {
   "cell_type": "markdown",
   "id": "76c9d0f3-5b10-4f20-b5e2-113b16340728",
   "metadata": {},
   "source": [
    "##### Summary of prediction on Customers_name"
   ]
  },
  {
   "cell_type": "code",
   "execution_count": null,
   "id": "07b53ec9-16da-4a79-927b-18e9ca960cb6",
   "metadata": {},
   "outputs": [],
   "source": [
    "# Checking Customers with our target variable_delayed\n",
    "Delay_payment = open_reg_df_age.groupby(['Customer_Name'])['Final_Prediction'].sum()\n",
    "Delay_payment = Delay_payment.to_frame()\n",
    "Delay_payment = Delay_payment.sort_values(by ='Final_Prediction',ascending=False)"
   ]
  },
  {
   "cell_type": "code",
   "execution_count": null,
   "id": "44ac7328-ae7b-4bdb-bd3b-528929313718",
   "metadata": {},
   "outputs": [],
   "source": [
    "# Checking Customers for total invoice counts\n",
    "Delay_payment_total = open_reg_df_age.groupby(['Customer_Name'])['Final_Prediction'].count() # total payments by each customers\n",
    "Delay_payment_total = Delay_payment_total.to_frame()\n",
    "Delay_payment_total = Delay_payment_total.sort_values(by ='Final_Prediction',ascending=False)"
   ]
  },
  {
   "cell_type": "code",
   "execution_count": null,
   "id": "4dd1ca09-1d8e-4a35-bce5-3b6cb6692f89",
   "metadata": {},
   "outputs": [],
   "source": [
    "# Merging both dataframes based on Customer_name\n",
    "Merge_df=pd.merge(Delay_payment,Delay_payment_total,how='inner',on='Customer_Name')"
   ]
  },
  {
   "cell_type": "code",
   "execution_count": null,
   "id": "bd874e94-2b1d-4459-a7f8-055ace49c143",
   "metadata": {},
   "outputs": [],
   "source": [
    "# Renaming the columns\n",
    "Merge_df.columns=[\"Delayed_Payment\",\"Total_Payments\"]"
   ]
  },
  {
   "cell_type": "code",
   "execution_count": null,
   "id": "40ab5cc8-0d78-407c-8df2-666e1ed83698",
   "metadata": {},
   "outputs": [],
   "source": [
    "# Creating a column for delay percentage of each customers\n",
    "Merge_df['Delay%']=np.round(Merge_df['Delayed_Payment']/Merge_df['Total_Payments']*100,2)"
   ]
  },
  {
   "cell_type": "code",
   "execution_count": null,
   "id": "45320d66-f6a2-43fe-9b91-8c17a8c602a9",
   "metadata": {},
   "outputs": [],
   "source": [
    "# Checking Merge_df \n",
    "Merge_df.sort_values('Total_Payments',ascending=False)"
   ]
  },
  {
   "cell_type": "code",
   "execution_count": null,
   "id": "ca9c863f-36fa-4595-84c8-5fe0bd370787",
   "metadata": {},
   "outputs": [],
   "source": [
    "sns.barplot(data=open_reg_df_age, x='cluster_id', y='Final_Prediction', estimator=np.mean, palette='RdYlGn')\n",
    "plt.title(\"Cluster_ID with Late Payment ratio\")\n",
    "plt.xlabel(\"Cluster_ID\")\n",
    "plt.ylabel(\"Late Payment Ratio\")\n",
    "plt.show()\n",
    "#cluster ID 1 has significantly higher ratio of default than clusters 0 and 2"
   ]
  },
  {
   "cell_type": "code",
   "execution_count": null,
   "id": "77cc56ba-4426-43ee-a644-9c5d79f8df18",
   "metadata": {},
   "outputs": [],
   "source": [
    "Merge_df.sort_values(['Delay%','Total_Payments','Delayed_Payment'],ascending=[False,False,False]).head(10) # top 10 customers with highest delay rates"
   ]
  },
  {
   "cell_type": "markdown",
   "id": "29c81755-ba7d-4796-8388-66efa938407a",
   "metadata": {},
   "source": [
    "### Recommendations based on the derived insights:"
   ]
  },
  {
   "cell_type": "markdown",
   "id": "26c6b945-fd86-47dc-9598-f51fd07f3842",
   "metadata": {},
   "source": [
    "###### --From our clustering analysis we can make the following inference\n",
    "###### --Credit Note Payments observe the greatest delay rate compared to Debit Note or Invoice type invoice classes, \n",
    "###### hence company policies on payment collection could be made stricter around such invoice classes\n",
    "###### --Goods type invoices had significantly greater payment delay rates than non-goods types and hence can be\n",
    "###### subjected to stricter payment policies\n",
    "###### --Since lower value payments comprise of the majority of the transactions, also late payments are seen more on\n",
    "###### lower value payments, it is recommended to focus more on those. The company can apply penalties depending on\n",
    "###### billing amount, the lesser the bill, the greater the percentage of penalty on late payments. Ofcourse this has to be last resort\n",
    "###### -- customer segments were clustered into three categories, viz., 0,1 and 2 which mean medium, prolonged and early \n",
    "###### payment duration respectively. It was found that customers in cluster 1 (prolonged days) had significantly greater delay rates than early \n",
    "###### and medium days of payment, hence cluster 1 customers should be paid extensive focus\n",
    "###### --The above companies with the greatest probability and total & delayed payment counts should be first priority and should be focused on more due to \n",
    "###### such high probability rates"
   ]
  },
  {
   "cell_type": "code",
   "execution_count": null,
   "id": "36b2c5a7-315f-4195-8951-42dc24e2745e",
   "metadata": {},
   "outputs": [],
   "source": []
  }
 ],
 "metadata": {
  "kernelspec": {
   "display_name": "Python 3 (ipykernel)",
   "language": "python",
   "name": "python3"
  },
  "language_info": {
   "codemirror_mode": {
    "name": "ipython",
    "version": 3
   },
   "file_extension": ".py",
   "mimetype": "text/x-python",
   "name": "python",
   "nbconvert_exporter": "python",
   "pygments_lexer": "ipython3",
   "version": "3.12.4"
  }
 },
 "nbformat": 4,
 "nbformat_minor": 5
}
